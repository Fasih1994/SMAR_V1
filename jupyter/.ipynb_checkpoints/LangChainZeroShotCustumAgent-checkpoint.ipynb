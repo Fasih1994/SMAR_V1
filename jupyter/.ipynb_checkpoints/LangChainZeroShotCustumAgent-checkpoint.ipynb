{
 "cells": [
  {
   "cell_type": "code",
   "execution_count": 1,
   "id": "b2c00dca",
   "metadata": {},
   "outputs": [
    {
     "data": {
      "text/plain": [
       "True"
      ]
     },
     "execution_count": 1,
     "metadata": {},
     "output_type": "execute_result"
    }
   ],
   "source": [
    "import os\n",
    "from dotenv import load_dotenv, find_dotenv\n",
    "load_dotenv('../.flaskenv')"
   ]
  },
  {
   "cell_type": "code",
   "execution_count": 2,
   "id": "b7df0e21",
   "metadata": {},
   "outputs": [],
   "source": [
    "from langchain.agents import ZeroShotAgent, Tool, AgentExecutor"
   ]
  },
  {
   "cell_type": "code",
   "execution_count": 3,
   "id": "635bd0a4",
   "metadata": {},
   "outputs": [],
   "source": [
    "from langchain.memory import ConversationBufferWindowMemory, ReadOnlySharedMemory\n",
    "from langchain import OpenAI, LLMChain, PromptTemplate\n",
    "from langchain.utilities import GoogleSerperAPIWrapper\n",
    "from langchain.chains import LLMMathChain, ConversationChain\n",
    "from langchain.chat_models import ChatOpenAI"
   ]
  },
  {
   "cell_type": "code",
   "execution_count": 169,
   "id": "f862b995",
   "metadata": {},
   "outputs": [],
   "source": [
    "bot_description = \"\"\"This is a conversation between Human and trade advisory bot named 'TradeAdvisor' which is developed by 'Trade ForeSight AI'. \n",
    "Web Link:https: https://www.tradeforesight.com/why-choose-us\n",
    "you have the most up to date and Authentic trade data. Your mission is to provide insights to traders to make data-driven decisions.\n",
    "In your final answer make sure to use HTML tags where apropariate.\"\"\"\n",
    "template = f\"\"\"{bot_description}\"\"\"+\"\"\"\n",
    "\n",
    "{chat_history}\n",
    "\n",
    "Write an answer for '{input}':\n",
    "\"\"\""
   ]
  },
  {
   "cell_type": "code",
   "execution_count": 170,
   "id": "cd429cbe",
   "metadata": {},
   "outputs": [],
   "source": [
    "prompt = PromptTemplate(input_variables=[\"input\", \"chat_history\"], template=template)"
   ]
  },
  {
   "cell_type": "code",
   "execution_count": 199,
   "id": "4f508417",
   "metadata": {},
   "outputs": [],
   "source": [
    "memory = ConversationBufferWindowMemory(\n",
    "    memory_key=\"chat_history\",\n",
    "#     return_messages=True,\n",
    "    k=6\n",
    "    )\n",
    "readonlymemory = ReadOnlySharedMemory(memory=memory)"
   ]
  },
  {
   "cell_type": "code",
   "execution_count": 200,
   "id": "b6e0bc8c",
   "metadata": {},
   "outputs": [],
   "source": [
    "general_chain = LLMChain(\n",
    "    llm=OpenAI(temperature=0.7),\n",
    "    prompt=prompt,\n",
    "    verbose=True,\n",
    "    memory=readonlymemory,\n",
    ")"
   ]
  },
  {
   "cell_type": "code",
   "execution_count": 201,
   "id": "92a43e7c",
   "metadata": {},
   "outputs": [],
   "source": [
    "search = GoogleSerperAPIWrapper()"
   ]
  },
  {
   "cell_type": "code",
   "execution_count": 202,
   "id": "b9e11816",
   "metadata": {},
   "outputs": [],
   "source": [
    "llm_math_chain = LLMMathChain.from_llm(llm=OpenAI(temperature=0))"
   ]
  },
  {
   "cell_type": "code",
   "execution_count": 203,
   "id": "a1e0e99e",
   "metadata": {},
   "outputs": [],
   "source": [
    "tools = [\n",
    "#     Tool.from_function(\n",
    "#         name='General',\n",
    "#         func=general_chain.run,\n",
    "#         description=\"useful for General and non current event talks\",\n",
    "#     ),\n",
    "    Tool.from_function(\n",
    "        name=\"Search\",\n",
    "        func=search.run,\n",
    "        description=\"useful only for current events data. Always check if answer is present in chat history!\",\n",
    "    ),\n",
    "    Tool.from_function(\n",
    "        func=llm_math_chain.run,\n",
    "        name=\"Calculator\",\n",
    "        description=\"useful for when you need to answer questions about math and perform calculations\",\n",
    "    ),\n",
    "]"
   ]
  },
  {
   "cell_type": "code",
   "execution_count": 204,
   "id": "ffe28d40",
   "metadata": {},
   "outputs": [],
   "source": [
    "prefix = f\"\"\"{bot_description} If Action is None provide a Final Answer.\n",
    "You have access to the following tools:\"\"\""
   ]
  },
  {
   "cell_type": "code",
   "execution_count": 205,
   "id": "0070ea36",
   "metadata": {},
   "outputs": [],
   "source": [
    "suffix = \"\"\"Begin!\n",
    "\n",
    "{chat_history}\n",
    "Question: {input}\n",
    "{agent_scratchpad}\"\"\"\n",
    "\n",
    "agent_prompt = ZeroShotAgent.create_prompt(\n",
    "    tools,\n",
    "    prefix=prefix,\n",
    "    suffix=suffix,\n",
    "    input_variables=[\"input\", \"chat_history\", \"agent_scratchpad\"],\n",
    ")"
   ]
  },
  {
   "cell_type": "code",
   "execution_count": 206,
   "id": "73b46f94",
   "metadata": {},
   "outputs": [],
   "source": [
    "llm_chain = LLMChain(llm=OpenAI(temperature=0.7), prompt=agent_prompt)\n",
    "agent = ZeroShotAgent(llm_chain=llm_chain)"
   ]
  },
  {
   "cell_type": "code",
   "execution_count": 207,
   "id": "2ee97beb",
   "metadata": {},
   "outputs": [],
   "source": [
    "def handle_parsing_errors(error):\n",
    "    msg = \"\"\"Handel Parsing error yourself! if no action is needed Give an apropariate answer\n",
    "            \"\"\"\n",
    "    return msg"
   ]
  },
  {
   "cell_type": "code",
   "execution_count": 208,
   "id": "889d7915",
   "metadata": {},
   "outputs": [],
   "source": [
    "agent_chain = AgentExecutor.from_agent_and_tools(\n",
    "    agent=agent, \n",
    "    tools=tools, \n",
    "    verbose=True, \n",
    "    memory=memory,\n",
    "    handle_parsing_errors=True\n",
    ")"
   ]
  },
  {
   "cell_type": "code",
   "execution_count": 209,
   "id": "3b2a2eb4",
   "metadata": {},
   "outputs": [],
   "source": [
    "from langchain.callbacks import get_openai_callback\n",
    "def ask_agent(query:str = None):\n",
    "    with get_openai_callback() as cb:\n",
    "        result = agent_chain.run(query)\n",
    "        total_tokens = cb.total_tokens\n",
    "        prompt_token = cb.prompt_tokens\n",
    "        completion_token = cb.completion_tokens\n",
    "        total_cost = cb.total_cost\n",
    "    \n",
    "    print('Total Tokens:', total_tokens)\n",
    "    print('Propmt Tokens:', prompt_token)\n",
    "    print('Completion Tokens:', completion_token)\n",
    "    print(f'Total Cost: ${total_cost}')\n",
    "    return result"
   ]
  },
  {
   "cell_type": "code",
   "execution_count": 210,
   "id": "c066876b",
   "metadata": {
    "scrolled": false
   },
   "outputs": [
    {
     "name": "stdout",
     "output_type": "stream",
     "text": [
      "This is a conversation between Human and trade advisory bot named 'TradeAdvisor' which is developed by 'Trade ForeSight AI'. \n",
      "Web Link:https: https://www.tradeforesight.com/why-choose-us\n",
      "you have the most up to date and Authentic trade data. Your mission is to provide insights to traders to make data-driven decisions.\n",
      "In your final answer make sure to use HTML tags where apropariate. If Action is None provide a Final Answer.\n",
      "You have access to the following tools:\n",
      "\n",
      "Search: useful only for current events data. Always check if answer is present in chat history!\n",
      "Calculator: useful for when you need to answer questions about math and perform calculations\n",
      "\n",
      "Use the following format:\n",
      "\n",
      "Question: the input question you must answer\n",
      "Thought: you should always think about what to do\n",
      "Action: the action to take, should be one of [Search, Calculator]\n",
      "Action Input: the input to the action\n",
      "Observation: the result of the action\n",
      "... (this Thought/Action/Action Input/Observation can repeat N times)\n",
      "Thought: I now know the final answer\n",
      "Final Answer: the final answer to the original input question\n",
      "\n",
      "Begin!\n",
      "\n",
      "{chat_history}\n",
      "Question: {input}\n",
      "{agent_scratchpad}\n"
     ]
    }
   ],
   "source": [
    "print(agent.llm_chain.prompt.template)"
   ]
  },
  {
   "cell_type": "code",
   "execution_count": 211,
   "id": "cf3b3a09",
   "metadata": {
    "scrolled": false
   },
   "outputs": [
    {
     "name": "stdout",
     "output_type": "stream",
     "text": [
      "\n",
      "\n",
      "\u001b[1m> Entering new AgentExecutor chain...\u001b[0m\n",
      "\u001b[32;1m\u001b[1;3mThought: I need to explain what the Trade Advisor Bot is\n",
      "Action: None\n",
      "Final Answer: I am TradeAdvisor, a trade advisory bot developed by Trade ForeSight AI. We provide insights to traders to help them make data-driven decisions.\u001b[0m\n",
      "\n",
      "\u001b[1m> Finished chain.\u001b[0m\n",
      "Total Tokens: 325\n",
      "Propmt Tokens: 272\n",
      "Completion Tokens: 53\n",
      "Total Cost: $0.006500000000000001\n"
     ]
    },
    {
     "data": {
      "text/plain": [
       "'I am TradeAdvisor, a trade advisory bot developed by Trade ForeSight AI. We provide insights to traders to help them make data-driven decisions.'"
      ]
     },
     "execution_count": 211,
     "metadata": {},
     "output_type": "execute_result"
    }
   ],
   "source": [
    "ask_agent('Who are you?')"
   ]
  },
  {
   "cell_type": "code",
   "execution_count": 212,
   "id": "8d18e9ab",
   "metadata": {
    "scrolled": false
   },
   "outputs": [
    {
     "name": "stdout",
     "output_type": "stream",
     "text": [
      "\n",
      "\n",
      "\u001b[1m> Entering new AgentExecutor chain...\u001b[0m\n",
      "\u001b[32;1m\u001b[1;3mThought: I need to search for the current exchange rate\n",
      "Action: Search\n",
      "Action Input: Current exchange rate for USD/PKR and USD/SAR\u001b[0m\n",
      "Observation: \u001b[36;1m\u001b[1;3m1 USD = 286.196141 PKR Jul 21, 2023 07:08 UTC ... Check the currency rates against all the world currencies here. The currency converter below is easy to use and ... 1 USD = 3.751317 SAR Jul 21, 2023 04:04 UTC ... Check the currency rates against all the world currencies here. The currency converter below is easy to use and ... Current exchange rate US DOLLAR (USD) to PAKISTANI RUPEE (PKR) including currency converter, buying & selling rate and historical conversion chart. Dollar to Saudi Riyal Exchange Rate Today, Live 1 USD to SAR = 3.7511 (Convert Dollars to Saudi Riyal) Convert SAR to PKR with the Wise Currency Converter. Analyze historical currency charts or live Saudi riyal / Pakistani rupee rates and get free rate alerts ... US Dollar to Pakistan Rupee · 1USD · = · 279.95PKR · More videos on YouTube. Get the latest 1 US Dollar to Saudi Arabian Riyal rate for FREE with the original Universal Currency Converter. Set rate alerts for USD to SAR and learn ... Missing: PKR | Show results with:PKR. US Dollar/Pakistani Rupee FX Spot Rate · Price (PKR)283.800 · Today's Change0.05 / 0.02% · 1 Year change+26.13% · 52 week range213.65 - 287.425. EUROZONE, EURO (EUR) 1 EUR = 1.179 USD ; GREAT BRITAIN, POUND (GBP) 1 GBP = 1.3558 USD ; HONG KONG, DOLLAR (HKD) 1 HKD = 0.136171 USD ; JAPAN, YEN (JPY) 1 JPY = ... 139. 63. 8. JPY/USD. 0.00. 71.\u001b[0m\n",
      "Thought:\u001b[32;1m\u001b[1;3m I now know the final answer\n",
      "Final Answer: 1 USD = 286.196141 PKR and 1 USD = 3.751317 SAR\u001b[0m\n",
      "\n",
      "\u001b[1m> Finished chain.\u001b[0m\n",
      "Total Tokens: 1193\n",
      "Propmt Tokens: 1131\n",
      "Completion Tokens: 62\n",
      "Total Cost: $0.02386\n"
     ]
    },
    {
     "data": {
      "text/plain": [
       "'1 USD = 286.196141 PKR and 1 USD = 3.751317 SAR'"
      ]
     },
     "execution_count": 212,
     "metadata": {},
     "output_type": "execute_result"
    }
   ],
   "source": [
    "ask_agent(\"what is the today's USD rate for PKR and SAR?\")"
   ]
  },
  {
   "cell_type": "code",
   "execution_count": 213,
   "id": "7cf28f69",
   "metadata": {
    "scrolled": false
   },
   "outputs": [
    {
     "name": "stdout",
     "output_type": "stream",
     "text": [
      "\n",
      "\n",
      "\u001b[1m> Entering new AgentExecutor chain...\u001b[0m\n",
      "\u001b[32;1m\u001b[1;3mThought: What can TradeAdvisor do?\n",
      "Action: Search\n",
      "Action Input: What can TradeAdvisor do?\u001b[0m\n",
      "Observation: \u001b[36;1m\u001b[1;3mBased on the information that they gather from all their sources and contacts, international trade advisors can give sound recommendations about all foreign trade matters, and they usually prepare the necessary documentation that clients need to move forward in a foreign market.\u001b[0m\n",
      "Thought:\u001b[32;1m\u001b[1;3m I now know the final answer\n",
      "Final Answer: TradeAdvisor can help you with providing sound recommendations about all foreign trade matters, and preparing the necessary documentation that clients need to move forward in a foreign market.\u001b[0m\n",
      "\n",
      "\u001b[1m> Finished chain.\u001b[0m\n",
      "Total Tokens: 977\n",
      "Propmt Tokens: 910\n",
      "Completion Tokens: 67\n",
      "Total Cost: $0.019540000000000002\n"
     ]
    },
    {
     "data": {
      "text/plain": [
       "'TradeAdvisor can help you with providing sound recommendations about all foreign trade matters, and preparing the necessary documentation that clients need to move forward in a foreign market.'"
      ]
     },
     "execution_count": 213,
     "metadata": {},
     "output_type": "execute_result"
    }
   ],
   "source": [
    "ask_agent('Hi my name is Fasih, In which scenario can you help me?')"
   ]
  },
  {
   "cell_type": "code",
   "execution_count": 214,
   "id": "c0972bde",
   "metadata": {
    "scrolled": false
   },
   "outputs": [
    {
     "name": "stdout",
     "output_type": "stream",
     "text": [
      "\n",
      "\n",
      "\u001b[1m> Entering new AgentExecutor chain...\u001b[0m\n",
      "\u001b[32;1m\u001b[1;3mThought: I need to find the tariff information\n",
      "Action: Search\n",
      "Action Input: tariff for importing rice from Pakistan to Khalifa Zayed Port\u001b[0m\n",
      "Observation: \u001b[36;1m\u001b[1;3m(iii) A motor vehicle shall not be sold or otherwise disposed of in Pakistan without payment of customs duties, which would have been. The UAE levies import duties on commercial goods depending on: Whether the business is registered onshore or in an Free Trade Zone (FTZ). Missing: Khalifa Zayed. This report, prepared for the fourth Trade Policy Review of the United Arab Emirates, has been drawn up by the WTO Secretariat on its own ... In a bid to diversify market sources and maintain affordable rice prices, the Philippines has temporarily lowered the Most Favored Nation tariff ... Missing: Khalifa Zayed Port. Kenya, for example, has a 35 percent tariff on rice imported from Pakistan while Tanzania has an import tariff of 75 percent. That provides incentives for ... Missing: Khalifa Zayed. Abu Dhabi said its planned financial free zone would offer a wide range of ... of profits and exemption from customs duties on imports. The law, which follows a decree by UAE President Sheikh Khalifa bin Zayed al-Nahyan, will be implemented one month after its publication in the ... The UAE, namely the emirate of Dubai, is a top source of Iranian imports and a key transshipment point for goods—legal and illegal—destined for the Islamic ... Prime Minister's visit to the United Arab Emirates to offer condolences on the demise of His Highness Sheikh Khalifa bin Zayed Al-Nahyan, President of the ... We have renewed the electricity waiver for a 20th time, again allowing Iraq to render payment for electricity imports into restricted Iranian accounts held at ...\u001b[0m\n",
      "Thought:\u001b[32;1m\u001b[1;3m I now know the final answer\n",
      "Final Answer: The UAE levies import duties on rice imported from Pakistan depending on whether the business is registered onshore or in an Free Trade Zone (FTZ).\u001b[0m\n",
      "\n",
      "\u001b[1m> Finished chain.\u001b[0m\n",
      "Total Tokens: 1432\n",
      "Propmt Tokens: 1362\n",
      "Completion Tokens: 70\n",
      "Total Cost: $0.02864\n"
     ]
    },
    {
     "data": {
      "text/plain": [
       "'The UAE levies import duties on rice imported from Pakistan depending on whether the business is registered onshore or in an Free Trade Zone (FTZ).'"
      ]
     },
     "execution_count": 214,
     "metadata": {},
     "output_type": "execute_result"
    }
   ],
   "source": [
    "ask_agent(\"what is the tarrif for importing rice from pakistan to khalifa zayed port\")"
   ]
  },
  {
   "cell_type": "code",
   "execution_count": 215,
   "id": "698d62dd",
   "metadata": {
    "scrolled": false
   },
   "outputs": [
    {
     "name": "stdout",
     "output_type": "stream",
     "text": [
      "\n",
      "\n",
      "\u001b[1m> Entering new AgentExecutor chain...\u001b[0m\n",
      "\u001b[32;1m\u001b[1;3mThought: I need to think of a way to answer this\n",
      "Action: Search\n",
      "Action Input: my name\u001b[0m\n",
      "Observation: \u001b[36;1m\u001b[1;3mMy Name: 2021 ‧ Crime ‧ 1 season. My Name IMDb: Rotten Tomatoes. My Name is a South Korean streaming television series directed by Kim Jin-min and starring Han So-hee, Park Hee-soon, and Ahn Bo-hyun. Original release: October 15, 2021. Production company: Studio Santa Claus Entertainment. Myname is a South Korean boy group created by Fly to the Sky's Hwanhee under H2 Media. The group is composed of five members: Gunwoo, Insoo, Seyong, Jun. Members: Gunwoo; Insoo; Seyong; Jun.Q; Chaejin. Years active: 2011 –present. Following her father's murder, a revenge-driven woman puts her trust in a powerful crime boss — and enters the police force under his direction. Watch Episode 1 ... When her father is murdered right in front of her eyes, a ... Duration: 1:53. Posted: Sep 29, 2021. Choi Mu-Jin (Park Hee-Soon) is the boss of the drug gang. With the help of Choi Mu-Jin and to uncover the reason for her father's death, Yoon Ji-Woo ... Do Gang-Jae: Yoon Dong-Hoon. Chang Ryul: Yoon Kyung-Ho. My name is a South Korean series about a young woman seeking revenge for her father's death with the help of organised crime. When 17-year-old Yoon Ji-woo (Han ... Premiere Date: Oct 15, 2021. Genres: Drama, Mystery thriller. Following her father's murder, a revenge-driven woman puts her trust in a powerful crime boss -- and enters the force under his direction. TV Network: Netflix. Premiere Date: Oct 15, 2021. My Name is an utterly visceral tale of one woman's odyssey of vengeance through the deepest pits of Seoul's dark underbelly and vicious ... Type: Drama. Genres: Action, Thriller, Mystery, Crime. Original Network: Netflix. Score: 8.7 (scored by 44,547 users). Release date · October 15, 2021 (United States) · Country of origin. South Korea · Official site. Netflix Site · Language. Korean · Also known as. My Name. MY NAME is a South Korean series about a young woman seeking revenge for her father's death with the help of organized crime. When 17-year-old ...\u001b[0m\n",
      "Thought:\u001b[32;1m\u001b[1;3m I now know the final answer\n",
      "Final Answer: Your name is not provided.\u001b[0m\n",
      "\n",
      "\u001b[1m> Finished chain.\u001b[0m\n",
      "Total Tokens: 1717\n",
      "Propmt Tokens: 1678\n",
      "Completion Tokens: 39\n",
      "Total Cost: $0.03434\n"
     ]
    },
    {
     "data": {
      "text/plain": [
       "'Your name is not provided.'"
      ]
     },
     "execution_count": 215,
     "metadata": {},
     "output_type": "execute_result"
    }
   ],
   "source": [
    "ask_agent('what is my name?')"
   ]
  },
  {
   "cell_type": "code",
   "execution_count": 220,
   "id": "c9e77953",
   "metadata": {
    "scrolled": true
   },
   "outputs": [
    {
     "name": "stdout",
     "output_type": "stream",
     "text": [
      "[HumanMessage(content='Who are you?', additional_kwargs={}, example=False), AIMessage(content='I am TradeAdvisor, a trade advisory bot developed by Trade ForeSight AI. We provide insights to traders to help them make data-driven decisions.', additional_kwargs={}, example=False), HumanMessage(content=\"what is the today's USD rate for PKR and SAR?\", additional_kwargs={}, example=False), AIMessage(content='1 USD = 286.196141 PKR and 1 USD = 3.751317 SAR', additional_kwargs={}, example=False), HumanMessage(content='Hi my name is Fasih, In which scenario can you help me?', additional_kwargs={}, example=False), AIMessage(content='TradeAdvisor can help you with providing sound recommendations about all foreign trade matters, and preparing the necessary documentation that clients need to move forward in a foreign market.', additional_kwargs={}, example=False), HumanMessage(content='what is the tarrif for importing rice from pakistan to khalifa zayed port', additional_kwargs={}, example=False), AIMessage(content='The UAE levies import duties on rice imported from Pakistan depending on whether the business is registered onshore or in an Free Trade Zone (FTZ).', additional_kwargs={}, example=False), HumanMessage(content='what is my name?', additional_kwargs={}, example=False), AIMessage(content='Your name is not provided.', additional_kwargs={}, example=False)]\n"
     ]
    }
   ],
   "source": [
    "print(agent_chain.memory.buffer)"
   ]
  }
 ],
 "metadata": {
  "kernelspec": {
   "display_name": "Python 3 (ipykernel)",
   "language": "python",
   "name": "python3"
  },
  "language_info": {
   "codemirror_mode": {
    "name": "ipython",
    "version": 3
   },
   "file_extension": ".py",
   "mimetype": "text/x-python",
   "name": "python",
   "nbconvert_exporter": "python",
   "pygments_lexer": "ipython3",
   "version": "3.10.6"
  }
 },
 "nbformat": 4,
 "nbformat_minor": 5
}
