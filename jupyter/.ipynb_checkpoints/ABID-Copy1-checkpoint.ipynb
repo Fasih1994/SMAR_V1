{
 "cells": [
  {
   "cell_type": "code",
   "execution_count": 10,
   "id": "324706d5",
   "metadata": {
    "scrolled": true
   },
   "outputs": [],
   "source": [
    "#!pip install chromadb"
   ]
  },
  {
   "cell_type": "code",
   "execution_count": 7,
   "id": "7f6494ca",
   "metadata": {},
   "outputs": [
    {
     "data": {
      "text/plain": [
       "True"
      ]
     },
     "execution_count": 7,
     "metadata": {},
     "output_type": "execute_result"
    }
   ],
   "source": [
    "from dotenv import load_dotenv\n",
    "load_dotenv('../.flaskenv')"
   ]
  },
  {
   "cell_type": "code",
   "execution_count": 12,
   "id": "d4b1da97",
   "metadata": {},
   "outputs": [],
   "source": [
    "from langchain.document_loaders import CSVLoader\n",
    "from langchain.indexes import VectorstoreIndexCreator\n",
    "from langchain.callbacks import get_openai_callback"
   ]
  },
  {
   "cell_type": "code",
   "execution_count": 2,
   "id": "bf2a4f6c",
   "metadata": {},
   "outputs": [],
   "source": [
    "loader = CSVLoader(file_path='data/adib-data.csv')"
   ]
  },
  {
   "cell_type": "code",
   "execution_count": 5,
   "id": "0bb7bbc6",
   "metadata": {},
   "outputs": [],
   "source": [
    "data = loader.load()"
   ]
  },
  {
   "cell_type": "code",
   "execution_count": 11,
   "id": "d8e114ed",
   "metadata": {},
   "outputs": [],
   "source": [
    "index = VectorstoreIndexCreator().from_loaders([loader])"
   ]
  },
  {
   "cell_type": "code",
   "execution_count": 28,
   "id": "3ee89d12",
   "metadata": {},
   "outputs": [],
   "source": [
    "question = \"What was the customer financing in 2018?\""
   ]
  },
  {
   "cell_type": "code",
   "execution_count": 19,
   "id": "727f98a6",
   "metadata": {},
   "outputs": [],
   "source": [
    "with get_openai_callback() as cb:\n",
    "        result = index.query(question)\n",
    "        total_tokens = cb.total_tokens\n",
    "        prompt_token = cb.prompt_tokens\n",
    "        completion_token = cb.completion_tokens\n",
    "        total_cost = cb.total_cost"
   ]
  },
  {
   "cell_type": "code",
   "execution_count": 20,
   "id": "2385ade8",
   "metadata": {},
   "outputs": [
    {
     "name": "stdout",
     "output_type": "stream",
     "text": [
      " I don't know.\n",
      "113\n"
     ]
    }
   ],
   "source": [
    "print(result)\n",
    "print(total_tokens)"
   ]
  },
  {
   "cell_type": "code",
   "execution_count": 102,
   "id": "8b6d7e13",
   "metadata": {},
   "outputs": [],
   "source": [
    "from langchain import OpenAI\n",
    "from langchain.agents import create_pandas_dataframe_agent\n",
    "import pandas as pd\n",
    "pd.set_option('display.max_rows',None)\n",
    "pd.set_option('display.max_columns',None)"
   ]
  },
  {
   "cell_type": "code",
   "execution_count": 129,
   "id": "992b0d3b",
   "metadata": {
    "scrolled": false
   },
   "outputs": [
    {
     "data": {
      "text/html": [
       "<div>\n",
       "<style scoped>\n",
       "    .dataframe tbody tr th:only-of-type {\n",
       "        vertical-align: middle;\n",
       "    }\n",
       "\n",
       "    .dataframe tbody tr th {\n",
       "        vertical-align: top;\n",
       "    }\n",
       "\n",
       "    .dataframe thead th {\n",
       "        text-align: right;\n",
       "    }\n",
       "</style>\n",
       "<table border=\"1\" class=\"dataframe\">\n",
       "  <thead>\n",
       "    <tr style=\"text-align: right;\">\n",
       "      <th></th>\n",
       "      <th>Periods</th>\n",
       "      <th>Cash and balances with central banks</th>\n",
       "      <th>Due from financial institutions</th>\n",
       "      <th>Customer financing</th>\n",
       "      <th>Investments</th>\n",
       "      <th>Investment in associates</th>\n",
       "      <th>Investment and development properties</th>\n",
       "      <th>Other assets/ Property and Equipement/ Goodwill and Intangibles</th>\n",
       "      <th>Total assets</th>\n",
       "      <th>Due to financial institutions</th>\n",
       "      <th>Total deposits</th>\n",
       "      <th>Other liabilities</th>\n",
       "      <th>Total liabilities</th>\n",
       "      <th>Share capital</th>\n",
       "      <th>Legal reserve</th>\n",
       "      <th>General reserve</th>\n",
       "      <th>Credit risk reserve</th>\n",
       "      <th>Retained earnings</th>\n",
       "      <th>Proposed dividends</th>\n",
       "      <th>Other reserves</th>\n",
       "      <th>Equity attributable to shareholders of the bank</th>\n",
       "      <th>Tier 1 sukuk</th>\n",
       "      <th>Non - controlling interest</th>\n",
       "      <th>Equity attributable to equity holders of the bank</th>\n",
       "      <th>Total liabilities and equity</th>\n",
       "    </tr>\n",
       "  </thead>\n",
       "  <tbody>\n",
       "    <tr>\n",
       "      <th>0</th>\n",
       "      <td>For Year 2017</td>\n",
       "      <td>21467</td>\n",
       "      <td>4891</td>\n",
       "      <td>76530</td>\n",
       "      <td>11579</td>\n",
       "      <td>989</td>\n",
       "      <td>1931</td>\n",
       "      <td>5892</td>\n",
       "      <td>123278</td>\n",
       "      <td>3689</td>\n",
       "      <td>100004</td>\n",
       "      <td>3012</td>\n",
       "      <td>106704</td>\n",
       "      <td>3168</td>\n",
       "      <td>2102</td>\n",
       "      <td>1716</td>\n",
       "      <td>400</td>\n",
       "      <td>3302</td>\n",
       "      <td>944.0</td>\n",
       "      <td>-743</td>\n",
       "      <td>10889</td>\n",
       "      <td>5673</td>\n",
       "      <td>11</td>\n",
       "      <td>16573</td>\n",
       "      <td>123278</td>\n",
       "    </tr>\n",
       "    <tr>\n",
       "      <th>1</th>\n",
       "      <td>For Year 2018</td>\n",
       "      <td>18731</td>\n",
       "      <td>5250</td>\n",
       "      <td>78677</td>\n",
       "      <td>13667</td>\n",
       "      <td>1206</td>\n",
       "      <td>2233</td>\n",
       "      <td>5429</td>\n",
       "      <td>125194</td>\n",
       "      <td>4138</td>\n",
       "      <td>100404</td>\n",
       "      <td>2915</td>\n",
       "      <td>107457</td>\n",
       "      <td>3632</td>\n",
       "      <td>2641</td>\n",
       "      <td>1981</td>\n",
       "      <td>400</td>\n",
       "      <td>5152</td>\n",
       "      <td>31.0</td>\n",
       "      <td>-865</td>\n",
       "      <td>12971</td>\n",
       "      <td>4754</td>\n",
       "      <td>11</td>\n",
       "      <td>17736</td>\n",
       "      <td>125193</td>\n",
       "    </tr>\n",
       "    <tr>\n",
       "      <th>2</th>\n",
       "      <td>For Year 2019</td>\n",
       "      <td>19823</td>\n",
       "      <td>3363</td>\n",
       "      <td>81108</td>\n",
       "      <td>12940</td>\n",
       "      <td>1281</td>\n",
       "      <td>2086</td>\n",
       "      <td>5385</td>\n",
       "      <td>125987</td>\n",
       "      <td>2461</td>\n",
       "      <td>101404</td>\n",
       "      <td>3018</td>\n",
       "      <td>106884</td>\n",
       "      <td>3632</td>\n",
       "      <td>2641</td>\n",
       "      <td>2250</td>\n",
       "      <td>400</td>\n",
       "      <td>5757</td>\n",
       "      <td>20.0</td>\n",
       "      <td>-362</td>\n",
       "      <td>14338</td>\n",
       "      <td>4754</td>\n",
       "      <td>11</td>\n",
       "      <td>19103</td>\n",
       "      <td>125987</td>\n",
       "    </tr>\n",
       "    <tr>\n",
       "      <th>3</th>\n",
       "      <td>For Year 2020</td>\n",
       "      <td>19580</td>\n",
       "      <td>2420</td>\n",
       "      <td>83409</td>\n",
       "      <td>13809</td>\n",
       "      <td>1302</td>\n",
       "      <td>2024</td>\n",
       "      <td>5273</td>\n",
       "      <td>127816</td>\n",
       "      <td>3773</td>\n",
       "      <td>101276</td>\n",
       "      <td>3605</td>\n",
       "      <td>108654</td>\n",
       "      <td>3632</td>\n",
       "      <td>2641</td>\n",
       "      <td>2407</td>\n",
       "      <td>400</td>\n",
       "      <td>5671</td>\n",
       "      <td>NaN</td>\n",
       "      <td>-355</td>\n",
       "      <td>14396</td>\n",
       "      <td>4754</td>\n",
       "      <td>11</td>\n",
       "      <td>19162</td>\n",
       "      <td>127816</td>\n",
       "    </tr>\n",
       "    <tr>\n",
       "      <th>4</th>\n",
       "      <td>For Year 2021</td>\n",
       "      <td>21699</td>\n",
       "      <td>4530</td>\n",
       "      <td>88252</td>\n",
       "      <td>13691</td>\n",
       "      <td>1604</td>\n",
       "      <td>2003</td>\n",
       "      <td>5089</td>\n",
       "      <td>136868</td>\n",
       "      <td>3536</td>\n",
       "      <td>109611</td>\n",
       "      <td>3162</td>\n",
       "      <td>116309</td>\n",
       "      <td>3632</td>\n",
       "      <td>2641</td>\n",
       "      <td>2634</td>\n",
       "      <td>400</td>\n",
       "      <td>6741</td>\n",
       "      <td>NaN</td>\n",
       "      <td>-255</td>\n",
       "      <td>15793</td>\n",
       "      <td>4754</td>\n",
       "      <td>12</td>\n",
       "      <td>20559</td>\n",
       "      <td>136868</td>\n",
       "    </tr>\n",
       "    <tr>\n",
       "      <th>5</th>\n",
       "      <td>For Year 2022</td>\n",
       "      <td>24229</td>\n",
       "      <td>7441</td>\n",
       "      <td>107717</td>\n",
       "      <td>19432</td>\n",
       "      <td>776</td>\n",
       "      <td>1992</td>\n",
       "      <td>6930</td>\n",
       "      <td>168517</td>\n",
       "      <td>2834</td>\n",
       "      <td>138137</td>\n",
       "      <td>4086</td>\n",
       "      <td>145056</td>\n",
       "      <td>3632</td>\n",
       "      <td>2641</td>\n",
       "      <td>2976</td>\n",
       "      <td>400</td>\n",
       "      <td>8642</td>\n",
       "      <td>NaN</td>\n",
       "      <td>-565</td>\n",
       "      <td>17726</td>\n",
       "      <td>4754</td>\n",
       "      <td>980</td>\n",
       "      <td>23461</td>\n",
       "      <td>168517</td>\n",
       "    </tr>\n",
       "  </tbody>\n",
       "</table>\n",
       "</div>"
      ],
      "text/plain": [
       "         Periods  Cash and balances with central banks  \\\n",
       "0  For Year 2017                                 21467   \n",
       "1  For Year 2018                                 18731   \n",
       "2  For Year 2019                                 19823   \n",
       "3  For Year 2020                                 19580   \n",
       "4  For Year 2021                                 21699   \n",
       "5  For Year 2022                                 24229   \n",
       "\n",
       "   Due from financial institutions  Customer financing  Investments  \\\n",
       "0                             4891               76530        11579   \n",
       "1                             5250               78677        13667   \n",
       "2                             3363               81108        12940   \n",
       "3                             2420               83409        13809   \n",
       "4                             4530               88252        13691   \n",
       "5                             7441              107717        19432   \n",
       "\n",
       "   Investment in associates  Investment and development properties  \\\n",
       "0                       989                                   1931   \n",
       "1                      1206                                   2233   \n",
       "2                      1281                                   2086   \n",
       "3                      1302                                   2024   \n",
       "4                      1604                                   2003   \n",
       "5                       776                                   1992   \n",
       "\n",
       "   Other assets/ Property and Equipement/ Goodwill and Intangibles  \\\n",
       "0                                               5892                 \n",
       "1                                               5429                 \n",
       "2                                               5385                 \n",
       "3                                               5273                 \n",
       "4                                               5089                 \n",
       "5                                               6930                 \n",
       "\n",
       "   Total assets  Due to financial institutions  Total deposits  \\\n",
       "0        123278                           3689          100004   \n",
       "1        125194                           4138          100404   \n",
       "2        125987                           2461          101404   \n",
       "3        127816                           3773          101276   \n",
       "4        136868                           3536          109611   \n",
       "5        168517                           2834          138137   \n",
       "\n",
       "   Other liabilities  Total liabilities  Share capital   Legal reserve  \\\n",
       "0               3012             106704            3168           2102   \n",
       "1               2915             107457            3632           2641   \n",
       "2               3018             106884            3632           2641   \n",
       "3               3605             108654            3632           2641   \n",
       "4               3162             116309            3632           2641   \n",
       "5               4086             145056            3632           2641   \n",
       "\n",
       "   General reserve  Credit risk reserve  Retained earnings  \\\n",
       "0             1716                  400               3302   \n",
       "1             1981                  400               5152   \n",
       "2             2250                  400               5757   \n",
       "3             2407                  400               5671   \n",
       "4             2634                  400               6741   \n",
       "5             2976                  400               8642   \n",
       "\n",
       "   Proposed dividends  Other reserves  \\\n",
       "0               944.0            -743   \n",
       "1                31.0            -865   \n",
       "2                20.0            -362   \n",
       "3                 NaN            -355   \n",
       "4                 NaN            -255   \n",
       "5                 NaN            -565   \n",
       "\n",
       "   Equity attributable to shareholders of the bank  Tier 1 sukuk   \\\n",
       "0                                            10889           5673   \n",
       "1                                            12971           4754   \n",
       "2                                            14338           4754   \n",
       "3                                            14396           4754   \n",
       "4                                            15793           4754   \n",
       "5                                            17726           4754   \n",
       "\n",
       "   Non - controlling interest  \\\n",
       "0                          11   \n",
       "1                          11   \n",
       "2                          11   \n",
       "3                          11   \n",
       "4                          12   \n",
       "5                         980   \n",
       "\n",
       "   Equity attributable to equity holders of the bank  \\\n",
       "0                                              16573   \n",
       "1                                              17736   \n",
       "2                                              19103   \n",
       "3                                              19162   \n",
       "4                                              20559   \n",
       "5                                              23461   \n",
       "\n",
       "   Total liabilities and equity  \n",
       "0                        123278  \n",
       "1                        125193  \n",
       "2                        125987  \n",
       "3                        127816  \n",
       "4                        136868  \n",
       "5                        168517  "
      ]
     },
     "execution_count": 129,
     "metadata": {},
     "output_type": "execute_result"
    }
   ],
   "source": [
    "df = pd.read_csv('data/ADIB3.csv')\n",
    "df"
   ]
  },
  {
   "cell_type": "code",
   "execution_count": 130,
   "id": "9c1ff1cc",
   "metadata": {},
   "outputs": [
    {
     "data": {
      "text/plain": [
       "Periods                                                             object\n",
       "Cash and balances with central banks                                 int64\n",
       "Due from financial institutions                                      int64\n",
       "Customer financing                                                   int64\n",
       "Investments                                                          int64\n",
       "Investment in associates                                             int64\n",
       "Investment and development properties                                int64\n",
       "Other assets/ Property and Equipement/ Goodwill and Intangibles      int64\n",
       "Total assets                                                         int64\n",
       "Due to financial institutions                                        int64\n",
       "Total deposits                                                       int64\n",
       "Other liabilities                                                    int64\n",
       "Total liabilities                                                    int64\n",
       "Share capital                                                        int64\n",
       "Legal reserve                                                        int64\n",
       "General reserve                                                      int64\n",
       "Credit risk reserve                                                  int64\n",
       "Retained earnings                                                    int64\n",
       "Proposed dividends                                                 float64\n",
       "Other reserves                                                       int64\n",
       "Equity attributable to shareholders of the bank                      int64\n",
       "Tier 1 sukuk                                                         int64\n",
       "Non - controlling interest                                           int64\n",
       "Equity attributable to equity holders of the bank                    int64\n",
       "Total liabilities and equity                                         int64\n",
       "dtype: object"
      ]
     },
     "execution_count": 130,
     "metadata": {},
     "output_type": "execute_result"
    }
   ],
   "source": [
    "df.dtypes"
   ]
  },
  {
   "cell_type": "code",
   "execution_count": 131,
   "id": "f56ff2cc",
   "metadata": {},
   "outputs": [],
   "source": [
    "agent = create_pandas_dataframe_agent(OpenAI(temperature=0.6), df, verbose=True)"
   ]
  },
  {
   "cell_type": "code",
   "execution_count": 132,
   "id": "7f9a06b7",
   "metadata": {},
   "outputs": [],
   "source": [
    "def ask_agent(agent, query):\n",
    "    \"\"\"\n",
    "    Query an agent and return the response as a string.\n",
    "\n",
    "    Args:\n",
    "        agent: The agent to query.\n",
    "        query: The query to ask the agent.\n",
    "\n",
    "    Returns:\n",
    "        The response from the agent as a string.\n",
    "    \"\"\"\n",
    "    # Prepare the prompt with query guidelines and formatting\n",
    "    prompt = (\n",
    "        \"\"\"\n",
    "        For plain question answer in plain human like manner.\n",
    "        For example:\n",
    "        \"The Product with the highest Orders is '15143Exfo'\"\n",
    "\n",
    "        If the answer is not known or available, respond with:\n",
    "        \"I do not know.\"\n",
    "        \n",
    "        Here's the query for you to work on: \n",
    "        \"\"\"\n",
    "        + query\n",
    "    )\n",
    "\n",
    "    # Run the prompt through the agent and capture the response.\n",
    "    with get_openai_callback() as cb:\n",
    "        response = agent.run(prompt)\n",
    "        total_tokens = cb.total_tokens\n",
    "        prompt_token = cb.prompt_tokens\n",
    "        completion_token = cb.completion_tokens\n",
    "        total_cost = cb.total_cost\n",
    "    print(\"total token used:\", total_tokens, 'costing:', total_cost)\n",
    "\n",
    "    # Return the response converted to a string.\n",
    "    return str(response)"
   ]
  },
  {
   "cell_type": "code",
   "execution_count": 133,
   "id": "59f6b480",
   "metadata": {
    "scrolled": false
   },
   "outputs": [],
   "source": [
    "question = \"What was the customer financing in 2018?\"\n",
    "question2 = \"What was the other assets 2020?\"\n",
    "question3 = \"What was the investments in 2021?\"\n",
    "question4 = \"What was the difference between investments of 2021 and 2019?\""
   ]
  },
  {
   "cell_type": "code",
   "execution_count": 134,
   "id": "ff5f4417",
   "metadata": {},
   "outputs": [
    {
     "name": "stdout",
     "output_type": "stream",
     "text": [
      "\n",
      "\n",
      "\u001b[1m> Entering new AgentExecutor chain...\u001b[0m\n",
      "\u001b[32;1m\u001b[1;3m\n",
      "Thought: I need to look at the customer financing column in row 1\n",
      "Action: python_repl_ast\n",
      "Action Input: df.iloc[1]['Customer financing']\u001b[0m\n",
      "Observation: \u001b[36;1m\u001b[1;3m78677\u001b[0m\n",
      "Thought:\u001b[32;1m\u001b[1;3m I now know the final answer\n",
      "Final Answer: The customer financing in 2018 was 78677.\u001b[0m\n",
      "\n",
      "\u001b[1m> Finished chain.\u001b[0m\n",
      "total token used: 2361 costing: 0.04722\n",
      "The customer financing in 2018 was 78677.\n"
     ]
    }
   ],
   "source": [
    "response = ask_agent(agent=agent, query=question)\n",
    "print(response)"
   ]
  },
  {
   "cell_type": "code",
   "execution_count": 135,
   "id": "dc78403a",
   "metadata": {
    "scrolled": false
   },
   "outputs": [
    {
     "name": "stdout",
     "output_type": "stream",
     "text": [
      "\n",
      "\n",
      "\u001b[1m> Entering new AgentExecutor chain...\u001b[0m\n",
      "\u001b[32;1m\u001b[1;3m\n",
      "Thought: I should look at the dataframe to find the answer.\n",
      "Action: python_repl_ast\n",
      "Action Input: df['Other assets/ Property and Equipement/ Goodwill and Intangibles'][3]\u001b[0m\n",
      "Observation: \u001b[36;1m\u001b[1;3m5273\u001b[0m\n",
      "Thought:\u001b[32;1m\u001b[1;3m I have found the answer.\n",
      "Final Answer: The other assets in 2020 was 5273.\u001b[0m\n",
      "\n",
      "\u001b[1m> Finished chain.\u001b[0m\n",
      "total token used: 2377 costing: 0.04754\n",
      "The other assets in 2020 was 5273.\n"
     ]
    }
   ],
   "source": [
    "response = ask_agent(agent=agent, query=question2)\n",
    "print(response)"
   ]
  },
  {
   "cell_type": "code",
   "execution_count": 136,
   "id": "4e5ae1ce",
   "metadata": {},
   "outputs": [
    {
     "name": "stdout",
     "output_type": "stream",
     "text": [
      "\n",
      "\n",
      "\u001b[1m> Entering new AgentExecutor chain...\u001b[0m\n",
      "\u001b[32;1m\u001b[1;3m\n",
      "Thought: I need to look at the Investments column of the 2021 row\n",
      "Action: python_repl_ast\n",
      "Action Input: df.loc[4, 'Investments']\u001b[0m\n",
      "Observation: \u001b[36;1m\u001b[1;3m13691\u001b[0m\n",
      "Thought:\u001b[32;1m\u001b[1;3m I now know the final answer\n",
      "Final Answer: The investments in 2021 was 13691.\u001b[0m\n",
      "\n",
      "\u001b[1m> Finished chain.\u001b[0m\n",
      "total token used: 2356 costing: 0.047119999999999995\n",
      "The investments in 2021 was 13691.\n"
     ]
    }
   ],
   "source": [
    "response = ask_agent(agent=agent, query=question3)\n",
    "print(response)"
   ]
  },
  {
   "cell_type": "code",
   "execution_count": 137,
   "id": "21df241d",
   "metadata": {},
   "outputs": [
    {
     "name": "stdout",
     "output_type": "stream",
     "text": [
      "\n",
      "\n",
      "\u001b[1m> Entering new AgentExecutor chain...\u001b[0m\n",
      "\u001b[32;1m\u001b[1;3m\n",
      "Thought: I need to find the investments of 2021 and 2019\n",
      "Action: python_repl_ast\n",
      "Action Input: df['Investments'].loc[(df['Periods'] == 'For Year 2021') | (df['Periods'] == 'For Year 2019')]\u001b[0m\n",
      "Observation: \u001b[36;1m\u001b[1;3m2    12940\n",
      "4    13691\n",
      "Name: Investments, dtype: int64\u001b[0m\n",
      "Thought:\u001b[32;1m\u001b[1;3m I need to subtract the values\n",
      "Action: python_repl_ast\n",
      "Action Input: df['Investments'].loc[(df['Periods'] == 'For Year 2021')] - df['Investments'].loc[(df['Periods'] == 'For Year 2019')]\u001b[0m\n",
      "Observation: \u001b[36;1m\u001b[1;3m2   NaN\n",
      "4   NaN\n",
      "Name: Investments, dtype: float64\u001b[0m\n",
      "Thought:\u001b[32;1m\u001b[1;3m I need to use the .iloc indexer\n",
      "Action: python_repl_ast\n",
      "Action Input: df['Investments'].iloc[4] - df['Investments'].iloc[2]\u001b[0m\n",
      "Observation: \u001b[36;1m\u001b[1;3m751\u001b[0m\n",
      "Thought:\u001b[32;1m\u001b[1;3m I now know the final answer\n",
      "Final Answer: The difference between investments of 2021 and 2019 is 751.\u001b[0m\n",
      "\n",
      "\u001b[1m> Finished chain.\u001b[0m\n",
      "total token used: 5214 costing: 0.10428000000000001\n",
      "The difference between investments of 2021 and 2019 is 751.\n"
     ]
    }
   ],
   "source": [
    "response = ask_agent(agent=agent, query=question4)\n",
    "print(response)"
   ]
  },
  {
   "cell_type": "code",
   "execution_count": 138,
   "id": "706f75ad",
   "metadata": {},
   "outputs": [
    {
     "name": "stdout",
     "output_type": "stream",
     "text": [
      "\n",
      "\n",
      "\u001b[1m> Entering new AgentExecutor chain...\u001b[0m\n",
      "\u001b[32;1m\u001b[1;3mThought: I should look for the average of the Cash and balances with central banks column\n",
      "Action: python_repl_ast\n",
      "Action Input: df['Cash and balances with central banks'].mean()\u001b[0m\n",
      "Observation: \u001b[36;1m\u001b[1;3m20921.5\u001b[0m\n",
      "Thought:\u001b[32;1m\u001b[1;3m I now know the final answer\n",
      "Final Answer: The average of Cash and balances with central banks is 20921.5\u001b[0m\n",
      "\n",
      "\u001b[1m> Finished chain.\u001b[0m\n",
      "total token used: 2376 costing: 0.04751999999999999\n",
      "The average of Cash and balances with central banks is 20921.5\n"
     ]
    }
   ],
   "source": [
    "response = ask_agent(agent=agent, query=\"what is the average of cash and balance?\")\n",
    "print(response)"
   ]
  },
  {
   "cell_type": "code",
   "execution_count": 140,
   "id": "3874b9e4",
   "metadata": {
    "scrolled": true
   },
   "outputs": [
    {
     "name": "stdout",
     "output_type": "stream",
     "text": [
      "\n",
      "\n",
      "\u001b[1m> Entering new AgentExecutor chain...\u001b[0m\n",
      "\u001b[32;1m\u001b[1;3m\n",
      "Thought: I need to compare the investments from the last 3 years to calculate the year on year growth percentage\n",
      "Action: python_repl_ast\n",
      "Action Input: df[['Periods','Investments']].tail(3)\u001b[0m\n",
      "Observation: \u001b[36;1m\u001b[1;3m         Periods  Investments\n",
      "3  For Year 2020        13809\n",
      "4  For Year 2021        13691\n",
      "5  For Year 2022        19432\u001b[0m\n",
      "Thought:\u001b[32;1m\u001b[1;3m I need to calculate the difference between the investments for the last 3 years\n",
      "Action: python_repl_ast\n",
      "Action Input: df.Investments.tail(3).diff()\u001b[0m\n",
      "Observation: \u001b[36;1m\u001b[1;3m3       NaN\n",
      "4    -118.0\n",
      "5    5741.0\n",
      "Name: Investments, dtype: float64\u001b[0m\n",
      "Thought:\u001b[32;1m\u001b[1;3m I need to calculate the year on year growth percentage\n",
      "Action: python_repl_ast\n",
      "Action Input: (df.Investments.tail(3).diff() / df.Investments.tail(3).shift()) * 100\u001b[0m\n",
      "Observation: \u001b[36;1m\u001b[1;3m3          NaN\n",
      "4    -0.854515\n",
      "5    41.932656\n",
      "Name: Investments, dtype: float64\u001b[0m\n",
      "Thought:\u001b[32;1m\u001b[1;3m I now know the final answer\n",
      "Final Answer: The year on year growth percentage for the investments for the last 3 years is 41.93%.\u001b[0m\n",
      "\n",
      "\u001b[1m> Finished chain.\u001b[0m\n",
      "total token used: 5211 costing: 0.10421999999999998\n",
      "The year on year growth percentage for the investments for the last 3 years is 41.93%.\n"
     ]
    }
   ],
   "source": [
    "response = ask_agent(agent=agent, query=\"what is the year on year growth percentage for the investments for the last 3 years?\")\n",
    "print(response)"
   ]
  },
  {
   "cell_type": "code",
   "execution_count": 141,
   "id": "7e2253c6",
   "metadata": {},
   "outputs": [
    {
     "name": "stdout",
     "output_type": "stream",
     "text": [
      "\n",
      "\n",
      "\u001b[1m> Entering new AgentExecutor chain...\u001b[0m\n",
      "\u001b[32;1m\u001b[1;3m\n",
      "Thought: I need to calculate the average year on year growth rate of investments for the last 3 years.\n",
      "Action: python_repl_ast\n",
      "Action Input: df.iloc[2:5, 5].pct_change().mean()*100\u001b[0m\n",
      "Observation: \u001b[36;1m\u001b[1;3m12.41721437385107\u001b[0m\n",
      "Thought:\u001b[32;1m\u001b[1;3m I now know the final answer\n",
      "Final Answer: The average year on year growth percentage for investments for the last 3 years is 12.42%.\u001b[0m\n",
      "\n",
      "\u001b[1m> Finished chain.\u001b[0m\n",
      "total token used: 2428 costing: 0.048560000000000006\n",
      "The average year on year growth percentage for investments for the last 3 years is 12.42%.\n"
     ]
    }
   ],
   "source": [
    "response = ask_agent(agent=agent, query=\"what is the average year on year growth percentage for the investments for the last 3 years?\")\n",
    "print(response)"
   ]
  }
 ],
 "metadata": {
  "kernelspec": {
   "display_name": "Python 3 (ipykernel)",
   "language": "python",
   "name": "python3"
  },
  "language_info": {
   "codemirror_mode": {
    "name": "ipython",
    "version": 3
   },
   "file_extension": ".py",
   "mimetype": "text/x-python",
   "name": "python",
   "nbconvert_exporter": "python",
   "pygments_lexer": "ipython3",
   "version": "3.10.12"
  }
 },
 "nbformat": 4,
 "nbformat_minor": 5
}
