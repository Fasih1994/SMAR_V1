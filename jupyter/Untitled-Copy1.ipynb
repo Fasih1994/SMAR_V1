{
 "cells": [
  {
   "cell_type": "code",
   "execution_count": 232,
   "id": "8ecda2a2",
   "metadata": {},
   "outputs": [],
   "source": [
    "import os\n",
    "\n",
    "from dotenv import load_dotenv\n",
    "from langchain import OpenAI\n",
    "from langchain.chat_models import ChatOpenAI\n",
    "from langchain.agents.agent_toolkits import create_conversational_retrieval_agent\n",
    "from langchain.document_loaders import PyPDFLoader\n",
    "from langchain.embeddings.openai import OpenAIEmbeddings\n",
    "from langchain.vectorstores import Chroma\n",
    "from langchain.agents.agent_toolkits.pandas.base import _get_functions_prompt_and_tools\n",
    "from langchain.agents.openai_functions_agent.base import OpenAIFunctionsAgent\n",
    "from langchain.agents import AgentExecutor, AgentType\n",
    "from langchain.agents.agent_toolkits import create_retriever_tool\n",
    "from langchain.tools.python.tool import PythonAstREPLTool\n",
    "from langchain.schema.messages import SystemMessage\n",
    "from langchain.prompts import MessagesPlaceholder\n",
    "from langchain.memory import ConversationBufferMemory, ConversationBufferWindowMemory\n",
    "\n",
    "\n",
    "\n",
    "import pandas as pd\n",
    "\n",
    "\n",
    "load_dotenv('../.flaskenv')\n",
    "pd.set_option('display.max_rows',None)\n",
    "pd.set_option('display.max_columns',None)"
   ]
  },
  {
   "cell_type": "code",
   "execution_count": 240,
   "id": "c7f54241",
   "metadata": {},
   "outputs": [],
   "source": [
    "embeddings = OpenAIEmbeddings()\n",
    "persist_directory = '/home/fasih/ADIB/chroma4'\n",
    "\n",
    "adib = pd.read_csv('/home/fasih/ADIB/data/ADIB_Financial data_With cost heads_V2.csv')"
   ]
  },
  {
   "cell_type": "code",
   "execution_count": 241,
   "id": "16b9458e",
   "metadata": {},
   "outputs": [
    {
     "data": {
      "text/html": [
       "<div>\n",
       "<style scoped>\n",
       "    .dataframe tbody tr th:only-of-type {\n",
       "        vertical-align: middle;\n",
       "    }\n",
       "\n",
       "    .dataframe tbody tr th {\n",
       "        vertical-align: top;\n",
       "    }\n",
       "\n",
       "    .dataframe thead th {\n",
       "        text-align: right;\n",
       "    }\n",
       "</style>\n",
       "<table border=\"1\" class=\"dataframe\">\n",
       "  <thead>\n",
       "    <tr style=\"text-align: right;\">\n",
       "      <th></th>\n",
       "      <th>2017</th>\n",
       "      <th>2018</th>\n",
       "      <th>2019</th>\n",
       "      <th>2020</th>\n",
       "      <th>2021</th>\n",
       "      <th>2022</th>\n",
       "      <th>2023</th>\n",
       "      <th>2024</th>\n",
       "      <th>2025</th>\n",
       "      <th>2026</th>\n",
       "      <th>2027</th>\n",
       "    </tr>\n",
       "  </thead>\n",
       "  <tbody>\n",
       "    <tr>\n",
       "      <th>0</th>\n",
       "      <td>4351.609</td>\n",
       "      <td>4620.741</td>\n",
       "      <td>4631.464</td>\n",
       "      <td>3826.839</td>\n",
       "      <td>3674.567</td>\n",
       "      <td>5041.871</td>\n",
       "      <td>5646.89552</td>\n",
       "      <td>6324.522982</td>\n",
       "      <td>7083.465740</td>\n",
       "      <td>7933.481629</td>\n",
       "      <td>8885.499425</td>\n",
       "    </tr>\n",
       "    <tr>\n",
       "      <th>1</th>\n",
       "      <td>581.982</td>\n",
       "      <td>714.034</td>\n",
       "      <td>813.211</td>\n",
       "      <td>502.358</td>\n",
       "      <td>329.959</td>\n",
       "      <td>890.951</td>\n",
       "      <td>997.86512</td>\n",
       "      <td>1117.608934</td>\n",
       "      <td>1251.722007</td>\n",
       "      <td>1401.928647</td>\n",
       "      <td>1570.160085</td>\n",
       "    </tr>\n",
       "    <tr>\n",
       "      <th>2</th>\n",
       "      <td>3769.627</td>\n",
       "      <td>3906.707</td>\n",
       "      <td>3818.253</td>\n",
       "      <td>3324.481</td>\n",
       "      <td>3344.608</td>\n",
       "      <td>4150.920</td>\n",
       "      <td>4649.03040</td>\n",
       "      <td>5206.914048</td>\n",
       "      <td>5831.743734</td>\n",
       "      <td>6531.552982</td>\n",
       "      <td>7315.339340</td>\n",
       "    </tr>\n",
       "    <tr>\n",
       "      <th>3</th>\n",
       "      <td>545.979</td>\n",
       "      <td>525.465</td>\n",
       "      <td>686.971</td>\n",
       "      <td>791.385</td>\n",
       "      <td>994.310</td>\n",
       "      <td>1471.339</td>\n",
       "      <td>1647.89968</td>\n",
       "      <td>1845.647642</td>\n",
       "      <td>2067.125359</td>\n",
       "      <td>2315.180402</td>\n",
       "      <td>2593.002050</td>\n",
       "    </tr>\n",
       "    <tr>\n",
       "      <th>4</th>\n",
       "      <td>1030.268</td>\n",
       "      <td>1058.665</td>\n",
       "      <td>1083.270</td>\n",
       "      <td>992.163</td>\n",
       "      <td>958.210</td>\n",
       "      <td>1368.348</td>\n",
       "      <td>1532.54976</td>\n",
       "      <td>1716.455731</td>\n",
       "      <td>1922.430419</td>\n",
       "      <td>2153.122069</td>\n",
       "      <td>2411.496718</td>\n",
       "    </tr>\n",
       "  </tbody>\n",
       "</table>\n",
       "</div>"
      ],
      "text/plain": [
       "       2017      2018      2019      2020      2021      2022        2023  \\\n",
       "0  4351.609  4620.741  4631.464  3826.839  3674.567  5041.871  5646.89552   \n",
       "1   581.982   714.034   813.211   502.358   329.959   890.951   997.86512   \n",
       "2  3769.627  3906.707  3818.253  3324.481  3344.608  4150.920  4649.03040   \n",
       "3   545.979   525.465   686.971   791.385   994.310  1471.339  1647.89968   \n",
       "4  1030.268  1058.665  1083.270   992.163   958.210  1368.348  1532.54976   \n",
       "\n",
       "          2024         2025         2026         2027  \n",
       "0  6324.522982  7083.465740  7933.481629  8885.499425  \n",
       "1  1117.608934  1251.722007  1401.928647  1570.160085  \n",
       "2  5206.914048  5831.743734  6531.552982  7315.339340  \n",
       "3  1845.647642  2067.125359  2315.180402  2593.002050  \n",
       "4  1716.455731  1922.430419  2153.122069  2411.496718  "
      ]
     },
     "execution_count": 241,
     "metadata": {},
     "output_type": "execute_result"
    }
   ],
   "source": [
    "adib.iloc[:,1:-2].astype(float).head()"
   ]
  },
  {
   "cell_type": "code",
   "execution_count": 242,
   "id": "988011d8",
   "metadata": {
    "scrolled": false
   },
   "outputs": [
    {
     "data": {
      "text/html": [
       "<div>\n",
       "<style scoped>\n",
       "    .dataframe tbody tr th:only-of-type {\n",
       "        vertical-align: middle;\n",
       "    }\n",
       "\n",
       "    .dataframe tbody tr th {\n",
       "        vertical-align: top;\n",
       "    }\n",
       "\n",
       "    .dataframe thead th {\n",
       "        text-align: right;\n",
       "    }\n",
       "</style>\n",
       "<table border=\"1\" class=\"dataframe\">\n",
       "  <thead>\n",
       "    <tr style=\"text-align: right;\">\n",
       "      <th></th>\n",
       "      <th>Chart of Accounts</th>\n",
       "      <th>2017</th>\n",
       "      <th>2018</th>\n",
       "      <th>2019</th>\n",
       "      <th>2020</th>\n",
       "      <th>2021</th>\n",
       "      <th>2022</th>\n",
       "      <th>2023</th>\n",
       "      <th>2024</th>\n",
       "      <th>2025</th>\n",
       "      <th>2026</th>\n",
       "      <th>2027</th>\n",
       "      <th>2028</th>\n",
       "      <th>YOY 2022</th>\n",
       "    </tr>\n",
       "    <tr>\n",
       "      <th>Chart of Accounts</th>\n",
       "      <th></th>\n",
       "      <th></th>\n",
       "      <th></th>\n",
       "      <th></th>\n",
       "      <th></th>\n",
       "      <th></th>\n",
       "      <th></th>\n",
       "      <th></th>\n",
       "      <th></th>\n",
       "      <th></th>\n",
       "      <th></th>\n",
       "      <th></th>\n",
       "      <th></th>\n",
       "      <th></th>\n",
       "    </tr>\n",
       "  </thead>\n",
       "  <tbody>\n",
       "    <tr>\n",
       "      <th>Gross revenue from funds</th>\n",
       "      <td>Gross revenue from funds</td>\n",
       "      <td>4351.609</td>\n",
       "      <td>4620.741</td>\n",
       "      <td>4631.464</td>\n",
       "      <td>3826.839</td>\n",
       "      <td>3674.567</td>\n",
       "      <td>5041.871</td>\n",
       "      <td>5646.89552</td>\n",
       "      <td>6324.522982</td>\n",
       "      <td>7083.465740</td>\n",
       "      <td>7933.481629</td>\n",
       "      <td>8885.499425</td>\n",
       "      <td>9951.759356</td>\n",
       "      <td>37%</td>\n",
       "    </tr>\n",
       "    <tr>\n",
       "      <th>Distribution to depositors</th>\n",
       "      <td>Distribution to depositors</td>\n",
       "      <td>581.982</td>\n",
       "      <td>714.034</td>\n",
       "      <td>813.211</td>\n",
       "      <td>502.358</td>\n",
       "      <td>329.959</td>\n",
       "      <td>890.951</td>\n",
       "      <td>997.86512</td>\n",
       "      <td>1117.608934</td>\n",
       "      <td>1251.722007</td>\n",
       "      <td>1401.928647</td>\n",
       "      <td>1570.160085</td>\n",
       "      <td>1758.579295</td>\n",
       "      <td>170%</td>\n",
       "    </tr>\n",
       "    <tr>\n",
       "      <th>Funded income</th>\n",
       "      <td>Funded income</td>\n",
       "      <td>3769.627</td>\n",
       "      <td>3906.707</td>\n",
       "      <td>3818.253</td>\n",
       "      <td>3324.481</td>\n",
       "      <td>3344.608</td>\n",
       "      <td>4150.920</td>\n",
       "      <td>4649.03040</td>\n",
       "      <td>5206.914048</td>\n",
       "      <td>5831.743734</td>\n",
       "      <td>6531.552982</td>\n",
       "      <td>7315.339340</td>\n",
       "      <td>8193.180060</td>\n",
       "      <td>24%</td>\n",
       "    </tr>\n",
       "    <tr>\n",
       "      <th>Investment income</th>\n",
       "      <td>Investment income</td>\n",
       "      <td>545.979</td>\n",
       "      <td>525.465</td>\n",
       "      <td>686.971</td>\n",
       "      <td>791.385</td>\n",
       "      <td>994.310</td>\n",
       "      <td>1471.339</td>\n",
       "      <td>1647.89968</td>\n",
       "      <td>1845.647642</td>\n",
       "      <td>2067.125359</td>\n",
       "      <td>2315.180402</td>\n",
       "      <td>2593.002050</td>\n",
       "      <td>2904.162296</td>\n",
       "      <td>48%</td>\n",
       "    </tr>\n",
       "    <tr>\n",
       "      <th>Fees and commission income</th>\n",
       "      <td>Fees and commission income</td>\n",
       "      <td>1030.268</td>\n",
       "      <td>1058.665</td>\n",
       "      <td>1083.270</td>\n",
       "      <td>992.163</td>\n",
       "      <td>958.210</td>\n",
       "      <td>1368.348</td>\n",
       "      <td>1532.54976</td>\n",
       "      <td>1716.455731</td>\n",
       "      <td>1922.430419</td>\n",
       "      <td>2153.122069</td>\n",
       "      <td>2411.496718</td>\n",
       "      <td>2700.876324</td>\n",
       "      <td>43%</td>\n",
       "    </tr>\n",
       "  </tbody>\n",
       "</table>\n",
       "</div>"
      ],
      "text/plain": [
       "                                     Chart of Accounts      2017      2018  \\\n",
       "Chart of Accounts                                                            \n",
       "Gross revenue from funds      Gross revenue from funds  4351.609  4620.741   \n",
       "Distribution to depositors  Distribution to depositors   581.982   714.034   \n",
       "Funded income                            Funded income  3769.627  3906.707   \n",
       "Investment income                    Investment income   545.979   525.465   \n",
       "Fees and commission income  Fees and commission income  1030.268  1058.665   \n",
       "\n",
       "                                2019      2020      2021      2022  \\\n",
       "Chart of Accounts                                                    \n",
       "Gross revenue from funds    4631.464  3826.839  3674.567  5041.871   \n",
       "Distribution to depositors   813.211   502.358   329.959   890.951   \n",
       "Funded income               3818.253  3324.481  3344.608  4150.920   \n",
       "Investment income            686.971   791.385   994.310  1471.339   \n",
       "Fees and commission income  1083.270   992.163   958.210  1368.348   \n",
       "\n",
       "                                  2023         2024         2025         2026  \\\n",
       "Chart of Accounts                                                               \n",
       "Gross revenue from funds    5646.89552  6324.522982  7083.465740  7933.481629   \n",
       "Distribution to depositors   997.86512  1117.608934  1251.722007  1401.928647   \n",
       "Funded income               4649.03040  5206.914048  5831.743734  6531.552982   \n",
       "Investment income           1647.89968  1845.647642  2067.125359  2315.180402   \n",
       "Fees and commission income  1532.54976  1716.455731  1922.430419  2153.122069   \n",
       "\n",
       "                                   2027         2028 YOY 2022  \n",
       "Chart of Accounts                                              \n",
       "Gross revenue from funds    8885.499425  9951.759356      37%  \n",
       "Distribution to depositors  1570.160085  1758.579295     170%  \n",
       "Funded income               7315.339340  8193.180060      24%  \n",
       "Investment income           2593.002050  2904.162296      48%  \n",
       "Fees and commission income  2411.496718  2700.876324      43%  "
      ]
     },
     "execution_count": 242,
     "metadata": {},
     "output_type": "execute_result"
    }
   ],
   "source": [
    "adib.index = adib['Chart of Accounts']\n",
    "adib.head()"
   ]
  },
  {
   "cell_type": "code",
   "execution_count": 243,
   "id": "76e4d019",
   "metadata": {
    "scrolled": false
   },
   "outputs": [
    {
     "data": {
      "text/html": [
       "<div>\n",
       "<style scoped>\n",
       "    .dataframe tbody tr th:only-of-type {\n",
       "        vertical-align: middle;\n",
       "    }\n",
       "\n",
       "    .dataframe tbody tr th {\n",
       "        vertical-align: top;\n",
       "    }\n",
       "\n",
       "    .dataframe thead th {\n",
       "        text-align: right;\n",
       "    }\n",
       "</style>\n",
       "<table border=\"1\" class=\"dataframe\">\n",
       "  <thead>\n",
       "    <tr style=\"text-align: right;\">\n",
       "      <th></th>\n",
       "      <th>Chart of Accounts</th>\n",
       "      <th>2017</th>\n",
       "      <th>2018</th>\n",
       "      <th>2019</th>\n",
       "      <th>2020</th>\n",
       "      <th>2021</th>\n",
       "      <th>2022</th>\n",
       "      <th>2023</th>\n",
       "      <th>2024</th>\n",
       "      <th>2025</th>\n",
       "      <th>2026</th>\n",
       "      <th>2027</th>\n",
       "      <th>2028</th>\n",
       "      <th>YOY 2022</th>\n",
       "    </tr>\n",
       "    <tr>\n",
       "      <th>Chart of Accounts</th>\n",
       "      <th></th>\n",
       "      <th></th>\n",
       "      <th></th>\n",
       "      <th></th>\n",
       "      <th></th>\n",
       "      <th></th>\n",
       "      <th></th>\n",
       "      <th></th>\n",
       "      <th></th>\n",
       "      <th></th>\n",
       "      <th></th>\n",
       "      <th></th>\n",
       "      <th></th>\n",
       "      <th></th>\n",
       "    </tr>\n",
       "  </thead>\n",
       "  <tbody>\n",
       "    <tr>\n",
       "      <th>Gross revenue from funds</th>\n",
       "      <td>Gross revenue from funds</td>\n",
       "      <td>4351.609</td>\n",
       "      <td>4620.741</td>\n",
       "      <td>4631.464</td>\n",
       "      <td>3826.839</td>\n",
       "      <td>3674.567</td>\n",
       "      <td>5041.871</td>\n",
       "      <td>5646.89552</td>\n",
       "      <td>6324.522982</td>\n",
       "      <td>7083.465740</td>\n",
       "      <td>7933.481629</td>\n",
       "      <td>8885.499425</td>\n",
       "      <td>9951.759356</td>\n",
       "      <td>37%</td>\n",
       "    </tr>\n",
       "    <tr>\n",
       "      <th>Distribution to depositors</th>\n",
       "      <td>Distribution to depositors</td>\n",
       "      <td>581.982</td>\n",
       "      <td>714.034</td>\n",
       "      <td>813.211</td>\n",
       "      <td>502.358</td>\n",
       "      <td>329.959</td>\n",
       "      <td>890.951</td>\n",
       "      <td>997.86512</td>\n",
       "      <td>1117.608934</td>\n",
       "      <td>1251.722007</td>\n",
       "      <td>1401.928647</td>\n",
       "      <td>1570.160085</td>\n",
       "      <td>1758.579295</td>\n",
       "      <td>170%</td>\n",
       "    </tr>\n",
       "    <tr>\n",
       "      <th>Funded income</th>\n",
       "      <td>Funded income</td>\n",
       "      <td>3769.627</td>\n",
       "      <td>3906.707</td>\n",
       "      <td>3818.253</td>\n",
       "      <td>3324.481</td>\n",
       "      <td>3344.608</td>\n",
       "      <td>4150.920</td>\n",
       "      <td>4649.03040</td>\n",
       "      <td>5206.914048</td>\n",
       "      <td>5831.743734</td>\n",
       "      <td>6531.552982</td>\n",
       "      <td>7315.339340</td>\n",
       "      <td>8193.180060</td>\n",
       "      <td>24%</td>\n",
       "    </tr>\n",
       "    <tr>\n",
       "      <th>Investment income</th>\n",
       "      <td>Investment income</td>\n",
       "      <td>545.979</td>\n",
       "      <td>525.465</td>\n",
       "      <td>686.971</td>\n",
       "      <td>791.385</td>\n",
       "      <td>994.310</td>\n",
       "      <td>1471.339</td>\n",
       "      <td>1647.89968</td>\n",
       "      <td>1845.647642</td>\n",
       "      <td>2067.125359</td>\n",
       "      <td>2315.180402</td>\n",
       "      <td>2593.002050</td>\n",
       "      <td>2904.162296</td>\n",
       "      <td>48%</td>\n",
       "    </tr>\n",
       "    <tr>\n",
       "      <th>Fees and commission income</th>\n",
       "      <td>Fees and commission income</td>\n",
       "      <td>1030.268</td>\n",
       "      <td>1058.665</td>\n",
       "      <td>1083.270</td>\n",
       "      <td>992.163</td>\n",
       "      <td>958.210</td>\n",
       "      <td>1368.348</td>\n",
       "      <td>1532.54976</td>\n",
       "      <td>1716.455731</td>\n",
       "      <td>1922.430419</td>\n",
       "      <td>2153.122069</td>\n",
       "      <td>2411.496718</td>\n",
       "      <td>2700.876324</td>\n",
       "      <td>43%</td>\n",
       "    </tr>\n",
       "  </tbody>\n",
       "</table>\n",
       "</div>"
      ],
      "text/plain": [
       "                                     Chart of Accounts      2017      2018  \\\n",
       "Chart of Accounts                                                            \n",
       "Gross revenue from funds      Gross revenue from funds  4351.609  4620.741   \n",
       "Distribution to depositors  Distribution to depositors   581.982   714.034   \n",
       "Funded income                            Funded income  3769.627  3906.707   \n",
       "Investment income                    Investment income   545.979   525.465   \n",
       "Fees and commission income  Fees and commission income  1030.268  1058.665   \n",
       "\n",
       "                                2019      2020      2021      2022  \\\n",
       "Chart of Accounts                                                    \n",
       "Gross revenue from funds    4631.464  3826.839  3674.567  5041.871   \n",
       "Distribution to depositors   813.211   502.358   329.959   890.951   \n",
       "Funded income               3818.253  3324.481  3344.608  4150.920   \n",
       "Investment income            686.971   791.385   994.310  1471.339   \n",
       "Fees and commission income  1083.270   992.163   958.210  1368.348   \n",
       "\n",
       "                                  2023         2024         2025         2026  \\\n",
       "Chart of Accounts                                                               \n",
       "Gross revenue from funds    5646.89552  6324.522982  7083.465740  7933.481629   \n",
       "Distribution to depositors   997.86512  1117.608934  1251.722007  1401.928647   \n",
       "Funded income               4649.03040  5206.914048  5831.743734  6531.552982   \n",
       "Investment income           1647.89968  1845.647642  2067.125359  2315.180402   \n",
       "Fees and commission income  1532.54976  1716.455731  1922.430419  2153.122069   \n",
       "\n",
       "                                   2027         2028 YOY 2022  \n",
       "Chart of Accounts                                              \n",
       "Gross revenue from funds    8885.499425  9951.759356      37%  \n",
       "Distribution to depositors  1570.160085  1758.579295     170%  \n",
       "Funded income               7315.339340  8193.180060      24%  \n",
       "Investment income           2593.002050  2904.162296      48%  \n",
       "Fees and commission income  2411.496718  2700.876324      43%  "
      ]
     },
     "execution_count": 243,
     "metadata": {},
     "output_type": "execute_result"
    }
   ],
   "source": [
    "adib = adib.iloc[:,:14]\n",
    "adib.head()"
   ]
  },
  {
   "cell_type": "code",
   "execution_count": 268,
   "id": "ca81fc2a",
   "metadata": {
    "scrolled": false
   },
   "outputs": [
    {
     "name": "stderr",
     "output_type": "stream",
     "text": [
      "/tmp/ipykernel_1511679/2692311490.py:1: UserWarning: This pattern is interpreted as a regular expression, and has match groups. To actually get the groups, use str.extract.\n",
      "  cost_columns = adib['Chart of Accounts'].str.contains('(Cost)', regex=True)\n"
     ]
    },
    {
     "data": {
      "text/plain": [
       "-6.106802348070409"
      ]
     },
     "execution_count": 268,
     "metadata": {},
     "output_type": "execute_result"
    }
   ],
   "source": [
    "cost_columns = adib['Chart of Accounts'].str.contains('(Cost)', regex=True)\n",
    "operating_cost_columns = ['Card related fees and commission expense (Cost)', 'Other fees and commission expenses (Cost)', 'Cost-to-Income Ratio (Cost)', 'Efficiency Ratio (Cost)', 'Operating Profit Margin (Cost)']\n",
    "operating_cost_2020 = adib.loc[cost_columns & ~adib['Chart of Accounts'].isin(operating_cost_columns), '2020'].sum()\n",
    "operating_cost_2023 = adib.loc[cost_columns & ~adib['Chart of Accounts'].isin(operating_cost_columns), '2023'].sum()\n",
    "percentage_increase = ((operating_cost_2023 - operating_cost_2020) / operating_cost_2020) * 100\n",
    "percentage_increase"
   ]
  },
  {
   "cell_type": "code",
   "execution_count": 271,
   "id": "957ecba7",
   "metadata": {},
   "outputs": [
    {
     "data": {
      "text/plain": [
       "Chart of Accounts\n",
       "Gross revenue from funds                                           False\n",
       "Distribution to depositors                                         False\n",
       "Funded income                                                      False\n",
       "Investment income                                                  False\n",
       "Fees and commission income                                         False\n",
       "Foreign exchange income                                            False\n",
       "Other income                                                       False\n",
       "Non-funded income                                                  False\n",
       "Revenues                                                           False\n",
       "Net income before zakat and tax                                    False\n",
       "Zakat and tax                                                      False\n",
       "Net income after zakat and tax                                     False\n",
       "Non-controlling interest                                           False\n",
       "Net income attributable to equity holders of the bank              False\n",
       "Cash and balances with central banks                               False\n",
       "Due from financial institutions                                    False\n",
       "Customer financing                                                 False\n",
       "Investments                                                        False\n",
       "Investment in associates                                           False\n",
       "Investment and development properties                              False\n",
       "Other assets/ Property and Equipement/ Goodwill and Intangibles    False\n",
       "Total assets                                                       False\n",
       "Due to financial institutions                                      False\n",
       "Total deposits                                                     False\n",
       "Other liabilities                                                  False\n",
       "Total liabilities                                                  False\n",
       "Share capital                                                      False\n",
       "Legal reserve                                                      False\n",
       "General reserve                                                    False\n",
       "Credit risk reserve                                                False\n",
       "Retained earnings                                                  False\n",
       "Proposed dividends                                                 False\n",
       "Other reserves                                                     False\n",
       "Equity attributable to shareholders of the bank                    False\n",
       "Tier 1 sukuk                                                       False\n",
       "Non - controlling interest                                         False\n",
       "Equity attributable to equity holders of the bank                  False\n",
       "Total liabilities and equity                                       False\n",
       "Customer financing gross                                           False\n",
       "Non-performing financing (NPA)                                     False\n",
       "NPA ratio                                                          False\n",
       "NPA coverage ratio                                                 False\n",
       "NPA coverage ratio with collaterals                                False\n",
       "RWA                                                                False\n",
       "Operating Income                                                   False\n",
       "Total Revenue                                                      False\n",
       "Tier 1 Capital Ratio                                               False\n",
       "Capital Adequacy Ratio                                             False\n",
       "Common Equity Tier 1 Ratio                                         False\n",
       "Depreciation    (Cost)                                             False\n",
       "Amortisation of intangibles  (Cost)                                False\n",
       "Card related fees and commission expense (Cost)                    False\n",
       "Other fees and commission expenses (Cost)                          False\n",
       "Salaries and wages (Cost)                                           True\n",
       "End of service benefits  (Cost)                                     True\n",
       "Other staff expenses (Cost)                                         True\n",
       "Legal and professional expenses (Cost)                             False\n",
       "Premises expenses (Cost)                                           False\n",
       "Marketing and advertising expenses (Cost)                          False\n",
       "Communication expenses  (Cost)                                     False\n",
       "Technology related expenses  (Cost)                                False\n",
       "Finance cost on lease liabilities  (Cost)                          False\n",
       "Other operating expenses  (Cost)                                   False\n",
       "Murabaha and other Islamic financing (Cost)                        False\n",
       "Ijara financing (Cost)                                             False\n",
       "Direct write-off net of recoveries (Cost)                          False\n",
       "Investment in sukuk measured at amortised cost (Cost)              False\n",
       "Other Impairment charges (Cost)                                    False\n",
       "Cost-to-Income Ratio (Cost)                                        False\n",
       "Efficiency Ratio (Cost)                                            False\n",
       "Operating Profit Margin (Cost)                                     False\n",
       "Name: Chart of Accounts, dtype: bool"
      ]
     },
     "execution_count": 271,
     "metadata": {},
     "output_type": "execute_result"
    }
   ],
   "source": []
  },
  {
   "cell_type": "code",
   "execution_count": 273,
   "id": "31fe2dec",
   "metadata": {},
   "outputs": [
    {
     "data": {
      "text/plain": [
       "14.427117673112264"
      ]
     },
     "execution_count": 273,
     "metadata": {},
     "output_type": "execute_result"
    }
   ],
   "source": [
    "employee_costs_2020 = adib.loc[adib['Chart of Accounts'].str.contains('Salaries and wages (Cost)', regex=False) | adib['Chart of Accounts'].str.contains('End of service benefits  (Cost)', regex=False) | adib['Chart of Accounts'].str.contains('Other staff expenses (Cost)', regex=False), '2020'].sum()\n",
    "employee_costs_2023 = adib.loc[adib['Chart of Accounts'].str.contains('Salaries and wages (Cost)', regex=False) | adib['Chart of Accounts'].str.contains('End of service benefits  (Cost)', regex=False) | adib['Chart of Accounts'].str.contains('Other staff expenses (Cost)', regex=False), '2023'].sum()\n",
    "percentage_increase = ((employee_costs_2023 - employee_costs_2020) / employee_costs_2020) * 100\n",
    "percentage_increase"
   ]
  },
  {
   "cell_type": "code",
   "execution_count": 220,
   "id": "d3b2c119",
   "metadata": {
    "scrolled": true
   },
   "outputs": [
    {
     "data": {
      "text/html": [
       "<div>\n",
       "<style scoped>\n",
       "    .dataframe tbody tr th:only-of-type {\n",
       "        vertical-align: middle;\n",
       "    }\n",
       "\n",
       "    .dataframe tbody tr th {\n",
       "        vertical-align: top;\n",
       "    }\n",
       "\n",
       "    .dataframe thead th {\n",
       "        text-align: right;\n",
       "    }\n",
       "</style>\n",
       "<table border=\"1\" class=\"dataframe\">\n",
       "  <thead>\n",
       "    <tr style=\"text-align: right;\">\n",
       "      <th></th>\n",
       "      <th>Chart of Accounts</th>\n",
       "      <th>2017</th>\n",
       "      <th>2018</th>\n",
       "      <th>2019</th>\n",
       "      <th>2020</th>\n",
       "      <th>2021</th>\n",
       "      <th>2022</th>\n",
       "      <th>2023</th>\n",
       "      <th>2024</th>\n",
       "      <th>2025</th>\n",
       "      <th>2026</th>\n",
       "      <th>2027</th>\n",
       "      <th>2028</th>\n",
       "    </tr>\n",
       "    <tr>\n",
       "      <th>Chart of Accounts</th>\n",
       "      <th></th>\n",
       "      <th></th>\n",
       "      <th></th>\n",
       "      <th></th>\n",
       "      <th></th>\n",
       "      <th></th>\n",
       "      <th></th>\n",
       "      <th></th>\n",
       "      <th></th>\n",
       "      <th></th>\n",
       "      <th></th>\n",
       "      <th></th>\n",
       "      <th></th>\n",
       "    </tr>\n",
       "  </thead>\n",
       "  <tbody>\n",
       "    <tr>\n",
       "      <th>Operating expenses (Cost)</th>\n",
       "      <td>Operating expenses (Cost)</td>\n",
       "      <td>2509.168</td>\n",
       "      <td>2643.781</td>\n",
       "      <td>2653.051</td>\n",
       "      <td>2450.000</td>\n",
       "      <td>2260.035</td>\n",
       "      <td>2386.720</td>\n",
       "      <td>2673.12640</td>\n",
       "      <td>2993.901568</td>\n",
       "      <td>3353.169756</td>\n",
       "      <td>3755.550127</td>\n",
       "      <td>4206.216142</td>\n",
       "      <td>4710.962079</td>\n",
       "    </tr>\n",
       "    <tr>\n",
       "      <th>Employees costs   (Cost)</th>\n",
       "      <td>Employees costs   (Cost)</td>\n",
       "      <td>1446.329</td>\n",
       "      <td>1522.644</td>\n",
       "      <td>1529.670</td>\n",
       "      <td>1508.212</td>\n",
       "      <td>1438.767</td>\n",
       "      <td>1540.896</td>\n",
       "      <td>1725.80352</td>\n",
       "      <td>1932.899942</td>\n",
       "      <td>2164.847935</td>\n",
       "      <td>2424.629688</td>\n",
       "      <td>2715.585250</td>\n",
       "      <td>3041.455480</td>\n",
       "    </tr>\n",
       "    <tr>\n",
       "      <th>Salaries and wages (Cost)</th>\n",
       "      <td>Salaries and wages (Cost)</td>\n",
       "      <td>1310.133</td>\n",
       "      <td>1380.252</td>\n",
       "      <td>1391.292</td>\n",
       "      <td>1365.404</td>\n",
       "      <td>1321.467</td>\n",
       "      <td>1415.328</td>\n",
       "      <td>1585.16736</td>\n",
       "      <td>1775.387443</td>\n",
       "      <td>1988.433936</td>\n",
       "      <td>2227.046009</td>\n",
       "      <td>2494.291530</td>\n",
       "      <td>2793.606513</td>\n",
       "    </tr>\n",
       "  </tbody>\n",
       "</table>\n",
       "</div>"
      ],
      "text/plain": [
       "                                   Chart of Accounts      2017      2018  \\\n",
       "Chart of Accounts                                                          \n",
       "Operating expenses (Cost)  Operating expenses (Cost)  2509.168  2643.781   \n",
       "Employees costs   (Cost)    Employees costs   (Cost)  1446.329  1522.644   \n",
       "Salaries and wages (Cost)  Salaries and wages (Cost)  1310.133  1380.252   \n",
       "\n",
       "                               2019      2020      2021      2022        2023  \\\n",
       "Chart of Accounts                                                               \n",
       "Operating expenses (Cost)  2653.051  2450.000  2260.035  2386.720  2673.12640   \n",
       "Employees costs   (Cost)   1529.670  1508.212  1438.767  1540.896  1725.80352   \n",
       "Salaries and wages (Cost)  1391.292  1365.404  1321.467  1415.328  1585.16736   \n",
       "\n",
       "                                  2024         2025         2026         2027  \\\n",
       "Chart of Accounts                                                               \n",
       "Operating expenses (Cost)  2993.901568  3353.169756  3755.550127  4206.216142   \n",
       "Employees costs   (Cost)   1932.899942  2164.847935  2424.629688  2715.585250   \n",
       "Salaries and wages (Cost)  1775.387443  1988.433936  2227.046009  2494.291530   \n",
       "\n",
       "                                  2028  \n",
       "Chart of Accounts                       \n",
       "Operating expenses (Cost)  4710.962079  \n",
       "Employees costs   (Cost)   3041.455480  \n",
       "Salaries and wages (Cost)  2793.606513  "
      ]
     },
     "execution_count": 220,
     "metadata": {},
     "output_type": "execute_result"
    }
   ],
   "source": [
    "adib[adib['Chart of Accounts'].str.endswith('(Cost)')].nlargest(3, '2021')"
   ]
  },
  {
   "cell_type": "code",
   "execution_count": 213,
   "id": "827ca7a3",
   "metadata": {},
   "outputs": [
    {
     "data": {
      "text/plain": [
       "[]"
      ]
     },
     "execution_count": 213,
     "metadata": {},
     "output_type": "execute_result"
    }
   ],
   "source": [
    "cost_columns"
   ]
  },
  {
   "cell_type": "code",
   "execution_count": 267,
   "id": "f40f5a23",
   "metadata": {},
   "outputs": [
    {
     "data": {
      "text/plain": [
       "Chart of Accounts\n",
       "Gross revenue from funds                                           False\n",
       "Distribution to depositors                                         False\n",
       "Funded income                                                      False\n",
       "Investment income                                                  False\n",
       "Fees and commission income                                         False\n",
       "Foreign exchange income                                            False\n",
       "Other income                                                       False\n",
       "Non-funded income                                                  False\n",
       "Revenues                                                           False\n",
       "Net income before zakat and tax                                    False\n",
       "Zakat and tax                                                      False\n",
       "Net income after zakat and tax                                     False\n",
       "Non-controlling interest                                           False\n",
       "Net income attributable to equity holders of the bank              False\n",
       "Cash and balances with central banks                               False\n",
       "Due from financial institutions                                    False\n",
       "Customer financing                                                 False\n",
       "Investments                                                        False\n",
       "Investment in associates                                           False\n",
       "Investment and development properties                              False\n",
       "Other assets/ Property and Equipement/ Goodwill and Intangibles    False\n",
       "Total assets                                                       False\n",
       "Due to financial institutions                                      False\n",
       "Total deposits                                                     False\n",
       "Other liabilities                                                  False\n",
       "Total liabilities                                                  False\n",
       "Share capital                                                      False\n",
       "Legal reserve                                                      False\n",
       "General reserve                                                    False\n",
       "Credit risk reserve                                                False\n",
       "Retained earnings                                                  False\n",
       "Proposed dividends                                                 False\n",
       "Other reserves                                                     False\n",
       "Equity attributable to shareholders of the bank                    False\n",
       "Tier 1 sukuk                                                       False\n",
       "Non - controlling interest                                         False\n",
       "Equity attributable to equity holders of the bank                  False\n",
       "Total liabilities and equity                                       False\n",
       "Customer financing gross                                           False\n",
       "Non-performing financing (NPA)                                     False\n",
       "NPA ratio                                                          False\n",
       "NPA coverage ratio                                                 False\n",
       "NPA coverage ratio with collaterals                                False\n",
       "RWA                                                                False\n",
       "Operating Income                                                   False\n",
       "Total Revenue                                                      False\n",
       "Tier 1 Capital Ratio                                               False\n",
       "Capital Adequacy Ratio                                             False\n",
       "Common Equity Tier 1 Ratio                                         False\n",
       "Depreciation    (Cost)                                             False\n",
       "Amortisation of intangibles  (Cost)                                False\n",
       "Card related fees and commission expense (Cost)                     True\n",
       "Other fees and commission expenses (Cost)                           True\n",
       "Salaries and wages (Cost)                                          False\n",
       "End of service benefits  (Cost)                                    False\n",
       "Other staff expenses (Cost)                                        False\n",
       "Legal and professional expenses (Cost)                             False\n",
       "Premises expenses (Cost)                                           False\n",
       "Marketing and advertising expenses (Cost)                          False\n",
       "Communication expenses  (Cost)                                     False\n",
       "Technology related expenses  (Cost)                                False\n",
       "Finance cost on lease liabilities  (Cost)                          False\n",
       "Other operating expenses  (Cost)                                   False\n",
       "Murabaha and other Islamic financing (Cost)                        False\n",
       "Ijara financing (Cost)                                             False\n",
       "Direct write-off net of recoveries (Cost)                          False\n",
       "Investment in sukuk measured at amortised cost (Cost)              False\n",
       "Other Impairment charges (Cost)                                    False\n",
       "Cost-to-Income Ratio (Cost)                                         True\n",
       "Efficiency Ratio (Cost)                                             True\n",
       "Operating Profit Margin (Cost)                                      True\n",
       "Name: Chart of Accounts, dtype: bool"
      ]
     },
     "execution_count": 267,
     "metadata": {},
     "output_type": "execute_result"
    }
   ],
   "source": []
  },
  {
   "cell_type": "code",
   "execution_count": 262,
   "id": "d8f202bf",
   "metadata": {},
   "outputs": [
    {
     "name": "stderr",
     "output_type": "stream",
     "text": [
      "/tmp/ipykernel_1511679/3635972053.py:1: UserWarning: This pattern is interpreted as a regular expression, and has match groups. To actually get the groups, use str.extract.\n",
      "  adib[adib['Chart of Accounts'].str.contains('(Cost)',regex=True)]['2021'].sum()- adib[['Card related fees and commission expense (Cost)','Other fees and commission expenses (Cost)','Cost-to-Income Ratio (Cost)','Efficiency Ratio (Cost)', 'Operating Profit Margin (Cost)']].sum()\n"
     ]
    },
    {
     "ename": "KeyError",
     "evalue": "\"None of [Index(['Card related fees and commission expense (Cost)',\\n       'Other fees and commission expenses (Cost)',\\n       'Cost-to-Income Ratio (Cost)', 'Efficiency Ratio (Cost)',\\n       'Operating Profit Margin (Cost)'],\\n      dtype='object')] are in the [columns]\"",
     "output_type": "error",
     "traceback": [
      "\u001b[0;31m---------------------------------------------------------------------------\u001b[0m",
      "\u001b[0;31mKeyError\u001b[0m                                  Traceback (most recent call last)",
      "Cell \u001b[0;32mIn[262], line 1\u001b[0m\n\u001b[0;32m----> 1\u001b[0m adib[adib[\u001b[38;5;124m'\u001b[39m\u001b[38;5;124mChart of Accounts\u001b[39m\u001b[38;5;124m'\u001b[39m]\u001b[38;5;241m.\u001b[39mstr\u001b[38;5;241m.\u001b[39mcontains(\u001b[38;5;124m'\u001b[39m\u001b[38;5;124m(Cost)\u001b[39m\u001b[38;5;124m'\u001b[39m,regex\u001b[38;5;241m=\u001b[39m\u001b[38;5;28;01mTrue\u001b[39;00m)][\u001b[38;5;124m'\u001b[39m\u001b[38;5;124m2021\u001b[39m\u001b[38;5;124m'\u001b[39m]\u001b[38;5;241m.\u001b[39msum()\u001b[38;5;241m-\u001b[39m \u001b[43madib\u001b[49m\u001b[43m[\u001b[49m\u001b[43m[\u001b[49m\u001b[38;5;124;43m'\u001b[39;49m\u001b[38;5;124;43mCard related fees and commission expense (Cost)\u001b[39;49m\u001b[38;5;124;43m'\u001b[39;49m\u001b[43m,\u001b[49m\u001b[38;5;124;43m'\u001b[39;49m\u001b[38;5;124;43mOther fees and commission expenses (Cost)\u001b[39;49m\u001b[38;5;124;43m'\u001b[39;49m\u001b[43m,\u001b[49m\u001b[38;5;124;43m'\u001b[39;49m\u001b[38;5;124;43mCost-to-Income Ratio (Cost)\u001b[39;49m\u001b[38;5;124;43m'\u001b[39;49m\u001b[43m,\u001b[49m\u001b[38;5;124;43m'\u001b[39;49m\u001b[38;5;124;43mEfficiency Ratio (Cost)\u001b[39;49m\u001b[38;5;124;43m'\u001b[39;49m\u001b[43m,\u001b[49m\u001b[43m \u001b[49m\u001b[38;5;124;43m'\u001b[39;49m\u001b[38;5;124;43mOperating Profit Margin (Cost)\u001b[39;49m\u001b[38;5;124;43m'\u001b[39;49m\u001b[43m]\u001b[49m\u001b[43m]\u001b[49m\u001b[38;5;241m.\u001b[39msum()\n",
      "File \u001b[0;32m~/tradeadvisor/venv/lib/python3.10/site-packages/pandas/core/frame.py:3767\u001b[0m, in \u001b[0;36mDataFrame.__getitem__\u001b[0;34m(self, key)\u001b[0m\n\u001b[1;32m   3765\u001b[0m     \u001b[38;5;28;01mif\u001b[39;00m is_iterator(key):\n\u001b[1;32m   3766\u001b[0m         key \u001b[38;5;241m=\u001b[39m \u001b[38;5;28mlist\u001b[39m(key)\n\u001b[0;32m-> 3767\u001b[0m     indexer \u001b[38;5;241m=\u001b[39m \u001b[38;5;28;43mself\u001b[39;49m\u001b[38;5;241;43m.\u001b[39;49m\u001b[43mcolumns\u001b[49m\u001b[38;5;241;43m.\u001b[39;49m\u001b[43m_get_indexer_strict\u001b[49m\u001b[43m(\u001b[49m\u001b[43mkey\u001b[49m\u001b[43m,\u001b[49m\u001b[43m \u001b[49m\u001b[38;5;124;43m\"\u001b[39;49m\u001b[38;5;124;43mcolumns\u001b[39;49m\u001b[38;5;124;43m\"\u001b[39;49m\u001b[43m)\u001b[49m[\u001b[38;5;241m1\u001b[39m]\n\u001b[1;32m   3769\u001b[0m \u001b[38;5;66;03m# take() does not accept boolean indexers\u001b[39;00m\n\u001b[1;32m   3770\u001b[0m \u001b[38;5;28;01mif\u001b[39;00m \u001b[38;5;28mgetattr\u001b[39m(indexer, \u001b[38;5;124m\"\u001b[39m\u001b[38;5;124mdtype\u001b[39m\u001b[38;5;124m\"\u001b[39m, \u001b[38;5;28;01mNone\u001b[39;00m) \u001b[38;5;241m==\u001b[39m \u001b[38;5;28mbool\u001b[39m:\n",
      "File \u001b[0;32m~/tradeadvisor/venv/lib/python3.10/site-packages/pandas/core/indexes/base.py:5877\u001b[0m, in \u001b[0;36mIndex._get_indexer_strict\u001b[0;34m(self, key, axis_name)\u001b[0m\n\u001b[1;32m   5874\u001b[0m \u001b[38;5;28;01melse\u001b[39;00m:\n\u001b[1;32m   5875\u001b[0m     keyarr, indexer, new_indexer \u001b[38;5;241m=\u001b[39m \u001b[38;5;28mself\u001b[39m\u001b[38;5;241m.\u001b[39m_reindex_non_unique(keyarr)\n\u001b[0;32m-> 5877\u001b[0m \u001b[38;5;28;43mself\u001b[39;49m\u001b[38;5;241;43m.\u001b[39;49m\u001b[43m_raise_if_missing\u001b[49m\u001b[43m(\u001b[49m\u001b[43mkeyarr\u001b[49m\u001b[43m,\u001b[49m\u001b[43m \u001b[49m\u001b[43mindexer\u001b[49m\u001b[43m,\u001b[49m\u001b[43m \u001b[49m\u001b[43maxis_name\u001b[49m\u001b[43m)\u001b[49m\n\u001b[1;32m   5879\u001b[0m keyarr \u001b[38;5;241m=\u001b[39m \u001b[38;5;28mself\u001b[39m\u001b[38;5;241m.\u001b[39mtake(indexer)\n\u001b[1;32m   5880\u001b[0m \u001b[38;5;28;01mif\u001b[39;00m \u001b[38;5;28misinstance\u001b[39m(key, Index):\n\u001b[1;32m   5881\u001b[0m     \u001b[38;5;66;03m# GH 42790 - Preserve name from an Index\u001b[39;00m\n",
      "File \u001b[0;32m~/tradeadvisor/venv/lib/python3.10/site-packages/pandas/core/indexes/base.py:5938\u001b[0m, in \u001b[0;36mIndex._raise_if_missing\u001b[0;34m(self, key, indexer, axis_name)\u001b[0m\n\u001b[1;32m   5936\u001b[0m     \u001b[38;5;28;01mif\u001b[39;00m use_interval_msg:\n\u001b[1;32m   5937\u001b[0m         key \u001b[38;5;241m=\u001b[39m \u001b[38;5;28mlist\u001b[39m(key)\n\u001b[0;32m-> 5938\u001b[0m     \u001b[38;5;28;01mraise\u001b[39;00m \u001b[38;5;167;01mKeyError\u001b[39;00m(\u001b[38;5;124mf\u001b[39m\u001b[38;5;124m\"\u001b[39m\u001b[38;5;124mNone of [\u001b[39m\u001b[38;5;132;01m{\u001b[39;00mkey\u001b[38;5;132;01m}\u001b[39;00m\u001b[38;5;124m] are in the [\u001b[39m\u001b[38;5;132;01m{\u001b[39;00maxis_name\u001b[38;5;132;01m}\u001b[39;00m\u001b[38;5;124m]\u001b[39m\u001b[38;5;124m\"\u001b[39m)\n\u001b[1;32m   5940\u001b[0m not_found \u001b[38;5;241m=\u001b[39m \u001b[38;5;28mlist\u001b[39m(ensure_index(key)[missing_mask\u001b[38;5;241m.\u001b[39mnonzero()[\u001b[38;5;241m0\u001b[39m]]\u001b[38;5;241m.\u001b[39munique())\n\u001b[1;32m   5941\u001b[0m \u001b[38;5;28;01mraise\u001b[39;00m \u001b[38;5;167;01mKeyError\u001b[39;00m(\u001b[38;5;124mf\u001b[39m\u001b[38;5;124m\"\u001b[39m\u001b[38;5;132;01m{\u001b[39;00mnot_found\u001b[38;5;132;01m}\u001b[39;00m\u001b[38;5;124m not in index\u001b[39m\u001b[38;5;124m\"\u001b[39m)\n",
      "\u001b[0;31mKeyError\u001b[0m: \"None of [Index(['Card related fees and commission expense (Cost)',\\n       'Other fees and commission expenses (Cost)',\\n       'Cost-to-Income Ratio (Cost)', 'Efficiency Ratio (Cost)',\\n       'Operating Profit Margin (Cost)'],\\n      dtype='object')] are in the [columns]\""
     ]
    }
   ],
   "source": [
    "]].sum()"
   ]
  },
  {
   "cell_type": "code",
   "execution_count": 199,
   "id": "adc57c8c",
   "metadata": {
    "scrolled": true
   },
   "outputs": [
    {
     "data": {
      "text/plain": [
       "Index(['Chart of Accounts', '2017', '2018', '2019', '2020', '2021', '2022',\n",
       "       '2023', '2024', '2025', '2026', '2027', '2028'],\n",
       "      dtype='object')"
      ]
     },
     "execution_count": 199,
     "metadata": {},
     "output_type": "execute_result"
    }
   ],
   "source": [
    "adib.columns"
   ]
  },
  {
   "cell_type": "code",
   "execution_count": 200,
   "id": "1b5c6688",
   "metadata": {},
   "outputs": [
    {
     "data": {
      "text/plain": [
       "Chart of Accounts     object\n",
       "2017                 float64\n",
       "2018                 float64\n",
       "2019                 float64\n",
       "2020                 float64\n",
       "2021                 float64\n",
       "2022                 float64\n",
       "2023                 float64\n",
       "2024                 float64\n",
       "2025                 float64\n",
       "2026                 float64\n",
       "2027                 float64\n",
       "2028                 float64\n",
       "dtype: object"
      ]
     },
     "execution_count": 200,
     "metadata": {},
     "output_type": "execute_result"
    }
   ],
   "source": [
    "adib.dtypes"
   ]
  },
  {
   "cell_type": "code",
   "execution_count": null,
   "id": "7c557101",
   "metadata": {},
   "outputs": [],
   "source": []
  },
  {
   "cell_type": "code",
   "execution_count": 201,
   "id": "f0e16d0b",
   "metadata": {},
   "outputs": [],
   "source": [
    "prefix = (\"You are the CFO of the bank and you're analyzing the balance sheet data.\"\n",
    "          \"Here are some insights from the data:\"\n",
    "          \"- You can use the Pandas DataFrame named 'adib' to analyze financial data.\"\n",
    "          \"- Use appropriate filters to focus on specific information.\"\n",
    "          \"- Columns are:'Chart of Accounts','2017', '2018', '2019', '2020', '2021', '2022', '2023', '2024', '2025','2026', '2027', '2028'\"\n",
    "          \"\"\"- 'Chart of Accounts' contain these values: \n",
    "'Gross revenue from funds', 'Distribution to depositors',\n",
    "'Funded income', 'Investment income', 'Fees and commission income',\n",
    "'Foreign exchange income', 'Other income', 'Non-funded income',\n",
    "'Revenues', 'Net income before zakat and tax', 'Zakat and tax',\n",
    "'Net income after zakat and tax', 'Non-controlling interest',\n",
    "'Net income attributable to equity holders of the bank',\n",
    "'Cash and balances with central banks',\n",
    "'Due from financial institutions', 'Customer financing', 'Investments',\n",
    "'Investment in associates', 'Investment and development properties',\n",
    "'Other assets/ Property and Equipement/ Goodwill and Intangibles',\n",
    "'Total assets', 'Due to financial institutions', 'Total deposits',\n",
    "'Other liabilities', 'Total liabilities', 'Share capital ',\n",
    "'Legal reserve', 'General reserve', 'Credit risk reserve',\n",
    "'Retained earnings', 'Proposed dividends', 'Other reserves',\n",
    "'Equity attributable to shareholders of the bank', 'Tier 1 sukuk ',\n",
    "'Non - controlling interest',\n",
    "'Equity attributable to equity holders of the bank',\n",
    "'Total liabilities and equity', 'Customer financing gross',\n",
    "'Non-performing financing (NPA)', 'NPA ratio', 'NPA coverage ratio',\n",
    "'NPA coverage ratio with collaterals', 'RWA', 'Operating Income',\n",
    "'Total Revenue', 'Tier 1 Capital Ratio', 'Capital Adequacy Ratio',\n",
    "'Common Equity Tier 1 Ratio ', 'Depreciation    (Cost)',\n",
    "'Amortisation of intangibles  (Cost)',\n",
    "'Card related fees and commission expense (Cost)',\n",
    "'Other fees and commission expenses (Cost)',\n",
    "'Salaries and wages (Cost)', 'End of service benefits  (Cost)',\n",
    "'Other staff expenses (Cost)', 'Legal and professional expenses (Cost)',\n",
    "'Premises expenses (Cost)', 'Marketing and advertising expenses (Cost)',\n",
    "'Communication expenses  (Cost)', 'Technology related expenses  (Cost)',\n",
    "'Finance cost on lease liabilities  (Cost)',\n",
    "'Other operating expenses  (Cost)',\n",
    "'Murabaha and other Islamic financing (Cost)', 'Ijara financing (Cost)',\n",
    "'Direct write-off net of recoveries (Cost)',\n",
    "'Investment in sukuk measured at amortised cost (Cost)',\n",
    "'Other Impairment charges (Cost)', 'Cost-to-Income Ratio (Cost)',\n",
    "'Efficiency Ratio (Cost)', 'Operating Profit Margin (Cost)'\"\"\"\n",
    "    \"- current year is 2023 and the number against (Cost) chart of accounts are in AED Millions\"\n",
    "    \"- for all cost related queries check against all index ending with '(Cost)'\"\n",
    "    \"- if asked top cost heads/units/silos return the descending by numbers\"\n",
    "    \"Following are the formulae for special cost heads:\"\n",
    "    \"Operating expenses = Provision for impairment net + General and administrative expenses +Employees costs +Depreciation    (Cost)+Amortisation of intangibles  (Cost)\"\n",
    "    \"Provision for impairment net = Murabaha and other Islamic financing (Cost)+ Ijara financing (Cost) +Direct write-off, net of recoveries (Cost)+Investment in sukuk measured at amortised cost (Cost)+Other Impairment charges (Cost)\"\n",
    "    \"General and administrative expenses = Legal and professional expenses (Cost)+ Premises expenses (Cost) + Marketing and advertising expenses (Cost)+ Communication expenses  (Cost)+ Technology related expenses  (Cost)+Finance cost on lease liabilities  (Cost)+Other operating expenses\"\n",
    "    \"Employees costs = Salaries and wages (Cost)+ End of service benefits  (Cost)+ Other staff expenses (Cost)\"\n",
    ")\n",
    "\n",
    "system_message = SystemMessage(content=prefix)\n",
    "\n",
    "MEMORY_KEY = \"chat_history\" \n",
    "prompt = OpenAIFunctionsAgent.create_prompt(\n",
    "    system_message=system_message,\n",
    "    extra_prompt_messages=[MessagesPlaceholder(variable_name=MEMORY_KEY)]\n",
    ")"
   ]
  },
  {
   "cell_type": "code",
   "execution_count": 202,
   "id": "cf84c44c",
   "metadata": {},
   "outputs": [],
   "source": [
    "df_tool = PythonAstREPLTool(\n",
    "    locals={\"adib\":adib}, \n",
    "    description=(\"A Python shell. Use this to execute python commands.\"\n",
    "#                  \"Input should be a valid python command. When using this tool, sometimes output is abbreviated\"\n",
    "#                  \"- make sure it does not look abbreviated before using it in your answer.\"\n",
    "                )\n",
    ")\n"
   ]
  },
  {
   "cell_type": "code",
   "execution_count": 203,
   "id": "a7e78e44",
   "metadata": {},
   "outputs": [],
   "source": [
    "llm = ChatOpenAI(temperature=0, model=\"gpt-3.5-turbo-0613\")"
   ]
  },
  {
   "cell_type": "code",
   "execution_count": 204,
   "id": "34797786",
   "metadata": {},
   "outputs": [],
   "source": [
    "agent = OpenAIFunctionsAgent(\n",
    "            llm=llm,\n",
    "            prompt=prompt,\n",
    "            tools=[df_tool]\n",
    ")"
   ]
  },
  {
   "cell_type": "code",
   "execution_count": 205,
   "id": "16ff6a77",
   "metadata": {},
   "outputs": [],
   "source": [
    "memory = ConversationBufferWindowMemory(memory_key=MEMORY_KEY, return_messages=True, k=4)"
   ]
  },
  {
   "cell_type": "code",
   "execution_count": 206,
   "id": "3ca92c37",
   "metadata": {},
   "outputs": [],
   "source": [
    "agent = AgentExecutor(\n",
    "    agent=agent,\n",
    "    tools=[df_tool],\n",
    "    memory=memory,\n",
    "    max_iterations=7,\n",
    "    verbose=True\n",
    ")"
   ]
  },
  {
   "cell_type": "code",
   "execution_count": 209,
   "id": "fcf97402",
   "metadata": {
    "scrolled": false
   },
   "outputs": [
    {
     "name": "stdout",
     "output_type": "stream",
     "text": [
      "\n",
      "\n",
      "\u001b[1m> Entering new AgentExecutor chain...\u001b[0m\n",
      "\u001b[32;1m\u001b[1;3m\n",
      "Invoking: `python_repl_ast` with `adib[adib['Chart of Accounts'].str.endswith('(Cost)')].nlargest(3, '2023')`\n",
      "\n",
      "\n",
      "\u001b[0m\u001b[36;1m\u001b[1;3m            Chart of Accounts      2017      2018      2019      2020  \\\n",
      "49  Operating expenses (Cost)  2509.168  2643.781  2653.051  2450.000   \n",
      "52   Employees costs   (Cost)  1446.329  1522.644  1529.670  1508.212   \n",
      "57  Salaries and wages (Cost)  1310.133  1380.252  1391.292  1365.404   \n",
      "\n",
      "        2021      2022        2023         2024         2025         2026  \\\n",
      "49  2260.035  2386.720  2673.12640  2993.901568  3353.169756  3755.550127   \n",
      "52  1438.767  1540.896  1725.80352  1932.899942  2164.847935  2424.629688   \n",
      "57  1321.467  1415.328  1585.16736  1775.387443  1988.433936  2227.046009   \n",
      "\n",
      "           2027         2028  \n",
      "49  4206.216142  4710.962079  \n",
      "52  2715.585250  3041.455480  \n",
      "57  2494.291530  2793.606513  \u001b[0m\u001b[32;1m\u001b[1;3mThe top 3 costs for the current year (2023) by values are:\n",
      "\n",
      "1. Operating expenses (Cost): AED 2,673.13 million\n",
      "2. Employees costs (Cost): AED 1,725.80 million\n",
      "3. Salaries and wages (Cost): AED 1,585.17 million\u001b[0m\n",
      "\n",
      "\u001b[1m> Finished chain.\u001b[0m\n",
      "The top 3 costs for the current year (2023) by values are:\n",
      "\n",
      "1. Operating expenses (Cost): AED 2,673.13 million\n",
      "2. Employees costs (Cost): AED 1,725.80 million\n",
      "3. Salaries and wages (Cost): AED 1,585.17 million\n"
     ]
    }
   ],
   "source": [
    "print(agent.run('what are my top 3 costs for current year by values?'))"
   ]
  },
  {
   "cell_type": "code",
   "execution_count": 189,
   "id": "8d794c4e",
   "metadata": {},
   "outputs": [
    {
     "ename": "KeyError",
     "evalue": "'2023'",
     "output_type": "error",
     "traceback": [
      "\u001b[0;31m---------------------------------------------------------------------------\u001b[0m",
      "\u001b[0;31mKeyError\u001b[0m                                  Traceback (most recent call last)",
      "File \u001b[0;32m~/tradeadvisor/venv/lib/python3.10/site-packages/pandas/core/indexes/base.py:3653\u001b[0m, in \u001b[0;36mIndex.get_loc\u001b[0;34m(self, key)\u001b[0m\n\u001b[1;32m   3652\u001b[0m \u001b[38;5;28;01mtry\u001b[39;00m:\n\u001b[0;32m-> 3653\u001b[0m     \u001b[38;5;28;01mreturn\u001b[39;00m \u001b[38;5;28;43mself\u001b[39;49m\u001b[38;5;241;43m.\u001b[39;49m\u001b[43m_engine\u001b[49m\u001b[38;5;241;43m.\u001b[39;49m\u001b[43mget_loc\u001b[49m\u001b[43m(\u001b[49m\u001b[43mcasted_key\u001b[49m\u001b[43m)\u001b[49m\n\u001b[1;32m   3654\u001b[0m \u001b[38;5;28;01mexcept\u001b[39;00m \u001b[38;5;167;01mKeyError\u001b[39;00m \u001b[38;5;28;01mas\u001b[39;00m err:\n",
      "File \u001b[0;32m~/tradeadvisor/venv/lib/python3.10/site-packages/pandas/_libs/index.pyx:147\u001b[0m, in \u001b[0;36mpandas._libs.index.IndexEngine.get_loc\u001b[0;34m()\u001b[0m\n",
      "File \u001b[0;32m~/tradeadvisor/venv/lib/python3.10/site-packages/pandas/_libs/index.pyx:176\u001b[0m, in \u001b[0;36mpandas._libs.index.IndexEngine.get_loc\u001b[0;34m()\u001b[0m\n",
      "File \u001b[0;32mpandas/_libs/hashtable_class_helper.pxi:7080\u001b[0m, in \u001b[0;36mpandas._libs.hashtable.PyObjectHashTable.get_item\u001b[0;34m()\u001b[0m\n",
      "File \u001b[0;32mpandas/_libs/hashtable_class_helper.pxi:7088\u001b[0m, in \u001b[0;36mpandas._libs.hashtable.PyObjectHashTable.get_item\u001b[0;34m()\u001b[0m\n",
      "\u001b[0;31mKeyError\u001b[0m: '2023'",
      "\nThe above exception was the direct cause of the following exception:\n",
      "\u001b[0;31mKeyError\u001b[0m                                  Traceback (most recent call last)",
      "Cell \u001b[0;32mIn[189], line 1\u001b[0m\n\u001b[0;32m----> 1\u001b[0m \u001b[43madib\u001b[49m\u001b[38;5;241;43m.\u001b[39;49m\u001b[43mfilter\u001b[49m\u001b[43m(\u001b[49m\u001b[43mlike\u001b[49m\u001b[38;5;241;43m=\u001b[39;49m\u001b[38;5;124;43m'\u001b[39;49m\u001b[38;5;124;43m(Cost)\u001b[39;49m\u001b[38;5;124;43m'\u001b[39;49m\u001b[43m)\u001b[49m\u001b[43m[\u001b[49m\u001b[38;5;124;43m'\u001b[39;49m\u001b[38;5;124;43m2023\u001b[39;49m\u001b[38;5;124;43m'\u001b[39;49m\u001b[43m]\u001b[49m\u001b[38;5;66;03m#.sort_values(ascending=False).head(3)\u001b[39;00m\n",
      "File \u001b[0;32m~/tradeadvisor/venv/lib/python3.10/site-packages/pandas/core/frame.py:3761\u001b[0m, in \u001b[0;36mDataFrame.__getitem__\u001b[0;34m(self, key)\u001b[0m\n\u001b[1;32m   3759\u001b[0m \u001b[38;5;28;01mif\u001b[39;00m \u001b[38;5;28mself\u001b[39m\u001b[38;5;241m.\u001b[39mcolumns\u001b[38;5;241m.\u001b[39mnlevels \u001b[38;5;241m>\u001b[39m \u001b[38;5;241m1\u001b[39m:\n\u001b[1;32m   3760\u001b[0m     \u001b[38;5;28;01mreturn\u001b[39;00m \u001b[38;5;28mself\u001b[39m\u001b[38;5;241m.\u001b[39m_getitem_multilevel(key)\n\u001b[0;32m-> 3761\u001b[0m indexer \u001b[38;5;241m=\u001b[39m \u001b[38;5;28;43mself\u001b[39;49m\u001b[38;5;241;43m.\u001b[39;49m\u001b[43mcolumns\u001b[49m\u001b[38;5;241;43m.\u001b[39;49m\u001b[43mget_loc\u001b[49m\u001b[43m(\u001b[49m\u001b[43mkey\u001b[49m\u001b[43m)\u001b[49m\n\u001b[1;32m   3762\u001b[0m \u001b[38;5;28;01mif\u001b[39;00m is_integer(indexer):\n\u001b[1;32m   3763\u001b[0m     indexer \u001b[38;5;241m=\u001b[39m [indexer]\n",
      "File \u001b[0;32m~/tradeadvisor/venv/lib/python3.10/site-packages/pandas/core/indexes/base.py:3655\u001b[0m, in \u001b[0;36mIndex.get_loc\u001b[0;34m(self, key)\u001b[0m\n\u001b[1;32m   3653\u001b[0m     \u001b[38;5;28;01mreturn\u001b[39;00m \u001b[38;5;28mself\u001b[39m\u001b[38;5;241m.\u001b[39m_engine\u001b[38;5;241m.\u001b[39mget_loc(casted_key)\n\u001b[1;32m   3654\u001b[0m \u001b[38;5;28;01mexcept\u001b[39;00m \u001b[38;5;167;01mKeyError\u001b[39;00m \u001b[38;5;28;01mas\u001b[39;00m err:\n\u001b[0;32m-> 3655\u001b[0m     \u001b[38;5;28;01mraise\u001b[39;00m \u001b[38;5;167;01mKeyError\u001b[39;00m(key) \u001b[38;5;28;01mfrom\u001b[39;00m \u001b[38;5;21;01merr\u001b[39;00m\n\u001b[1;32m   3656\u001b[0m \u001b[38;5;28;01mexcept\u001b[39;00m \u001b[38;5;167;01mTypeError\u001b[39;00m:\n\u001b[1;32m   3657\u001b[0m     \u001b[38;5;66;03m# If we have a listlike key, _check_indexing_error will raise\u001b[39;00m\n\u001b[1;32m   3658\u001b[0m     \u001b[38;5;66;03m#  InvalidIndexError. Otherwise we fall through and re-raise\u001b[39;00m\n\u001b[1;32m   3659\u001b[0m     \u001b[38;5;66;03m#  the TypeError.\u001b[39;00m\n\u001b[1;32m   3660\u001b[0m     \u001b[38;5;28mself\u001b[39m\u001b[38;5;241m.\u001b[39m_check_indexing_error(key)\n",
      "\u001b[0;31mKeyError\u001b[0m: '2023'"
     ]
    }
   ],
   "source": []
  },
  {
   "cell_type": "code",
   "execution_count": 12,
   "id": "3bacd830",
   "metadata": {
    "scrolled": false
   },
   "outputs": [
    {
     "name": "stdout",
     "output_type": "stream",
     "text": [
      "\n",
      "\n",
      "\u001b[1m> Entering new AgentExecutor chain...\u001b[0m\n",
      "\u001b[32;1m\u001b[1;3m\n",
      "Invoking: `python_repl_ast` with `adib[['Periods', 'Operating expenses']].sort_values('Periods', ascending=False).head(4)`\n",
      "\n",
      "\n",
      "\u001b[0m\u001b[36;1m\u001b[1;3m    Periods  Operating expenses\n",
      "11     2028             2006.62\n",
      "10     2027             2062.76\n",
      "9      2026             2118.90\n",
      "8      2025             2175.05\u001b[0m\u001b[32;1m\u001b[1;3m\n",
      "Invoking: `search_adib_annual_report` with `operating expenses`\n",
      "\n",
      "\n",
      "\u001b[0m\u001b[33;1m\u001b[1;3m[Document(page_content='and resale of properties and all associated activities.\\nOther operations - Other operations comprises mainly of Head Office, subsidiaries, associates and joint ventures other than above categories \\nincluding unallocated costs.\\nManagement monitors the operating results of the operating segments separately for the purpose of making decisions about resource allocation \\nand performance assessment. Segment performance is evaluated based on operating profit or loss.\\nBusiness segments information for the year ended 31 December 2018 were as follows:\\nGlobal Retail\\nbanking\\nAED ‘000Global \\nWholesale \\nbanking\\nAED ‘000Private\\nbanking\\nAED ‘000Treasury\\nAED ‘000Real\\nestate\\nAED ‘000Other\\noperations\\nAED ‘000 Total\\nAED ‘000\\nRevenue and results\\nSegment revenues, net 3,529,103 1,145,455 143,100 473,025 81,926 396,877 5,769,486\\nOperating expenses \\nexcluding provision for impairment, net (1,920,577)   (395,993)    (62,196)      (45,617)    (78,206)  (146,014)   (2,648,603)\\nOperating profit 1,608,526 749,462 80,904 427,408 3,720 250,863 3,120,883\\nProvision for impairment, net    (301,396)    (116,946)      (7,486)         7,021    (61,816)  (139,474)      (620,097)\\nProfit (loss) for the year   1,307,130     632,516     73,418     434,429    (58,096)   111,389    2,500,786\\nNon-controlling interest                  -                 -               -                 -               -         (700)            (700)', metadata={'page': 114, 'source': '/home/fasih/ADIB/annual_report/ADIB Annual Report 2018.pdf'}), Document(page_content='of investment deposits. \\nReal estate – Subsidiaries of the Bank handling the acquisition, selling, development and leasing including both land and buildings, management \\nand resale of properties and all associated activities.\\nOther operations - Other operations comprises mainly of Head Office, subsidiaries, associates and joint ventures other than above categories \\nincluding unallocated costs.\\nManagement monitors the operating results of the operating segments separately for the purpose of making decisions about resource allocation \\nand performance assessment. Segment performance is evaluated based on operating profit or loss.\\nBusiness segments information for the year ended 31 December 2019 were as follows:\\nGlobal Retail\\nbanking\\nAED ‘000Global \\nWholesale \\nbanking\\nAED ‘000Private\\nbanking\\nAED ‘000Treasury\\nAED ‘000Real\\nestate\\nAED ‘000Other\\noperations\\nAED ‘000 Total\\nAED ‘000\\nRevenue and results\\nSegment revenues, net 3,665,893 1,066,967 144,272 487,271 67,546 483,262 5,915,211\\nOperating expenses \\nexcluding provision for impairment, net  (1,970,225)   (352,978)    (64,609)      (41,390)    (67,627)  (156,222)   (2,653,051)\\nOperating profit (margin) 1,695,668 713,989 79,663 445,881 (81) 327,040 3,262,160\\nProvision for impairment, net    (325,645)   (129,296)       4,710       (4,427)   (124,425)    (79,013)      (658,096)\\nProfit (loss) for the year \\nbefore zakat and tax 1,370,023    584,693      84,373    441,454  (124,506)   248,027    2,604,064', metadata={'page': 117, 'source': '/home/fasih/ADIB/annual_report/ADIB Annual Report 2019.pdf'}), Document(page_content='of investment deposits. \\nReal estate – Subsidiaries of the Bank handling the acquisition, selling, development and leasing including both land and buildings, management \\nand resale of properties and all associated activities.\\nOther operations – Other operations comprises mainly of Head Office, subsidiaries, associates and joint ventures other than above categories \\nincluding unallocated costs.\\nManagement monitors the operating results of the operating segments separately for the purpose of making decisions about resource allocation \\nand performance assessment. Segment performance is evaluated based on operating profit or loss.\\nBusiness segments information for the year ended 31 December 2021 were as follows:\\nGlobal Retail\\nbanking\\nAED ‘000Global \\nWholesale \\nbanking\\nAED ‘000Private\\nbanking\\nAED ‘000Treasury\\nAED ‘000Real\\nestate\\nAED ‘000Other\\noperations\\nAED ‘000 Total\\nAED ‘000\\nRevenue and results\\nSegment revenues, net 3,056,192 875,145 133,792 778,501 63,237 652,684 5,559,551\\nOperating expenses \\nexcluding provision for \\nimpairment, net  (1,804,811) (279,317)  (62,377)  (41,178)   (59,809)  (12,543)  (2,260,035)\\nOperating profit (margin) 1,251,381 595,828 71,415 737,323 3,428 640,141 3,299,516\\nProvision for impairment, net (45,795) (578,426)     9,752    3,012           -  (342,942)  (954,399)\\nProfit (loss) for the year \\nbefore zakat and tax 1,205,586 17,402 81,167 740,335 3,428 297,199    2,345,117', metadata={'page': 125, 'source': '/home/fasih/ADIB/annual_report/ADIB Annual Report 2021.pdf'}), Document(page_content='of investment deposits. \\nReal estate – Subsidiaries of the Bank handling the acquisition, selling, development and leasing including both land and buildings, management \\nand resale of properties and all associated activities.\\nAssociates and Subsidiaries – Include Banks subsidiaries (not included above), associates and joint ventures, operating within and outside UAE.\\nOther operations - Other operations comprises mainly of Head Office including unallocated costs.\\nManagement monitors the operating results of the operating segments separately for the purpose of making decisions about resource allocation \\nand performance assessment. Segment performance is evaluated based on operating profit or loss.41 SEGMENT INFORMATION continued\\nBusiness segments information for the year ended 31 December 2022 were as follows:\\nGlobal Retail\\nbanking\\nAED ‘000Global \\nWholesale \\nbanking\\nAED ‘000Private\\nbanking\\nAED ‘000Treasury\\nAED ‘000Real\\nestate\\nAED ‘000Other\\noperations\\nAED ‘000 Associates\\n& Subsidiaries\\nAED ‘000Total\\nAED ‘000\\nRevenue and results\\nSegment revenues, net 3,540,421 1,037,801 173,016 641,390 62,330 638,381 741,747 6,835,086\\nOperating expenses \\nexcluding provision for \\nimpairment, net (1,809,154)  (275,499)  (69,725)  (42,560) (56,310)  (44,330)    (89,142) (2,386,720)\\nOperating profit 1,731,267 762,302 103,291 598,830 6,020 594,051 652,605 4,448,366\\nProvision for impairment, net   (124,624)  (289,785)  (29,480)  (25,613)           -   (186,906)  (112,448)  (768,856)', metadata={'page': 65, 'source': '/home/fasih/ADIB/annual_report/ADIB Annual Report 2022.pdf'})]\u001b[0m\u001b[32;1m\u001b[1;3mThe operating expenses that have unexpectedly increased in the year 2022 compared to the previous three years are as follows:\n",
      "\n",
      "1. Global Retail banking: The operating expenses increased from AED 1,205,586 in 2021 to AED 1,809,154 in 2022.\n",
      "\n",
      "2. Global Wholesale banking: The operating expenses increased from AED 17,402 in 2021 to AED 275,499 in 2022.\n",
      "\n",
      "3. Private banking: The operating expenses increased from AED 81,167 in 2021 to AED 69,725 in 2022.\n",
      "\n",
      "4. Treasury: The operating expenses increased from AED 740,335 in 2021 to AED 598,830 in 2022.\n",
      "\n",
      "5. Real estate: The operating expenses increased from AED 3,428 in 2021 to AED 6,020 in 2022.\n",
      "\n",
      "6. Other operations: The operating expenses increased from AED 297,199 in 2021 to AED 594,051 in 2022.\n",
      "\n",
      "These segments have experienced unexpected increases in operating expenses in the year 2022 compared to the previous three years.\u001b[0m\n",
      "\n",
      "\u001b[1m> Finished chain.\u001b[0m\n"
     ]
    },
    {
     "data": {
      "text/plain": [
       "'The operating expenses that have unexpectedly increased in the year 2022 compared to the previous three years are as follows:\\n\\n1. Global Retail banking: The operating expenses increased from AED 1,205,586 in 2021 to AED 1,809,154 in 2022.\\n\\n2. Global Wholesale banking: The operating expenses increased from AED 17,402 in 2021 to AED 275,499 in 2022.\\n\\n3. Private banking: The operating expenses increased from AED 81,167 in 2021 to AED 69,725 in 2022.\\n\\n4. Treasury: The operating expenses increased from AED 740,335 in 2021 to AED 598,830 in 2022.\\n\\n5. Real estate: The operating expenses increased from AED 3,428 in 2021 to AED 6,020 in 2022.\\n\\n6. Other operations: The operating expenses increased from AED 297,199 in 2021 to AED 594,051 in 2022.\\n\\nThese segments have experienced unexpected increases in operating expenses in the year 2022 compared to the previous three years.'"
      ]
     },
     "execution_count": 12,
     "metadata": {},
     "output_type": "execute_result"
    }
   ],
   "source": [
    "agent.run(\"Which operating expenses have unexpectedly increased in the year 2022 compared to the previous three years?\")"
   ]
  },
  {
   "cell_type": "code",
   "execution_count": 173,
   "id": "fe650240",
   "metadata": {},
   "outputs": [
    {
     "name": "stdout",
     "output_type": "stream",
     "text": [
      "\n",
      "\n",
      "\u001b[1m> Entering new AgentExecutor chain...\u001b[0m\n",
      "\u001b[32;1m\u001b[1;3mTo minimize costs incurred, here are some potential strategies that can be considered:\n",
      "\n",
      "1. Review and optimize operational processes: Identify areas where processes can be streamlined or automated to reduce manual effort and associated costs. Look for opportunities to eliminate unnecessary steps, improve efficiency, and reduce waste.\n",
      "\n",
      "2. Negotiate better supplier contracts: Review existing supplier contracts and negotiate better terms, including discounts, bulk purchasing options, or longer payment terms. Consider exploring alternative suppliers to ensure competitive pricing.\n",
      "\n",
      "3. Implement cost control measures: Implement strict cost control measures across the organization. This can include setting spending limits, requiring approval for non-essential expenses, and regularly monitoring and analyzing expenses to identify areas of overspending.\n",
      "\n",
      "4. Encourage cost-conscious culture: Foster a culture of cost-consciousness among employees. Educate and train employees on the importance of cost management and encourage them to contribute ideas for cost-saving initiatives.\n",
      "\n",
      "5. Optimize inventory management: Analyze inventory levels and implement just-in-time inventory management practices to minimize carrying costs. Regularly review inventory turnover rates and identify slow-moving or obsolete items that can be discontinued or sold off.\n",
      "\n",
      "6. Energy efficiency initiatives: Implement energy-saving measures such as using energy-efficient equipment, optimizing lighting systems, and encouraging employees to adopt energy-saving practices. This can help reduce utility costs over time.\n",
      "\n",
      "7. Outsourcing and automation: Evaluate tasks and processes that can be outsourced or automated to reduce labor costs. Consider outsourcing non-core functions or using technology solutions to automate repetitive tasks.\n",
      "\n",
      "8. Employee productivity and training: Invest in employee training and development programs to enhance skills and productivity. This can lead to improved efficiency and effectiveness, reducing the need for additional resources and associated costs.\n",
      "\n",
      "9. Monitor and analyze expenses: Regularly monitor and analyze expenses to identify trends, patterns, and areas of potential cost savings. Utilize data analytics tools to gain insights into spending patterns and identify areas for improvement.\n",
      "\n",
      "10. Continuous improvement mindset: Foster a continuous improvement mindset within the organization. Encourage employees to identify and implement cost-saving ideas, and regularly review and refine cost-saving strategies.\n",
      "\n",
      "It's important to note that the effectiveness of these strategies may vary depending on the specific circumstances and industry. It's recommended to conduct a thorough analysis and tailor the strategies to the organization's unique needs and goals.\u001b[0m\n",
      "\n",
      "\u001b[1m> Finished chain.\u001b[0m\n"
     ]
    },
    {
     "data": {
      "text/plain": [
       "\"To minimize costs incurred, here are some potential strategies that can be considered:\\n\\n1. Review and optimize operational processes: Identify areas where processes can be streamlined or automated to reduce manual effort and associated costs. Look for opportunities to eliminate unnecessary steps, improve efficiency, and reduce waste.\\n\\n2. Negotiate better supplier contracts: Review existing supplier contracts and negotiate better terms, including discounts, bulk purchasing options, or longer payment terms. Consider exploring alternative suppliers to ensure competitive pricing.\\n\\n3. Implement cost control measures: Implement strict cost control measures across the organization. This can include setting spending limits, requiring approval for non-essential expenses, and regularly monitoring and analyzing expenses to identify areas of overspending.\\n\\n4. Encourage cost-conscious culture: Foster a culture of cost-consciousness among employees. Educate and train employees on the importance of cost management and encourage them to contribute ideas for cost-saving initiatives.\\n\\n5. Optimize inventory management: Analyze inventory levels and implement just-in-time inventory management practices to minimize carrying costs. Regularly review inventory turnover rates and identify slow-moving or obsolete items that can be discontinued or sold off.\\n\\n6. Energy efficiency initiatives: Implement energy-saving measures such as using energy-efficient equipment, optimizing lighting systems, and encouraging employees to adopt energy-saving practices. This can help reduce utility costs over time.\\n\\n7. Outsourcing and automation: Evaluate tasks and processes that can be outsourced or automated to reduce labor costs. Consider outsourcing non-core functions or using technology solutions to automate repetitive tasks.\\n\\n8. Employee productivity and training: Invest in employee training and development programs to enhance skills and productivity. This can lead to improved efficiency and effectiveness, reducing the need for additional resources and associated costs.\\n\\n9. Monitor and analyze expenses: Regularly monitor and analyze expenses to identify trends, patterns, and areas of potential cost savings. Utilize data analytics tools to gain insights into spending patterns and identify areas for improvement.\\n\\n10. Continuous improvement mindset: Foster a continuous improvement mindset within the organization. Encourage employees to identify and implement cost-saving ideas, and regularly review and refine cost-saving strategies.\\n\\nIt's important to note that the effectiveness of these strategies may vary depending on the specific circumstances and industry. It's recommended to conduct a thorough analysis and tailor the strategies to the organization's unique needs and goals.\""
      ]
     },
     "execution_count": 173,
     "metadata": {},
     "output_type": "execute_result"
    }
   ],
   "source": [
    "agent.run('What could be the potential strategies to minimize the costs incurred?')"
   ]
  },
  {
   "cell_type": "code",
   "execution_count": 13,
   "id": "6af705ac",
   "metadata": {
    "scrolled": false
   },
   "outputs": [
    {
     "name": "stdout",
     "output_type": "stream",
     "text": [
      "\n",
      "\n",
      "\u001b[1m> Entering new AgentExecutor chain...\u001b[0m\n",
      "\u001b[32;1m\u001b[1;3m\n",
      "Invoking: `search_adib_annual_report` with `{'search_term': 'income statement'}`\n",
      "\n",
      "\n",
      "\u001b[0m\u001b[33;1m\u001b[1;3m[Document(page_content='Financial Statements Abridged Income StatementFor the year ended  \\n31 December\\n2020\\nAED Million2021\\nAED Million\\nFees and commissions 45.1 45.4\\nOther income  -    0.3 \\nTotal Revenues 45.1 45.7 \\nTotal expenses (48.9) (44.0)\\n(Loss) / Profit for the year (3.8) 1.8 \\n NON-FINANCIAL SERVICES \\nBUSINESS REVIEW  \\nCONTINUED\\nADIB Annual Report 2021\\n38', metadata={'page': 37, 'source': '/home/fasih/ADIB/annual_report/ADIB Annual Report 2021.pdf'}), Document(page_content='Financial StatementsAbridged Income StatementFor the year ended  \\n31 December\\n2021\\nAED Million2022\\nAED Million\\nFees and commissions 45.4 46.4\\nOther income  0.3  - \\nTotal Revenues 45.7 46.4 \\nTotal expenses (44.0) (41.1)\\n(Loss) / Profit for the year 1.8 5.3 \\n NON-FINANCIAL SERVICES \\nBUSINESS REVIEW \\nCONTINUED\\nOPERATIONAL \\nREVIEW \\nRetail banking group \\nWholesale banking group \\nTreasury \\nInternational banking group\\nDigital \\nOur people 40\\n44\\n46\\n48\\n49\\n52\\n 39\\nADIB Annual Report 2022 \\nADIB Annual Report 2022\\n 38', metadata={'page': 19, 'source': '/home/fasih/ADIB/annual_report/annual_report_2022_en.pdf'}), Document(page_content='Financial StatementsAbridged Income StatementFor the year ended  \\n31 December\\n2021\\nAED Million2022\\nAED Million\\nFees and commissions 45.4 46.4\\nOther income  0.3  - \\nTotal Revenues 45.7 46.4 \\nTotal expenses (44.0) (41.1)\\n(Loss) / Profit for the year 1.8 5.3 \\n NON-FINANCIAL SERVICES \\nBUSINESS REVIEW \\nCONTINUED\\nOPERATIONAL \\nREVIEW \\nRetail banking group \\nWholesale banking group \\nTreasury \\nInternational banking group\\nDigital \\nOur people 40\\n44\\n46\\n48\\n49\\n52\\n 39\\nADIB Annual Report 2022 \\nADIB Annual Report 2022\\n 38', metadata={'page': 19, 'source': '/home/fasih/ADIB/annual_report/ADIB Annual Report 2022.pdf'}), Document(page_content='Income statement\\nAED (mn) FY 2021 FY 2020 \\uf072 % 4Q 2021 4Q 2020 \\uf072 %\\nGross revenue from funds 3,675 3,827 -4% 882 922 -4%\\nDistribution to depositors (330) (502) -34% (82) (95) -13%\\nFunded income 3,345 3,324 +1% 800 828 -3%\\nInvestment income 994 791 +26% 328 233 +40%\\nFees, commissions income, net 958 992 -3% 269 274 -2%\\nForeign exchange income 248 223 +11% 65 77 -15%\\nOther income 14 27 -48% 6 13 -58%\\nNon-funded income 2,215 2,034 +9% 667 598 +12%\\nRevenues 5,560 5,358 +4% 1,467 1,426 +3%\\nOperating expenses (2,260) (2,450) -8% (531) (578) -8%\\nProvision for impairment (954) (1,314) -27% (203) (360) -44%\\nNet income before zakat and income tax 2,345 1,594 +47% 733 487 +50%\\nZakat and tax (15) 10 -252% (4) (5) -14%\\nNet income after zakat and tax 2,330 1,604 +45% 728 483 +51%\\nNon-controllable interest (1) (1) +20% (1) (0) +156%\\nNet income attributable to equity holders of the bank 2,329 1,603 +45% 727 482 +51%\\nEPS 0.57 0.36 +57%\\nNet profit margin 3.25% 3.51% -27bps\\nCost to income ratio 40.7% 45.7% -5.1ppts\\nCost of risk 0.99% 1.28% -29bps\\nROE 14.3% 9.6% +463bps\\nROA 1.76% 1.26% +50bps\\nADIB Annual Report 2021\\n32', metadata={'page': 31, 'source': '/home/fasih/ADIB/annual_report/ADIB Annual Report 2021.pdf'})]\u001b[0m\u001b[32;1m\u001b[1;3m\n",
      "Invoking: `search_adib_annual_report` with `{'search_term': 'balance sheet'}`\n",
      "\n",
      "\n",
      "\u001b[0m\u001b[33;1m\u001b[1;3m[Document(page_content='December 2022.\\nf)   Customized measurement tools or metrics that assess the structure of the bank’s balance sheet or that project cash flows and future \\nliquidity positions, taking into account off-balance sheet risks which are specific to that bank. \\nAED ‘000sOn Balance Sheet Exposures – 31 December 2022\\nLess than 3 \\nmonths3 months to 1 \\nyear 1 to 5 years Over 5 years Total\\nCash and balances with central banks 16,884,794 5,959,803 1,384,705 - 24,229,302\\nBalance and wakala deposits with Islamic banks and other \\nfinancial institutions 2,535,837 131,712 110,175 143,370 2,921,094\\nMurabaha and mudaraba with financial institution 1,910,946 654,004 1,954,486 - 4,519,436\\nMurabaha, Ijara and other Islamic financing 9,277,630 16,439,027 53,593,408 28,406,842 107,716,907\\nInvestment in sukuk at amortised cost 114,483 68,927 6,181,146 8,005,735 14,370,291\\nInvestment measured at fair value 1,717,797 187,237 1,428,232 1,728,728 5,061,994\\nInvestment in associates and joint ventures - - - 776,084 776,084\\nOther assets 1,409,911 247,137 527,620 14,385 2,199,053\\nFinancial assets 33,851,398 23,687,847 65,179,772 39,075,144 161,794,161\\nNon-financial assets 6,722,930\\nTotal assets 168,517,091\\nLiabilities\\nDue to financial institutions 2,834,242 - - - 2,834,242\\nDepositors’ accounts 117,574,321 12,193,948 8,368,334 -138,136,603\\nOther liabilities 1,574,916 307,901 2,174,119 28,640 4,085,576\\nTotal Liabilities 121,983,479 12,501,849 10,542,453 28,640 145,056,421', metadata={'page': 90, 'source': '/home/fasih/ADIB/annual_report/annual_report_2022_en.pdf'}), Document(page_content='December 2022.\\nf)   Customized measurement tools or metrics that assess the structure of the bank’s balance sheet or that project cash flows and future \\nliquidity positions, taking into account off-balance sheet risks which are specific to that bank. \\nAED ‘000sOn Balance Sheet Exposures – 31 December 2022\\nLess than 3 \\nmonths3 months to 1 \\nyear 1 to 5 years Over 5 years Total\\nCash and balances with central banks 16,884,794 5,959,803 1,384,705 - 24,229,302\\nBalance and wakala deposits with Islamic banks and other \\nfinancial institutions 2,535,837 131,712 110,175 143,370 2,921,094\\nMurabaha and mudaraba with financial institution 1,910,946 654,004 1,954,486 - 4,519,436\\nMurabaha, Ijara and other Islamic financing 9,277,630 16,439,027 53,593,408 28,406,842 107,716,907\\nInvestment in sukuk at amortised cost 114,483 68,927 6,181,146 8,005,735 14,370,291\\nInvestment measured at fair value 1,717,797 187,237 1,428,232 1,728,728 5,061,994\\nInvestment in associates and joint ventures - - - 776,084 776,084\\nOther assets 1,409,911 247,137 527,620 14,385 2,199,053\\nFinancial assets 33,851,398 23,687,847 65,179,772 39,075,144 161,794,161\\nNon-financial assets 6,722,930\\nTotal assets 168,517,091\\nLiabilities\\nDue to financial institutions 2,834,242 - - - 2,834,242\\nDepositors’ accounts 117,574,321 12,193,948 8,368,334 -138,136,603\\nOther liabilities 1,574,916 307,901 2,174,119 28,640 4,085,576\\nTotal Liabilities 121,983,479 12,501,849 10,542,453 28,640 145,056,421', metadata={'page': 90, 'source': '/home/fasih/ADIB/annual_report/ADIB Annual Report 2022.pdf'}), Document(page_content='BUSINESS \\nAND FINANCIAL REVIEW\\nCONTINUED\\nBalance Sheet Trends  \\nThe bank reported solid 7% balance sheet growth during the year to AED 136.9 billion.\\nBalance sheet growth was driven by 6% growth in net financing and 11% growth in cash and balances with the Central Bank of the UAE \\nand with financial institutions. This growth in liquid assets arose from solid deposit growth and gives us options for profitable \\nredeployment or further funding optimization.\\nBalance Sheet\\nAED (mn) Dec 2021 Dec 2020 \\uf072 %\\nCash and balances with central banks 21,699 19,580 +11%\\nDue from financial institutions 4,530 2,420 +87%\\nCustomer financing 88,252 83,409 +6%\\nInvestments 13,691 13,809 -1%\\nInvestment in associates 1,604 1,302 +23%\\nInvestment and development properties 2,003 2,024 -1%\\nOther assets 5,089 5,273 -3%\\nTotal assets 136,868 127,816 +7%\\nDue to financial institutions 3,536 3,773 -6%\\nTotal deposits 109,611 101,276 +8%\\nOther liabilities 3,162 3,605 -12%\\nTotal liabilities 116,309 108,654 +7%\\nShare capital 3,632 3,632 -\\nRetained earnings 6,741 5,671 +19%\\nOther reserves 5,420 5,093 +6%\\nEquity attributable to shareholders of the bank 15,793 14,396 +10%\\nTier 1 sukuk 4,754 4,754 -\\nNon - controllable interest 12 11 +3%\\nEquity attributable to equity holders of the bank 20,559 19,162 +7%\\n    \\nCustomer financing, gross 93,129 87,407 +7%\\nNon-performing financing (NPA) 8,286 7,689 +8%\\nNPA ratio 8.9% 8.8% +10bps\\nNPA coverage ratio 66.8% 57.9% +8.8ppts', metadata={'page': 33, 'source': '/home/fasih/ADIB/annual_report/ADIB Annual Report 2021.pdf'}), Document(page_content='Abridged Balance Sheet 31 December\\n2020\\nAED Million2021\\nAED Million\\nASSETS\\nBank balances and cash  159.2  122.2 \\nInvestment in properties  1,676.7  1,671.4 \\nInvestments in equities  13.4  15.4 \\nProperty and equipment  143.2  145.1 \\nOther receiavbles  7.9  9.9 \\nTotal Assets  2,000.4  1,964.1 \\nLIABILITIES\\nMurabaha payable  1,996.6  1,081.9 \\nOther payables  726.8  365.7 \\n 2,723.4  1,447.6 \\nEQUITY\\nShare capital  500.0  500.0 \\nAccumulated losse s, retained earnings \\nand other reserves (1,223.0) 16.5 \\n(723.0) 516.5 \\nTotal Liabilities and Equity  2,000.4  1,964.1 \\nThe above financial results are consoldiated line by line in the Abu Dhabi Islamic \\nBank’s consolidated financial statements as required by IFRS10-Consolidated \\nFinancial Statements Abridged Income StatementFor the year ended  \\n31 December\\n2020\\nAED Million2021\\nAED Million\\nInvestment revenues 24.8 16.0 \\nOther revenues 1.6 1.5 \\nTotal Revenues 26.4 17.5 \\nTotal expenses (17.5) (15.8)\\nProvision for impairment (31.8)  -   \\n(Loss) / Profit  for the year (22.9) 1.6 Burooj Properties LLC\\nThe repositioning of ADIB’s Real Estate subsidiary, Burooj Properties, to \\nbetter reflect the Group’s investment and development property \\nportfolio, continued in 2021. While we have noticed some \\nimprovement in the real estate market in the UAE, the company has \\ncontinued enhancing its portfolio performance and kept a competitive \\noccupancy rate. The combination of market recovery signs and', metadata={'page': 36, 'source': '/home/fasih/ADIB/annual_report/ADIB Annual Report 2021.pdf'})]\u001b[0m"
     ]
    },
    {
     "ename": "InvalidRequestError",
     "evalue": "This model's maximum context length is 4097 tokens. However, your messages resulted in 4864 tokens (4725 in the messages, 139 in the functions). Please reduce the length of the messages or functions.",
     "output_type": "error",
     "traceback": [
      "\u001b[0;31m---------------------------------------------------------------------------\u001b[0m",
      "\u001b[0;31mInvalidRequestError\u001b[0m                       Traceback (most recent call last)",
      "Cell \u001b[0;32mIn[13], line 1\u001b[0m\n\u001b[0;32m----> 1\u001b[0m result \u001b[38;5;241m=\u001b[39m \u001b[43magent\u001b[49m\u001b[38;5;241;43m.\u001b[39;49m\u001b[43mrun\u001b[49m\u001b[43m(\u001b[49m\u001b[38;5;124;43m'\u001b[39;49m\u001b[38;5;124;43mWhich components of the income statement, balance sheet, and cash flows have exhibited irregular trends over the past three years?\u001b[39;49m\u001b[38;5;124;43m'\u001b[39;49m\u001b[43m)\u001b[49m\n\u001b[1;32m      2\u001b[0m result\n",
      "File \u001b[0;32m~/tradeadvisor/venv/lib/python3.10/site-packages/langchain/chains/base.py:475\u001b[0m, in \u001b[0;36mChain.run\u001b[0;34m(self, callbacks, tags, metadata, *args, **kwargs)\u001b[0m\n\u001b[1;32m    473\u001b[0m     \u001b[38;5;28;01mif\u001b[39;00m \u001b[38;5;28mlen\u001b[39m(args) \u001b[38;5;241m!=\u001b[39m \u001b[38;5;241m1\u001b[39m:\n\u001b[1;32m    474\u001b[0m         \u001b[38;5;28;01mraise\u001b[39;00m \u001b[38;5;167;01mValueError\u001b[39;00m(\u001b[38;5;124m\"\u001b[39m\u001b[38;5;124m`run` supports only one positional argument.\u001b[39m\u001b[38;5;124m\"\u001b[39m)\n\u001b[0;32m--> 475\u001b[0m     \u001b[38;5;28;01mreturn\u001b[39;00m \u001b[38;5;28;43mself\u001b[39;49m\u001b[43m(\u001b[49m\u001b[43margs\u001b[49m\u001b[43m[\u001b[49m\u001b[38;5;241;43m0\u001b[39;49m\u001b[43m]\u001b[49m\u001b[43m,\u001b[49m\u001b[43m \u001b[49m\u001b[43mcallbacks\u001b[49m\u001b[38;5;241;43m=\u001b[39;49m\u001b[43mcallbacks\u001b[49m\u001b[43m,\u001b[49m\u001b[43m \u001b[49m\u001b[43mtags\u001b[49m\u001b[38;5;241;43m=\u001b[39;49m\u001b[43mtags\u001b[49m\u001b[43m,\u001b[49m\u001b[43m \u001b[49m\u001b[43mmetadata\u001b[49m\u001b[38;5;241;43m=\u001b[39;49m\u001b[43mmetadata\u001b[49m\u001b[43m)\u001b[49m[\n\u001b[1;32m    476\u001b[0m         _output_key\n\u001b[1;32m    477\u001b[0m     ]\n\u001b[1;32m    479\u001b[0m \u001b[38;5;28;01mif\u001b[39;00m kwargs \u001b[38;5;129;01mand\u001b[39;00m \u001b[38;5;129;01mnot\u001b[39;00m args:\n\u001b[1;32m    480\u001b[0m     \u001b[38;5;28;01mreturn\u001b[39;00m \u001b[38;5;28mself\u001b[39m(kwargs, callbacks\u001b[38;5;241m=\u001b[39mcallbacks, tags\u001b[38;5;241m=\u001b[39mtags, metadata\u001b[38;5;241m=\u001b[39mmetadata)[\n\u001b[1;32m    481\u001b[0m         _output_key\n\u001b[1;32m    482\u001b[0m     ]\n",
      "File \u001b[0;32m~/tradeadvisor/venv/lib/python3.10/site-packages/langchain/chains/base.py:282\u001b[0m, in \u001b[0;36mChain.__call__\u001b[0;34m(self, inputs, return_only_outputs, callbacks, tags, metadata, include_run_info)\u001b[0m\n\u001b[1;32m    280\u001b[0m \u001b[38;5;28;01mexcept\u001b[39;00m (\u001b[38;5;167;01mKeyboardInterrupt\u001b[39;00m, \u001b[38;5;167;01mException\u001b[39;00m) \u001b[38;5;28;01mas\u001b[39;00m e:\n\u001b[1;32m    281\u001b[0m     run_manager\u001b[38;5;241m.\u001b[39mon_chain_error(e)\n\u001b[0;32m--> 282\u001b[0m     \u001b[38;5;28;01mraise\u001b[39;00m e\n\u001b[1;32m    283\u001b[0m run_manager\u001b[38;5;241m.\u001b[39mon_chain_end(outputs)\n\u001b[1;32m    284\u001b[0m final_outputs: Dict[\u001b[38;5;28mstr\u001b[39m, Any] \u001b[38;5;241m=\u001b[39m \u001b[38;5;28mself\u001b[39m\u001b[38;5;241m.\u001b[39mprep_outputs(\n\u001b[1;32m    285\u001b[0m     inputs, outputs, return_only_outputs\n\u001b[1;32m    286\u001b[0m )\n",
      "File \u001b[0;32m~/tradeadvisor/venv/lib/python3.10/site-packages/langchain/chains/base.py:276\u001b[0m, in \u001b[0;36mChain.__call__\u001b[0;34m(self, inputs, return_only_outputs, callbacks, tags, metadata, include_run_info)\u001b[0m\n\u001b[1;32m    270\u001b[0m run_manager \u001b[38;5;241m=\u001b[39m callback_manager\u001b[38;5;241m.\u001b[39mon_chain_start(\n\u001b[1;32m    271\u001b[0m     dumpd(\u001b[38;5;28mself\u001b[39m),\n\u001b[1;32m    272\u001b[0m     inputs,\n\u001b[1;32m    273\u001b[0m )\n\u001b[1;32m    274\u001b[0m \u001b[38;5;28;01mtry\u001b[39;00m:\n\u001b[1;32m    275\u001b[0m     outputs \u001b[38;5;241m=\u001b[39m (\n\u001b[0;32m--> 276\u001b[0m         \u001b[38;5;28;43mself\u001b[39;49m\u001b[38;5;241;43m.\u001b[39;49m\u001b[43m_call\u001b[49m\u001b[43m(\u001b[49m\u001b[43minputs\u001b[49m\u001b[43m,\u001b[49m\u001b[43m \u001b[49m\u001b[43mrun_manager\u001b[49m\u001b[38;5;241;43m=\u001b[39;49m\u001b[43mrun_manager\u001b[49m\u001b[43m)\u001b[49m\n\u001b[1;32m    277\u001b[0m         \u001b[38;5;28;01mif\u001b[39;00m new_arg_supported\n\u001b[1;32m    278\u001b[0m         \u001b[38;5;28;01melse\u001b[39;00m \u001b[38;5;28mself\u001b[39m\u001b[38;5;241m.\u001b[39m_call(inputs)\n\u001b[1;32m    279\u001b[0m     )\n\u001b[1;32m    280\u001b[0m \u001b[38;5;28;01mexcept\u001b[39;00m (\u001b[38;5;167;01mKeyboardInterrupt\u001b[39;00m, \u001b[38;5;167;01mException\u001b[39;00m) \u001b[38;5;28;01mas\u001b[39;00m e:\n\u001b[1;32m    281\u001b[0m     run_manager\u001b[38;5;241m.\u001b[39mon_chain_error(e)\n",
      "File \u001b[0;32m~/tradeadvisor/venv/lib/python3.10/site-packages/langchain/agents/agent.py:1036\u001b[0m, in \u001b[0;36mAgentExecutor._call\u001b[0;34m(self, inputs, run_manager)\u001b[0m\n\u001b[1;32m   1034\u001b[0m \u001b[38;5;66;03m# We now enter the agent loop (until it returns something).\u001b[39;00m\n\u001b[1;32m   1035\u001b[0m \u001b[38;5;28;01mwhile\u001b[39;00m \u001b[38;5;28mself\u001b[39m\u001b[38;5;241m.\u001b[39m_should_continue(iterations, time_elapsed):\n\u001b[0;32m-> 1036\u001b[0m     next_step_output \u001b[38;5;241m=\u001b[39m \u001b[38;5;28;43mself\u001b[39;49m\u001b[38;5;241;43m.\u001b[39;49m\u001b[43m_take_next_step\u001b[49m\u001b[43m(\u001b[49m\n\u001b[1;32m   1037\u001b[0m \u001b[43m        \u001b[49m\u001b[43mname_to_tool_map\u001b[49m\u001b[43m,\u001b[49m\n\u001b[1;32m   1038\u001b[0m \u001b[43m        \u001b[49m\u001b[43mcolor_mapping\u001b[49m\u001b[43m,\u001b[49m\n\u001b[1;32m   1039\u001b[0m \u001b[43m        \u001b[49m\u001b[43minputs\u001b[49m\u001b[43m,\u001b[49m\n\u001b[1;32m   1040\u001b[0m \u001b[43m        \u001b[49m\u001b[43mintermediate_steps\u001b[49m\u001b[43m,\u001b[49m\n\u001b[1;32m   1041\u001b[0m \u001b[43m        \u001b[49m\u001b[43mrun_manager\u001b[49m\u001b[38;5;241;43m=\u001b[39;49m\u001b[43mrun_manager\u001b[49m\u001b[43m,\u001b[49m\n\u001b[1;32m   1042\u001b[0m \u001b[43m    \u001b[49m\u001b[43m)\u001b[49m\n\u001b[1;32m   1043\u001b[0m     \u001b[38;5;28;01mif\u001b[39;00m \u001b[38;5;28misinstance\u001b[39m(next_step_output, AgentFinish):\n\u001b[1;32m   1044\u001b[0m         \u001b[38;5;28;01mreturn\u001b[39;00m \u001b[38;5;28mself\u001b[39m\u001b[38;5;241m.\u001b[39m_return(\n\u001b[1;32m   1045\u001b[0m             next_step_output, intermediate_steps, run_manager\u001b[38;5;241m=\u001b[39mrun_manager\n\u001b[1;32m   1046\u001b[0m         )\n",
      "File \u001b[0;32m~/tradeadvisor/venv/lib/python3.10/site-packages/langchain/agents/agent.py:833\u001b[0m, in \u001b[0;36mAgentExecutor._take_next_step\u001b[0;34m(self, name_to_tool_map, color_mapping, inputs, intermediate_steps, run_manager)\u001b[0m\n\u001b[1;32m    830\u001b[0m     intermediate_steps \u001b[38;5;241m=\u001b[39m \u001b[38;5;28mself\u001b[39m\u001b[38;5;241m.\u001b[39m_prepare_intermediate_steps(intermediate_steps)\n\u001b[1;32m    832\u001b[0m     \u001b[38;5;66;03m# Call the LLM to see what to do.\u001b[39;00m\n\u001b[0;32m--> 833\u001b[0m     output \u001b[38;5;241m=\u001b[39m \u001b[38;5;28;43mself\u001b[39;49m\u001b[38;5;241;43m.\u001b[39;49m\u001b[43magent\u001b[49m\u001b[38;5;241;43m.\u001b[39;49m\u001b[43mplan\u001b[49m\u001b[43m(\u001b[49m\n\u001b[1;32m    834\u001b[0m \u001b[43m        \u001b[49m\u001b[43mintermediate_steps\u001b[49m\u001b[43m,\u001b[49m\n\u001b[1;32m    835\u001b[0m \u001b[43m        \u001b[49m\u001b[43mcallbacks\u001b[49m\u001b[38;5;241;43m=\u001b[39;49m\u001b[43mrun_manager\u001b[49m\u001b[38;5;241;43m.\u001b[39;49m\u001b[43mget_child\u001b[49m\u001b[43m(\u001b[49m\u001b[43m)\u001b[49m\u001b[43m \u001b[49m\u001b[38;5;28;43;01mif\u001b[39;49;00m\u001b[43m \u001b[49m\u001b[43mrun_manager\u001b[49m\u001b[43m \u001b[49m\u001b[38;5;28;43;01melse\u001b[39;49;00m\u001b[43m \u001b[49m\u001b[38;5;28;43;01mNone\u001b[39;49;00m\u001b[43m,\u001b[49m\n\u001b[1;32m    836\u001b[0m \u001b[43m        \u001b[49m\u001b[38;5;241;43m*\u001b[39;49m\u001b[38;5;241;43m*\u001b[39;49m\u001b[43minputs\u001b[49m\u001b[43m,\u001b[49m\n\u001b[1;32m    837\u001b[0m \u001b[43m    \u001b[49m\u001b[43m)\u001b[49m\n\u001b[1;32m    838\u001b[0m \u001b[38;5;28;01mexcept\u001b[39;00m OutputParserException \u001b[38;5;28;01mas\u001b[39;00m e:\n\u001b[1;32m    839\u001b[0m     \u001b[38;5;28;01mif\u001b[39;00m \u001b[38;5;28misinstance\u001b[39m(\u001b[38;5;28mself\u001b[39m\u001b[38;5;241m.\u001b[39mhandle_parsing_errors, \u001b[38;5;28mbool\u001b[39m):\n",
      "File \u001b[0;32m~/tradeadvisor/venv/lib/python3.10/site-packages/langchain/agents/openai_functions_agent/base.py:212\u001b[0m, in \u001b[0;36mOpenAIFunctionsAgent.plan\u001b[0;34m(self, intermediate_steps, callbacks, with_functions, **kwargs)\u001b[0m\n\u001b[1;32m    210\u001b[0m messages \u001b[38;5;241m=\u001b[39m prompt\u001b[38;5;241m.\u001b[39mto_messages()\n\u001b[1;32m    211\u001b[0m \u001b[38;5;28;01mif\u001b[39;00m with_functions:\n\u001b[0;32m--> 212\u001b[0m     predicted_message \u001b[38;5;241m=\u001b[39m \u001b[38;5;28;43mself\u001b[39;49m\u001b[38;5;241;43m.\u001b[39;49m\u001b[43mllm\u001b[49m\u001b[38;5;241;43m.\u001b[39;49m\u001b[43mpredict_messages\u001b[49m\u001b[43m(\u001b[49m\n\u001b[1;32m    213\u001b[0m \u001b[43m        \u001b[49m\u001b[43mmessages\u001b[49m\u001b[43m,\u001b[49m\n\u001b[1;32m    214\u001b[0m \u001b[43m        \u001b[49m\u001b[43mfunctions\u001b[49m\u001b[38;5;241;43m=\u001b[39;49m\u001b[38;5;28;43mself\u001b[39;49m\u001b[38;5;241;43m.\u001b[39;49m\u001b[43mfunctions\u001b[49m\u001b[43m,\u001b[49m\n\u001b[1;32m    215\u001b[0m \u001b[43m        \u001b[49m\u001b[43mcallbacks\u001b[49m\u001b[38;5;241;43m=\u001b[39;49m\u001b[43mcallbacks\u001b[49m\u001b[43m,\u001b[49m\n\u001b[1;32m    216\u001b[0m \u001b[43m    \u001b[49m\u001b[43m)\u001b[49m\n\u001b[1;32m    217\u001b[0m \u001b[38;5;28;01melse\u001b[39;00m:\n\u001b[1;32m    218\u001b[0m     predicted_message \u001b[38;5;241m=\u001b[39m \u001b[38;5;28mself\u001b[39m\u001b[38;5;241m.\u001b[39mllm\u001b[38;5;241m.\u001b[39mpredict_messages(\n\u001b[1;32m    219\u001b[0m         messages,\n\u001b[1;32m    220\u001b[0m         callbacks\u001b[38;5;241m=\u001b[39mcallbacks,\n\u001b[1;32m    221\u001b[0m     )\n",
      "File \u001b[0;32m~/tradeadvisor/venv/lib/python3.10/site-packages/langchain/chat_models/base.py:602\u001b[0m, in \u001b[0;36mBaseChatModel.predict_messages\u001b[0;34m(self, messages, stop, **kwargs)\u001b[0m\n\u001b[1;32m    600\u001b[0m \u001b[38;5;28;01melse\u001b[39;00m:\n\u001b[1;32m    601\u001b[0m     _stop \u001b[38;5;241m=\u001b[39m \u001b[38;5;28mlist\u001b[39m(stop)\n\u001b[0;32m--> 602\u001b[0m \u001b[38;5;28;01mreturn\u001b[39;00m \u001b[38;5;28;43mself\u001b[39;49m\u001b[43m(\u001b[49m\u001b[43mmessages\u001b[49m\u001b[43m,\u001b[49m\u001b[43m \u001b[49m\u001b[43mstop\u001b[49m\u001b[38;5;241;43m=\u001b[39;49m\u001b[43m_stop\u001b[49m\u001b[43m,\u001b[49m\u001b[43m \u001b[49m\u001b[38;5;241;43m*\u001b[39;49m\u001b[38;5;241;43m*\u001b[39;49m\u001b[43mkwargs\u001b[49m\u001b[43m)\u001b[49m\n",
      "File \u001b[0;32m~/tradeadvisor/venv/lib/python3.10/site-packages/langchain/chat_models/base.py:552\u001b[0m, in \u001b[0;36mBaseChatModel.__call__\u001b[0;34m(self, messages, stop, callbacks, **kwargs)\u001b[0m\n\u001b[1;32m    545\u001b[0m \u001b[38;5;28;01mdef\u001b[39;00m \u001b[38;5;21m__call__\u001b[39m(\n\u001b[1;32m    546\u001b[0m     \u001b[38;5;28mself\u001b[39m,\n\u001b[1;32m    547\u001b[0m     messages: List[BaseMessage],\n\u001b[0;32m   (...)\u001b[0m\n\u001b[1;32m    550\u001b[0m     \u001b[38;5;241m*\u001b[39m\u001b[38;5;241m*\u001b[39mkwargs: Any,\n\u001b[1;32m    551\u001b[0m ) \u001b[38;5;241m-\u001b[39m\u001b[38;5;241m>\u001b[39m BaseMessage:\n\u001b[0;32m--> 552\u001b[0m     generation \u001b[38;5;241m=\u001b[39m \u001b[38;5;28;43mself\u001b[39;49m\u001b[38;5;241;43m.\u001b[39;49m\u001b[43mgenerate\u001b[49m\u001b[43m(\u001b[49m\n\u001b[1;32m    553\u001b[0m \u001b[43m        \u001b[49m\u001b[43m[\u001b[49m\u001b[43mmessages\u001b[49m\u001b[43m]\u001b[49m\u001b[43m,\u001b[49m\u001b[43m \u001b[49m\u001b[43mstop\u001b[49m\u001b[38;5;241;43m=\u001b[39;49m\u001b[43mstop\u001b[49m\u001b[43m,\u001b[49m\u001b[43m \u001b[49m\u001b[43mcallbacks\u001b[49m\u001b[38;5;241;43m=\u001b[39;49m\u001b[43mcallbacks\u001b[49m\u001b[43m,\u001b[49m\u001b[43m \u001b[49m\u001b[38;5;241;43m*\u001b[39;49m\u001b[38;5;241;43m*\u001b[39;49m\u001b[43mkwargs\u001b[49m\n\u001b[1;32m    554\u001b[0m \u001b[43m    \u001b[49m\u001b[43m)\u001b[49m\u001b[38;5;241m.\u001b[39mgenerations[\u001b[38;5;241m0\u001b[39m][\u001b[38;5;241m0\u001b[39m]\n\u001b[1;32m    555\u001b[0m     \u001b[38;5;28;01mif\u001b[39;00m \u001b[38;5;28misinstance\u001b[39m(generation, ChatGeneration):\n\u001b[1;32m    556\u001b[0m         \u001b[38;5;28;01mreturn\u001b[39;00m generation\u001b[38;5;241m.\u001b[39mmessage\n",
      "File \u001b[0;32m~/tradeadvisor/venv/lib/python3.10/site-packages/langchain/chat_models/base.py:310\u001b[0m, in \u001b[0;36mBaseChatModel.generate\u001b[0;34m(self, messages, stop, callbacks, tags, metadata, **kwargs)\u001b[0m\n\u001b[1;32m    308\u001b[0m         \u001b[38;5;28;01mif\u001b[39;00m run_managers:\n\u001b[1;32m    309\u001b[0m             run_managers[i]\u001b[38;5;241m.\u001b[39mon_llm_error(e)\n\u001b[0;32m--> 310\u001b[0m         \u001b[38;5;28;01mraise\u001b[39;00m e\n\u001b[1;32m    311\u001b[0m flattened_outputs \u001b[38;5;241m=\u001b[39m [\n\u001b[1;32m    312\u001b[0m     LLMResult(generations\u001b[38;5;241m=\u001b[39m[res\u001b[38;5;241m.\u001b[39mgenerations], llm_output\u001b[38;5;241m=\u001b[39mres\u001b[38;5;241m.\u001b[39mllm_output)\n\u001b[1;32m    313\u001b[0m     \u001b[38;5;28;01mfor\u001b[39;00m res \u001b[38;5;129;01min\u001b[39;00m results\n\u001b[1;32m    314\u001b[0m ]\n\u001b[1;32m    315\u001b[0m llm_output \u001b[38;5;241m=\u001b[39m \u001b[38;5;28mself\u001b[39m\u001b[38;5;241m.\u001b[39m_combine_llm_outputs([res\u001b[38;5;241m.\u001b[39mllm_output \u001b[38;5;28;01mfor\u001b[39;00m res \u001b[38;5;129;01min\u001b[39;00m results])\n",
      "File \u001b[0;32m~/tradeadvisor/venv/lib/python3.10/site-packages/langchain/chat_models/base.py:300\u001b[0m, in \u001b[0;36mBaseChatModel.generate\u001b[0;34m(self, messages, stop, callbacks, tags, metadata, **kwargs)\u001b[0m\n\u001b[1;32m    297\u001b[0m \u001b[38;5;28;01mfor\u001b[39;00m i, m \u001b[38;5;129;01min\u001b[39;00m \u001b[38;5;28menumerate\u001b[39m(messages):\n\u001b[1;32m    298\u001b[0m     \u001b[38;5;28;01mtry\u001b[39;00m:\n\u001b[1;32m    299\u001b[0m         results\u001b[38;5;241m.\u001b[39mappend(\n\u001b[0;32m--> 300\u001b[0m             \u001b[38;5;28;43mself\u001b[39;49m\u001b[38;5;241;43m.\u001b[39;49m\u001b[43m_generate_with_cache\u001b[49m\u001b[43m(\u001b[49m\n\u001b[1;32m    301\u001b[0m \u001b[43m                \u001b[49m\u001b[43mm\u001b[49m\u001b[43m,\u001b[49m\n\u001b[1;32m    302\u001b[0m \u001b[43m                \u001b[49m\u001b[43mstop\u001b[49m\u001b[38;5;241;43m=\u001b[39;49m\u001b[43mstop\u001b[49m\u001b[43m,\u001b[49m\n\u001b[1;32m    303\u001b[0m \u001b[43m                \u001b[49m\u001b[43mrun_manager\u001b[49m\u001b[38;5;241;43m=\u001b[39;49m\u001b[43mrun_managers\u001b[49m\u001b[43m[\u001b[49m\u001b[43mi\u001b[49m\u001b[43m]\u001b[49m\u001b[43m \u001b[49m\u001b[38;5;28;43;01mif\u001b[39;49;00m\u001b[43m \u001b[49m\u001b[43mrun_managers\u001b[49m\u001b[43m \u001b[49m\u001b[38;5;28;43;01melse\u001b[39;49;00m\u001b[43m \u001b[49m\u001b[38;5;28;43;01mNone\u001b[39;49;00m\u001b[43m,\u001b[49m\n\u001b[1;32m    304\u001b[0m \u001b[43m                \u001b[49m\u001b[38;5;241;43m*\u001b[39;49m\u001b[38;5;241;43m*\u001b[39;49m\u001b[43mkwargs\u001b[49m\u001b[43m,\u001b[49m\n\u001b[1;32m    305\u001b[0m \u001b[43m            \u001b[49m\u001b[43m)\u001b[49m\n\u001b[1;32m    306\u001b[0m         )\n\u001b[1;32m    307\u001b[0m     \u001b[38;5;28;01mexcept\u001b[39;00m (\u001b[38;5;167;01mKeyboardInterrupt\u001b[39;00m, \u001b[38;5;167;01mException\u001b[39;00m) \u001b[38;5;28;01mas\u001b[39;00m e:\n\u001b[1;32m    308\u001b[0m         \u001b[38;5;28;01mif\u001b[39;00m run_managers:\n",
      "File \u001b[0;32m~/tradeadvisor/venv/lib/python3.10/site-packages/langchain/chat_models/base.py:447\u001b[0m, in \u001b[0;36mBaseChatModel._generate_with_cache\u001b[0;34m(self, messages, stop, run_manager, **kwargs)\u001b[0m\n\u001b[1;32m    443\u001b[0m     \u001b[38;5;28;01mraise\u001b[39;00m \u001b[38;5;167;01mValueError\u001b[39;00m(\n\u001b[1;32m    444\u001b[0m         \u001b[38;5;124m\"\u001b[39m\u001b[38;5;124mAsked to cache, but no cache found at `langchain.cache`.\u001b[39m\u001b[38;5;124m\"\u001b[39m\n\u001b[1;32m    445\u001b[0m     )\n\u001b[1;32m    446\u001b[0m \u001b[38;5;28;01mif\u001b[39;00m new_arg_supported:\n\u001b[0;32m--> 447\u001b[0m     \u001b[38;5;28;01mreturn\u001b[39;00m \u001b[38;5;28;43mself\u001b[39;49m\u001b[38;5;241;43m.\u001b[39;49m\u001b[43m_generate\u001b[49m\u001b[43m(\u001b[49m\n\u001b[1;32m    448\u001b[0m \u001b[43m        \u001b[49m\u001b[43mmessages\u001b[49m\u001b[43m,\u001b[49m\u001b[43m \u001b[49m\u001b[43mstop\u001b[49m\u001b[38;5;241;43m=\u001b[39;49m\u001b[43mstop\u001b[49m\u001b[43m,\u001b[49m\u001b[43m \u001b[49m\u001b[43mrun_manager\u001b[49m\u001b[38;5;241;43m=\u001b[39;49m\u001b[43mrun_manager\u001b[49m\u001b[43m,\u001b[49m\u001b[43m \u001b[49m\u001b[38;5;241;43m*\u001b[39;49m\u001b[38;5;241;43m*\u001b[39;49m\u001b[43mkwargs\u001b[49m\n\u001b[1;32m    449\u001b[0m \u001b[43m    \u001b[49m\u001b[43m)\u001b[49m\n\u001b[1;32m    450\u001b[0m \u001b[38;5;28;01melse\u001b[39;00m:\n\u001b[1;32m    451\u001b[0m     \u001b[38;5;28;01mreturn\u001b[39;00m \u001b[38;5;28mself\u001b[39m\u001b[38;5;241m.\u001b[39m_generate(messages, stop\u001b[38;5;241m=\u001b[39mstop, \u001b[38;5;241m*\u001b[39m\u001b[38;5;241m*\u001b[39mkwargs)\n",
      "File \u001b[0;32m~/tradeadvisor/venv/lib/python3.10/site-packages/langchain/chat_models/openai.py:340\u001b[0m, in \u001b[0;36mChatOpenAI._generate\u001b[0;34m(self, messages, stop, run_manager, stream, **kwargs)\u001b[0m\n\u001b[1;32m    338\u001b[0m message_dicts, params \u001b[38;5;241m=\u001b[39m \u001b[38;5;28mself\u001b[39m\u001b[38;5;241m.\u001b[39m_create_message_dicts(messages, stop)\n\u001b[1;32m    339\u001b[0m params \u001b[38;5;241m=\u001b[39m {\u001b[38;5;241m*\u001b[39m\u001b[38;5;241m*\u001b[39mparams, \u001b[38;5;241m*\u001b[39m\u001b[38;5;241m*\u001b[39mkwargs}\n\u001b[0;32m--> 340\u001b[0m response \u001b[38;5;241m=\u001b[39m \u001b[38;5;28;43mself\u001b[39;49m\u001b[38;5;241;43m.\u001b[39;49m\u001b[43mcompletion_with_retry\u001b[49m\u001b[43m(\u001b[49m\n\u001b[1;32m    341\u001b[0m \u001b[43m    \u001b[49m\u001b[43mmessages\u001b[49m\u001b[38;5;241;43m=\u001b[39;49m\u001b[43mmessage_dicts\u001b[49m\u001b[43m,\u001b[49m\u001b[43m \u001b[49m\u001b[43mrun_manager\u001b[49m\u001b[38;5;241;43m=\u001b[39;49m\u001b[43mrun_manager\u001b[49m\u001b[43m,\u001b[49m\u001b[43m \u001b[49m\u001b[38;5;241;43m*\u001b[39;49m\u001b[38;5;241;43m*\u001b[39;49m\u001b[43mparams\u001b[49m\n\u001b[1;32m    342\u001b[0m \u001b[43m\u001b[49m\u001b[43m)\u001b[49m\n\u001b[1;32m    343\u001b[0m \u001b[38;5;28;01mreturn\u001b[39;00m \u001b[38;5;28mself\u001b[39m\u001b[38;5;241m.\u001b[39m_create_chat_result(response)\n",
      "File \u001b[0;32m~/tradeadvisor/venv/lib/python3.10/site-packages/langchain/chat_models/openai.py:279\u001b[0m, in \u001b[0;36mChatOpenAI.completion_with_retry\u001b[0;34m(self, run_manager, **kwargs)\u001b[0m\n\u001b[1;32m    275\u001b[0m \u001b[38;5;129m@retry_decorator\u001b[39m\n\u001b[1;32m    276\u001b[0m \u001b[38;5;28;01mdef\u001b[39;00m \u001b[38;5;21m_completion_with_retry\u001b[39m(\u001b[38;5;241m*\u001b[39m\u001b[38;5;241m*\u001b[39mkwargs: Any) \u001b[38;5;241m-\u001b[39m\u001b[38;5;241m>\u001b[39m Any:\n\u001b[1;32m    277\u001b[0m     \u001b[38;5;28;01mreturn\u001b[39;00m \u001b[38;5;28mself\u001b[39m\u001b[38;5;241m.\u001b[39mclient\u001b[38;5;241m.\u001b[39mcreate(\u001b[38;5;241m*\u001b[39m\u001b[38;5;241m*\u001b[39mkwargs)\n\u001b[0;32m--> 279\u001b[0m \u001b[38;5;28;01mreturn\u001b[39;00m \u001b[43m_completion_with_retry\u001b[49m\u001b[43m(\u001b[49m\u001b[38;5;241;43m*\u001b[39;49m\u001b[38;5;241;43m*\u001b[39;49m\u001b[43mkwargs\u001b[49m\u001b[43m)\u001b[49m\n",
      "File \u001b[0;32m~/tradeadvisor/venv/lib/python3.10/site-packages/tenacity/__init__.py:289\u001b[0m, in \u001b[0;36mBaseRetrying.wraps.<locals>.wrapped_f\u001b[0;34m(*args, **kw)\u001b[0m\n\u001b[1;32m    287\u001b[0m \u001b[38;5;129m@functools\u001b[39m\u001b[38;5;241m.\u001b[39mwraps(f)\n\u001b[1;32m    288\u001b[0m \u001b[38;5;28;01mdef\u001b[39;00m \u001b[38;5;21mwrapped_f\u001b[39m(\u001b[38;5;241m*\u001b[39margs: t\u001b[38;5;241m.\u001b[39mAny, \u001b[38;5;241m*\u001b[39m\u001b[38;5;241m*\u001b[39mkw: t\u001b[38;5;241m.\u001b[39mAny) \u001b[38;5;241m-\u001b[39m\u001b[38;5;241m>\u001b[39m t\u001b[38;5;241m.\u001b[39mAny:\n\u001b[0;32m--> 289\u001b[0m     \u001b[38;5;28;01mreturn\u001b[39;00m \u001b[38;5;28;43mself\u001b[39;49m\u001b[43m(\u001b[49m\u001b[43mf\u001b[49m\u001b[43m,\u001b[49m\u001b[43m \u001b[49m\u001b[38;5;241;43m*\u001b[39;49m\u001b[43margs\u001b[49m\u001b[43m,\u001b[49m\u001b[43m \u001b[49m\u001b[38;5;241;43m*\u001b[39;49m\u001b[38;5;241;43m*\u001b[39;49m\u001b[43mkw\u001b[49m\u001b[43m)\u001b[49m\n",
      "File \u001b[0;32m~/tradeadvisor/venv/lib/python3.10/site-packages/tenacity/__init__.py:379\u001b[0m, in \u001b[0;36mRetrying.__call__\u001b[0;34m(self, fn, *args, **kwargs)\u001b[0m\n\u001b[1;32m    377\u001b[0m retry_state \u001b[38;5;241m=\u001b[39m RetryCallState(retry_object\u001b[38;5;241m=\u001b[39m\u001b[38;5;28mself\u001b[39m, fn\u001b[38;5;241m=\u001b[39mfn, args\u001b[38;5;241m=\u001b[39margs, kwargs\u001b[38;5;241m=\u001b[39mkwargs)\n\u001b[1;32m    378\u001b[0m \u001b[38;5;28;01mwhile\u001b[39;00m \u001b[38;5;28;01mTrue\u001b[39;00m:\n\u001b[0;32m--> 379\u001b[0m     do \u001b[38;5;241m=\u001b[39m \u001b[38;5;28;43mself\u001b[39;49m\u001b[38;5;241;43m.\u001b[39;49m\u001b[43miter\u001b[49m\u001b[43m(\u001b[49m\u001b[43mretry_state\u001b[49m\u001b[38;5;241;43m=\u001b[39;49m\u001b[43mretry_state\u001b[49m\u001b[43m)\u001b[49m\n\u001b[1;32m    380\u001b[0m     \u001b[38;5;28;01mif\u001b[39;00m \u001b[38;5;28misinstance\u001b[39m(do, DoAttempt):\n\u001b[1;32m    381\u001b[0m         \u001b[38;5;28;01mtry\u001b[39;00m:\n",
      "File \u001b[0;32m~/tradeadvisor/venv/lib/python3.10/site-packages/tenacity/__init__.py:314\u001b[0m, in \u001b[0;36mBaseRetrying.iter\u001b[0;34m(self, retry_state)\u001b[0m\n\u001b[1;32m    312\u001b[0m is_explicit_retry \u001b[38;5;241m=\u001b[39m fut\u001b[38;5;241m.\u001b[39mfailed \u001b[38;5;129;01mand\u001b[39;00m \u001b[38;5;28misinstance\u001b[39m(fut\u001b[38;5;241m.\u001b[39mexception(), TryAgain)\n\u001b[1;32m    313\u001b[0m \u001b[38;5;28;01mif\u001b[39;00m \u001b[38;5;129;01mnot\u001b[39;00m (is_explicit_retry \u001b[38;5;129;01mor\u001b[39;00m \u001b[38;5;28mself\u001b[39m\u001b[38;5;241m.\u001b[39mretry(retry_state)):\n\u001b[0;32m--> 314\u001b[0m     \u001b[38;5;28;01mreturn\u001b[39;00m \u001b[43mfut\u001b[49m\u001b[38;5;241;43m.\u001b[39;49m\u001b[43mresult\u001b[49m\u001b[43m(\u001b[49m\u001b[43m)\u001b[49m\n\u001b[1;32m    316\u001b[0m \u001b[38;5;28;01mif\u001b[39;00m \u001b[38;5;28mself\u001b[39m\u001b[38;5;241m.\u001b[39mafter \u001b[38;5;129;01mis\u001b[39;00m \u001b[38;5;129;01mnot\u001b[39;00m \u001b[38;5;28;01mNone\u001b[39;00m:\n\u001b[1;32m    317\u001b[0m     \u001b[38;5;28mself\u001b[39m\u001b[38;5;241m.\u001b[39mafter(retry_state)\n",
      "File \u001b[0;32m/usr/lib/python3.10/concurrent/futures/_base.py:451\u001b[0m, in \u001b[0;36mFuture.result\u001b[0;34m(self, timeout)\u001b[0m\n\u001b[1;32m    449\u001b[0m     \u001b[38;5;28;01mraise\u001b[39;00m CancelledError()\n\u001b[1;32m    450\u001b[0m \u001b[38;5;28;01melif\u001b[39;00m \u001b[38;5;28mself\u001b[39m\u001b[38;5;241m.\u001b[39m_state \u001b[38;5;241m==\u001b[39m FINISHED:\n\u001b[0;32m--> 451\u001b[0m     \u001b[38;5;28;01mreturn\u001b[39;00m \u001b[38;5;28;43mself\u001b[39;49m\u001b[38;5;241;43m.\u001b[39;49m\u001b[43m__get_result\u001b[49m\u001b[43m(\u001b[49m\u001b[43m)\u001b[49m\n\u001b[1;32m    453\u001b[0m \u001b[38;5;28mself\u001b[39m\u001b[38;5;241m.\u001b[39m_condition\u001b[38;5;241m.\u001b[39mwait(timeout)\n\u001b[1;32m    455\u001b[0m \u001b[38;5;28;01mif\u001b[39;00m \u001b[38;5;28mself\u001b[39m\u001b[38;5;241m.\u001b[39m_state \u001b[38;5;129;01min\u001b[39;00m [CANCELLED, CANCELLED_AND_NOTIFIED]:\n",
      "File \u001b[0;32m/usr/lib/python3.10/concurrent/futures/_base.py:403\u001b[0m, in \u001b[0;36mFuture.__get_result\u001b[0;34m(self)\u001b[0m\n\u001b[1;32m    401\u001b[0m \u001b[38;5;28;01mif\u001b[39;00m \u001b[38;5;28mself\u001b[39m\u001b[38;5;241m.\u001b[39m_exception:\n\u001b[1;32m    402\u001b[0m     \u001b[38;5;28;01mtry\u001b[39;00m:\n\u001b[0;32m--> 403\u001b[0m         \u001b[38;5;28;01mraise\u001b[39;00m \u001b[38;5;28mself\u001b[39m\u001b[38;5;241m.\u001b[39m_exception\n\u001b[1;32m    404\u001b[0m     \u001b[38;5;28;01mfinally\u001b[39;00m:\n\u001b[1;32m    405\u001b[0m         \u001b[38;5;66;03m# Break a reference cycle with the exception in self._exception\u001b[39;00m\n\u001b[1;32m    406\u001b[0m         \u001b[38;5;28mself\u001b[39m \u001b[38;5;241m=\u001b[39m \u001b[38;5;28;01mNone\u001b[39;00m\n",
      "File \u001b[0;32m~/tradeadvisor/venv/lib/python3.10/site-packages/tenacity/__init__.py:382\u001b[0m, in \u001b[0;36mRetrying.__call__\u001b[0;34m(self, fn, *args, **kwargs)\u001b[0m\n\u001b[1;32m    380\u001b[0m \u001b[38;5;28;01mif\u001b[39;00m \u001b[38;5;28misinstance\u001b[39m(do, DoAttempt):\n\u001b[1;32m    381\u001b[0m     \u001b[38;5;28;01mtry\u001b[39;00m:\n\u001b[0;32m--> 382\u001b[0m         result \u001b[38;5;241m=\u001b[39m \u001b[43mfn\u001b[49m\u001b[43m(\u001b[49m\u001b[38;5;241;43m*\u001b[39;49m\u001b[43margs\u001b[49m\u001b[43m,\u001b[49m\u001b[43m \u001b[49m\u001b[38;5;241;43m*\u001b[39;49m\u001b[38;5;241;43m*\u001b[39;49m\u001b[43mkwargs\u001b[49m\u001b[43m)\u001b[49m\n\u001b[1;32m    383\u001b[0m     \u001b[38;5;28;01mexcept\u001b[39;00m \u001b[38;5;167;01mBaseException\u001b[39;00m:  \u001b[38;5;66;03m# noqa: B902\u001b[39;00m\n\u001b[1;32m    384\u001b[0m         retry_state\u001b[38;5;241m.\u001b[39mset_exception(sys\u001b[38;5;241m.\u001b[39mexc_info())  \u001b[38;5;66;03m# type: ignore[arg-type]\u001b[39;00m\n",
      "File \u001b[0;32m~/tradeadvisor/venv/lib/python3.10/site-packages/langchain/chat_models/openai.py:277\u001b[0m, in \u001b[0;36mChatOpenAI.completion_with_retry.<locals>._completion_with_retry\u001b[0;34m(**kwargs)\u001b[0m\n\u001b[1;32m    275\u001b[0m \u001b[38;5;129m@retry_decorator\u001b[39m\n\u001b[1;32m    276\u001b[0m \u001b[38;5;28;01mdef\u001b[39;00m \u001b[38;5;21m_completion_with_retry\u001b[39m(\u001b[38;5;241m*\u001b[39m\u001b[38;5;241m*\u001b[39mkwargs: Any) \u001b[38;5;241m-\u001b[39m\u001b[38;5;241m>\u001b[39m Any:\n\u001b[0;32m--> 277\u001b[0m     \u001b[38;5;28;01mreturn\u001b[39;00m \u001b[38;5;28;43mself\u001b[39;49m\u001b[38;5;241;43m.\u001b[39;49m\u001b[43mclient\u001b[49m\u001b[38;5;241;43m.\u001b[39;49m\u001b[43mcreate\u001b[49m\u001b[43m(\u001b[49m\u001b[38;5;241;43m*\u001b[39;49m\u001b[38;5;241;43m*\u001b[39;49m\u001b[43mkwargs\u001b[49m\u001b[43m)\u001b[49m\n",
      "File \u001b[0;32m~/tradeadvisor/venv/lib/python3.10/site-packages/openai/api_resources/chat_completion.py:25\u001b[0m, in \u001b[0;36mChatCompletion.create\u001b[0;34m(cls, *args, **kwargs)\u001b[0m\n\u001b[1;32m     23\u001b[0m \u001b[38;5;28;01mwhile\u001b[39;00m \u001b[38;5;28;01mTrue\u001b[39;00m:\n\u001b[1;32m     24\u001b[0m     \u001b[38;5;28;01mtry\u001b[39;00m:\n\u001b[0;32m---> 25\u001b[0m         \u001b[38;5;28;01mreturn\u001b[39;00m \u001b[38;5;28;43msuper\u001b[39;49m\u001b[43m(\u001b[49m\u001b[43m)\u001b[49m\u001b[38;5;241;43m.\u001b[39;49m\u001b[43mcreate\u001b[49m\u001b[43m(\u001b[49m\u001b[38;5;241;43m*\u001b[39;49m\u001b[43margs\u001b[49m\u001b[43m,\u001b[49m\u001b[43m \u001b[49m\u001b[38;5;241;43m*\u001b[39;49m\u001b[38;5;241;43m*\u001b[39;49m\u001b[43mkwargs\u001b[49m\u001b[43m)\u001b[49m\n\u001b[1;32m     26\u001b[0m     \u001b[38;5;28;01mexcept\u001b[39;00m TryAgain \u001b[38;5;28;01mas\u001b[39;00m e:\n\u001b[1;32m     27\u001b[0m         \u001b[38;5;28;01mif\u001b[39;00m timeout \u001b[38;5;129;01mis\u001b[39;00m \u001b[38;5;129;01mnot\u001b[39;00m \u001b[38;5;28;01mNone\u001b[39;00m \u001b[38;5;129;01mand\u001b[39;00m time\u001b[38;5;241m.\u001b[39mtime() \u001b[38;5;241m>\u001b[39m start \u001b[38;5;241m+\u001b[39m timeout:\n",
      "File \u001b[0;32m~/tradeadvisor/venv/lib/python3.10/site-packages/openai/api_resources/abstract/engine_api_resource.py:153\u001b[0m, in \u001b[0;36mEngineAPIResource.create\u001b[0;34m(cls, api_key, api_base, api_type, request_id, api_version, organization, **params)\u001b[0m\n\u001b[1;32m    127\u001b[0m \u001b[38;5;129m@classmethod\u001b[39m\n\u001b[1;32m    128\u001b[0m \u001b[38;5;28;01mdef\u001b[39;00m \u001b[38;5;21mcreate\u001b[39m(\n\u001b[1;32m    129\u001b[0m     \u001b[38;5;28mcls\u001b[39m,\n\u001b[0;32m   (...)\u001b[0m\n\u001b[1;32m    136\u001b[0m     \u001b[38;5;241m*\u001b[39m\u001b[38;5;241m*\u001b[39mparams,\n\u001b[1;32m    137\u001b[0m ):\n\u001b[1;32m    138\u001b[0m     (\n\u001b[1;32m    139\u001b[0m         deployment_id,\n\u001b[1;32m    140\u001b[0m         engine,\n\u001b[0;32m   (...)\u001b[0m\n\u001b[1;32m    150\u001b[0m         api_key, api_base, api_type, api_version, organization, \u001b[38;5;241m*\u001b[39m\u001b[38;5;241m*\u001b[39mparams\n\u001b[1;32m    151\u001b[0m     )\n\u001b[0;32m--> 153\u001b[0m     response, _, api_key \u001b[38;5;241m=\u001b[39m \u001b[43mrequestor\u001b[49m\u001b[38;5;241;43m.\u001b[39;49m\u001b[43mrequest\u001b[49m\u001b[43m(\u001b[49m\n\u001b[1;32m    154\u001b[0m \u001b[43m        \u001b[49m\u001b[38;5;124;43m\"\u001b[39;49m\u001b[38;5;124;43mpost\u001b[39;49m\u001b[38;5;124;43m\"\u001b[39;49m\u001b[43m,\u001b[49m\n\u001b[1;32m    155\u001b[0m \u001b[43m        \u001b[49m\u001b[43murl\u001b[49m\u001b[43m,\u001b[49m\n\u001b[1;32m    156\u001b[0m \u001b[43m        \u001b[49m\u001b[43mparams\u001b[49m\u001b[38;5;241;43m=\u001b[39;49m\u001b[43mparams\u001b[49m\u001b[43m,\u001b[49m\n\u001b[1;32m    157\u001b[0m \u001b[43m        \u001b[49m\u001b[43mheaders\u001b[49m\u001b[38;5;241;43m=\u001b[39;49m\u001b[43mheaders\u001b[49m\u001b[43m,\u001b[49m\n\u001b[1;32m    158\u001b[0m \u001b[43m        \u001b[49m\u001b[43mstream\u001b[49m\u001b[38;5;241;43m=\u001b[39;49m\u001b[43mstream\u001b[49m\u001b[43m,\u001b[49m\n\u001b[1;32m    159\u001b[0m \u001b[43m        \u001b[49m\u001b[43mrequest_id\u001b[49m\u001b[38;5;241;43m=\u001b[39;49m\u001b[43mrequest_id\u001b[49m\u001b[43m,\u001b[49m\n\u001b[1;32m    160\u001b[0m \u001b[43m        \u001b[49m\u001b[43mrequest_timeout\u001b[49m\u001b[38;5;241;43m=\u001b[39;49m\u001b[43mrequest_timeout\u001b[49m\u001b[43m,\u001b[49m\n\u001b[1;32m    161\u001b[0m \u001b[43m    \u001b[49m\u001b[43m)\u001b[49m\n\u001b[1;32m    163\u001b[0m     \u001b[38;5;28;01mif\u001b[39;00m stream:\n\u001b[1;32m    164\u001b[0m         \u001b[38;5;66;03m# must be an iterator\u001b[39;00m\n\u001b[1;32m    165\u001b[0m         \u001b[38;5;28;01massert\u001b[39;00m \u001b[38;5;129;01mnot\u001b[39;00m \u001b[38;5;28misinstance\u001b[39m(response, OpenAIResponse)\n",
      "File \u001b[0;32m~/tradeadvisor/venv/lib/python3.10/site-packages/openai/api_requestor.py:298\u001b[0m, in \u001b[0;36mAPIRequestor.request\u001b[0;34m(self, method, url, params, headers, files, stream, request_id, request_timeout)\u001b[0m\n\u001b[1;32m    277\u001b[0m \u001b[38;5;28;01mdef\u001b[39;00m \u001b[38;5;21mrequest\u001b[39m(\n\u001b[1;32m    278\u001b[0m     \u001b[38;5;28mself\u001b[39m,\n\u001b[1;32m    279\u001b[0m     method,\n\u001b[0;32m   (...)\u001b[0m\n\u001b[1;32m    286\u001b[0m     request_timeout: Optional[Union[\u001b[38;5;28mfloat\u001b[39m, Tuple[\u001b[38;5;28mfloat\u001b[39m, \u001b[38;5;28mfloat\u001b[39m]]] \u001b[38;5;241m=\u001b[39m \u001b[38;5;28;01mNone\u001b[39;00m,\n\u001b[1;32m    287\u001b[0m ) \u001b[38;5;241m-\u001b[39m\u001b[38;5;241m>\u001b[39m Tuple[Union[OpenAIResponse, Iterator[OpenAIResponse]], \u001b[38;5;28mbool\u001b[39m, \u001b[38;5;28mstr\u001b[39m]:\n\u001b[1;32m    288\u001b[0m     result \u001b[38;5;241m=\u001b[39m \u001b[38;5;28mself\u001b[39m\u001b[38;5;241m.\u001b[39mrequest_raw(\n\u001b[1;32m    289\u001b[0m         method\u001b[38;5;241m.\u001b[39mlower(),\n\u001b[1;32m    290\u001b[0m         url,\n\u001b[0;32m   (...)\u001b[0m\n\u001b[1;32m    296\u001b[0m         request_timeout\u001b[38;5;241m=\u001b[39mrequest_timeout,\n\u001b[1;32m    297\u001b[0m     )\n\u001b[0;32m--> 298\u001b[0m     resp, got_stream \u001b[38;5;241m=\u001b[39m \u001b[38;5;28;43mself\u001b[39;49m\u001b[38;5;241;43m.\u001b[39;49m\u001b[43m_interpret_response\u001b[49m\u001b[43m(\u001b[49m\u001b[43mresult\u001b[49m\u001b[43m,\u001b[49m\u001b[43m \u001b[49m\u001b[43mstream\u001b[49m\u001b[43m)\u001b[49m\n\u001b[1;32m    299\u001b[0m     \u001b[38;5;28;01mreturn\u001b[39;00m resp, got_stream, \u001b[38;5;28mself\u001b[39m\u001b[38;5;241m.\u001b[39mapi_key\n",
      "File \u001b[0;32m~/tradeadvisor/venv/lib/python3.10/site-packages/openai/api_requestor.py:700\u001b[0m, in \u001b[0;36mAPIRequestor._interpret_response\u001b[0;34m(self, result, stream)\u001b[0m\n\u001b[1;32m    692\u001b[0m     \u001b[38;5;28;01mreturn\u001b[39;00m (\n\u001b[1;32m    693\u001b[0m         \u001b[38;5;28mself\u001b[39m\u001b[38;5;241m.\u001b[39m_interpret_response_line(\n\u001b[1;32m    694\u001b[0m             line, result\u001b[38;5;241m.\u001b[39mstatus_code, result\u001b[38;5;241m.\u001b[39mheaders, stream\u001b[38;5;241m=\u001b[39m\u001b[38;5;28;01mTrue\u001b[39;00m\n\u001b[1;32m    695\u001b[0m         )\n\u001b[1;32m    696\u001b[0m         \u001b[38;5;28;01mfor\u001b[39;00m line \u001b[38;5;129;01min\u001b[39;00m parse_stream(result\u001b[38;5;241m.\u001b[39miter_lines())\n\u001b[1;32m    697\u001b[0m     ), \u001b[38;5;28;01mTrue\u001b[39;00m\n\u001b[1;32m    698\u001b[0m \u001b[38;5;28;01melse\u001b[39;00m:\n\u001b[1;32m    699\u001b[0m     \u001b[38;5;28;01mreturn\u001b[39;00m (\n\u001b[0;32m--> 700\u001b[0m         \u001b[38;5;28;43mself\u001b[39;49m\u001b[38;5;241;43m.\u001b[39;49m\u001b[43m_interpret_response_line\u001b[49m\u001b[43m(\u001b[49m\n\u001b[1;32m    701\u001b[0m \u001b[43m            \u001b[49m\u001b[43mresult\u001b[49m\u001b[38;5;241;43m.\u001b[39;49m\u001b[43mcontent\u001b[49m\u001b[38;5;241;43m.\u001b[39;49m\u001b[43mdecode\u001b[49m\u001b[43m(\u001b[49m\u001b[38;5;124;43m\"\u001b[39;49m\u001b[38;5;124;43mutf-8\u001b[39;49m\u001b[38;5;124;43m\"\u001b[39;49m\u001b[43m)\u001b[49m\u001b[43m,\u001b[49m\n\u001b[1;32m    702\u001b[0m \u001b[43m            \u001b[49m\u001b[43mresult\u001b[49m\u001b[38;5;241;43m.\u001b[39;49m\u001b[43mstatus_code\u001b[49m\u001b[43m,\u001b[49m\n\u001b[1;32m    703\u001b[0m \u001b[43m            \u001b[49m\u001b[43mresult\u001b[49m\u001b[38;5;241;43m.\u001b[39;49m\u001b[43mheaders\u001b[49m\u001b[43m,\u001b[49m\n\u001b[1;32m    704\u001b[0m \u001b[43m            \u001b[49m\u001b[43mstream\u001b[49m\u001b[38;5;241;43m=\u001b[39;49m\u001b[38;5;28;43;01mFalse\u001b[39;49;00m\u001b[43m,\u001b[49m\n\u001b[1;32m    705\u001b[0m \u001b[43m        \u001b[49m\u001b[43m)\u001b[49m,\n\u001b[1;32m    706\u001b[0m         \u001b[38;5;28;01mFalse\u001b[39;00m,\n\u001b[1;32m    707\u001b[0m     )\n",
      "File \u001b[0;32m~/tradeadvisor/venv/lib/python3.10/site-packages/openai/api_requestor.py:763\u001b[0m, in \u001b[0;36mAPIRequestor._interpret_response_line\u001b[0;34m(self, rbody, rcode, rheaders, stream)\u001b[0m\n\u001b[1;32m    761\u001b[0m stream_error \u001b[38;5;241m=\u001b[39m stream \u001b[38;5;129;01mand\u001b[39;00m \u001b[38;5;124m\"\u001b[39m\u001b[38;5;124merror\u001b[39m\u001b[38;5;124m\"\u001b[39m \u001b[38;5;129;01min\u001b[39;00m resp\u001b[38;5;241m.\u001b[39mdata\n\u001b[1;32m    762\u001b[0m \u001b[38;5;28;01mif\u001b[39;00m stream_error \u001b[38;5;129;01mor\u001b[39;00m \u001b[38;5;129;01mnot\u001b[39;00m \u001b[38;5;241m200\u001b[39m \u001b[38;5;241m<\u001b[39m\u001b[38;5;241m=\u001b[39m rcode \u001b[38;5;241m<\u001b[39m \u001b[38;5;241m300\u001b[39m:\n\u001b[0;32m--> 763\u001b[0m     \u001b[38;5;28;01mraise\u001b[39;00m \u001b[38;5;28mself\u001b[39m\u001b[38;5;241m.\u001b[39mhandle_error_response(\n\u001b[1;32m    764\u001b[0m         rbody, rcode, resp\u001b[38;5;241m.\u001b[39mdata, rheaders, stream_error\u001b[38;5;241m=\u001b[39mstream_error\n\u001b[1;32m    765\u001b[0m     )\n\u001b[1;32m    766\u001b[0m \u001b[38;5;28;01mreturn\u001b[39;00m resp\n",
      "\u001b[0;31mInvalidRequestError\u001b[0m: This model's maximum context length is 4097 tokens. However, your messages resulted in 4864 tokens (4725 in the messages, 139 in the functions). Please reduce the length of the messages or functions."
     ]
    }
   ],
   "source": [
    "result = agent.run('Which components of the income statement, balance sheet, and cash flows have exhibited irregular trends over the past three years?')\n",
    "result"
   ]
  },
  {
   "cell_type": "code",
   "execution_count": 175,
   "id": "1c010d98",
   "metadata": {},
   "outputs": [
    {
     "name": "stdout",
     "output_type": "stream",
     "text": [
      "\n",
      "\n",
      "\u001b[1m> Entering new AgentExecutor chain...\u001b[0m\n",
      "\u001b[32;1m\u001b[1;3mTo minimize operating expenses for each operating segment, here are some possible ways:\n",
      "\n",
      "1. Customer Financing Segment:\n",
      "   - Streamline loan origination and approval processes to reduce administrative costs.\n",
      "   - Implement credit risk assessment tools and models to improve loan quality and reduce provisions for impairment.\n",
      "   - Offer digital self-service options for customers to reduce the need for manual assistance and lower operational costs.\n",
      "   - Optimize collection processes to minimize delinquencies and associated costs.\n",
      "\n",
      "2. Investments Segment:\n",
      "   - Utilize technology platforms and automated tools for investment research and analysis to reduce manual effort and associated costs.\n",
      "   - Optimize portfolio management strategies to minimize transaction costs and improve investment returns.\n",
      "   - Leverage data analytics to identify investment opportunities with higher potential returns and lower associated costs.\n",
      "   - Regularly review and rebalance investment portfolios to align with market conditions and minimize unnecessary costs.\n",
      "\n",
      "3. Retail Banking Segment:\n",
      "   - Implement digital banking solutions to reduce the need for physical branches and associated operating costs.\n",
      "   - Offer self-service options for routine banking transactions to reduce staff requirements and operational expenses.\n",
      "   - Optimize product offerings based on customer preferences and profitability to maximize revenue and minimize costs.\n",
      "   - Leverage customer analytics to personalize marketing efforts and improve customer retention, reducing acquisition costs.\n",
      "\n",
      "4. Corporate Banking Segment:\n",
      "   - Streamline credit approval processes to reduce turnaround time and associated administrative costs.\n",
      "   - Implement relationship management strategies to improve cross-selling and customer retention, reducing acquisition costs.\n",
      "   - Leverage technology solutions for efficient cash management and treasury operations to minimize costs.\n",
      "   - Offer customized solutions for corporate clients to enhance value proposition and justify premium pricing.\n",
      "\n",
      "5. Asset Management Segment:\n",
      "   - Optimize fund management strategies to improve investment performance and attract more investors, increasing fee income.\n",
      "   - Leverage technology platforms for automated portfolio management and reporting to reduce manual effort and associated costs.\n",
      "   - Implement cost-effective marketing and distribution strategies to reach a wider investor base.\n",
      "   - Regularly review fund expenses and negotiate better terms with service providers to minimize operating costs.\n",
      "\n",
      "6. Other Operating Segments:\n",
      "   - Conduct regular cost-benefit analysis of each operating segment to identify areas of potential cost savings.\n",
      "   - Implement process improvement initiatives to streamline operations and reduce inefficiencies.\n",
      "   - Leverage technology solutions for automation and digitization of manual processes to reduce labor and operational costs.\n",
      "   - Continuously monitor and analyze operating expenses to identify areas for optimization and cost reduction.\n",
      "\n",
      "It's important to note that the specific strategies to minimize operating expenses may vary based on the unique characteristics and challenges of each operating segment. It's recommended to conduct a thorough analysis and consult with industry experts to identify the most effective cost-saving measures for each segment.\u001b[0m\n",
      "\n",
      "\u001b[1m> Finished chain.\u001b[0m\n"
     ]
    },
    {
     "data": {
      "text/plain": [
       "\"To minimize operating expenses for each operating segment, here are some possible ways:\\n\\n1. Customer Financing Segment:\\n   - Streamline loan origination and approval processes to reduce administrative costs.\\n   - Implement credit risk assessment tools and models to improve loan quality and reduce provisions for impairment.\\n   - Offer digital self-service options for customers to reduce the need for manual assistance and lower operational costs.\\n   - Optimize collection processes to minimize delinquencies and associated costs.\\n\\n2. Investments Segment:\\n   - Utilize technology platforms and automated tools for investment research and analysis to reduce manual effort and associated costs.\\n   - Optimize portfolio management strategies to minimize transaction costs and improve investment returns.\\n   - Leverage data analytics to identify investment opportunities with higher potential returns and lower associated costs.\\n   - Regularly review and rebalance investment portfolios to align with market conditions and minimize unnecessary costs.\\n\\n3. Retail Banking Segment:\\n   - Implement digital banking solutions to reduce the need for physical branches and associated operating costs.\\n   - Offer self-service options for routine banking transactions to reduce staff requirements and operational expenses.\\n   - Optimize product offerings based on customer preferences and profitability to maximize revenue and minimize costs.\\n   - Leverage customer analytics to personalize marketing efforts and improve customer retention, reducing acquisition costs.\\n\\n4. Corporate Banking Segment:\\n   - Streamline credit approval processes to reduce turnaround time and associated administrative costs.\\n   - Implement relationship management strategies to improve cross-selling and customer retention, reducing acquisition costs.\\n   - Leverage technology solutions for efficient cash management and treasury operations to minimize costs.\\n   - Offer customized solutions for corporate clients to enhance value proposition and justify premium pricing.\\n\\n5. Asset Management Segment:\\n   - Optimize fund management strategies to improve investment performance and attract more investors, increasing fee income.\\n   - Leverage technology platforms for automated portfolio management and reporting to reduce manual effort and associated costs.\\n   - Implement cost-effective marketing and distribution strategies to reach a wider investor base.\\n   - Regularly review fund expenses and negotiate better terms with service providers to minimize operating costs.\\n\\n6. Other Operating Segments:\\n   - Conduct regular cost-benefit analysis of each operating segment to identify areas of potential cost savings.\\n   - Implement process improvement initiatives to streamline operations and reduce inefficiencies.\\n   - Leverage technology solutions for automation and digitization of manual processes to reduce labor and operational costs.\\n   - Continuously monitor and analyze operating expenses to identify areas for optimization and cost reduction.\\n\\nIt's important to note that the specific strategies to minimize operating expenses may vary based on the unique characteristics and challenges of each operating segment. It's recommended to conduct a thorough analysis and consult with industry experts to identify the most effective cost-saving measures for each segment.\""
      ]
     },
     "execution_count": 175,
     "metadata": {},
     "output_type": "execute_result"
    }
   ],
   "source": [
    "result = agent.run('What are the possible ways to minimize operating expenses for each operating segment')\n",
    "result"
   ]
  },
  {
   "cell_type": "code",
   "execution_count": 178,
   "id": "9c3e30fd",
   "metadata": {},
   "outputs": [
    {
     "name": "stdout",
     "output_type": "stream",
     "text": [
      "\n",
      "\n",
      "\u001b[1m> Entering new AgentExecutor chain...\u001b[0m\n",
      "\u001b[32;1m\u001b[1;3m\n",
      "Invoking: `search_adib_annual_report` with `cost heads`\n",
      "\n",
      "\n",
      "\u001b[0m\u001b[33;1m\u001b[1;3m[Document(page_content='Sensitivity to a one percentage point changes in the discount rate or the terminal growth rate and based on the results; management \\nbelieves that no reasonably possible change in any of the above mentioned key assumptions would cause the carrying value to exceed the \\nrecoverable amount.\\n27 DUE TO FINANCIAL INSTITUTIONS\\n2018\\nAED‘0002017\\nAED‘000\\nCurrent accounts 878,693 1,538,954\\nInvestment deposits     3,203,909     2,149,604\\n4,082,602 3,688,558\\nCurrent account – Central Bank of UAE          55,652                    -\\n    4,138,254     3,688,558', metadata={'page': 105, 'source': '/home/fasih/ADIB/annual_report/ADIB Annual Report 2018.pdf'}), Document(page_content='been discounted at a rate of 4.5% (2019: 5.7%).\\nSensitivity to a one percentage point changes in the discount rate or the terminal growth rate and based on the results; management \\nbelieves that no reasonably possible change in any of the above mentioned key assumptions would cause the carrying value to exceed \\nthe recoverable amount.25 PROPERTY AND EQUIPMENTComputer\\nFurniture and Capital Right\\nand office Motor work-in -of use\\nLand Buildings fixtures equipment vehicles progress assets Total\\nAED ‘000 AED ‘000 AED ‘000 AED ‘000 AED ‘000 AED ‘000 AED ‘000 AED ‘000\\n2020 \\nCost or revaluation: \\nAt 1 January 291,178 768,222 538,857 1,548,252 9,378 309,135 402,026 3,867,048 \\nExchange differences / \\nother  adjustments — — (4,932) (4,525) (144) 2 (37,953) (47,552)\\nAdditions — 13,173 58,471 37,625 674 146,736 17,051 273,730 \\nTransfers from capital \\nwork-in-progress — — 56 117,638 — (117,694) — —\\nDisposals  —  — (24,784) (19,719) (77)  —  — (44,580)\\n291,178 781,395 567,668 1,679,271 9,831 338,179 381,124 4,048,646 \\nLess: provision for impairment  — (1,487)  —  —  —  —  (1,487)\\nAt 31 December 291,178 779,908 567,668 1,679,271 9,831 338,179 381,124 4,047,159 \\nDepreciation:\\nAt 1 January — 95,693 387,054 1,045,919 7,789 — 60,473 1,596,928 \\nExchange differences / \\nother  adjustments — — (6,918) (4,543) 1,016 — 1,607 (8,838)\\nCharge for the year — 23,477 48,221 113,332 1,026 — 64,275 250,331 \\nRelating to disposals  —  — (24,784) (17,756)  —  —  — (42,540)', metadata={'page': 55, 'source': '/home/fasih/ADIB/annual_report/ADIB Annual Report 2020.pdf'}), Document(page_content='(Netted amounts of cash payables and cash receivables of gross SFT assets) - -\\nCredit Conversion Factor (CCR) exposure for Security Financing Transaction (SFT) assets - -\\nAgent transaction exposures - -\\nTotal securities financing transaction exposures (sum of lines 14 to 17) - -', metadata={'page': 89, 'source': '/home/fasih/ADIB/annual_report/annual_report_2022_en.pdf'}), Document(page_content='(Netted amounts of cash payables and cash receivables of gross SFT assets) - -\\nCredit Conversion Factor (CCR) exposure for Security Financing Transaction (SFT) assets - -\\nAgent transaction exposures - -\\nTotal securities financing transaction exposures (sum of lines 14 to 17) - -', metadata={'page': 89, 'source': '/home/fasih/ADIB/annual_report/ADIB Annual Report 2022.pdf'})]\u001b[0m\u001b[32;1m\u001b[1;3mBased on the available search results from the ADIB annual reports, the specific cost heads mentioned are as follows:\n",
      "\n",
      "1. Customer Financing Segment:\n",
      "   - Provision for impairment\n",
      "\n",
      "2. Investments Segment:\n",
      "   - Not mentioned in the available search results\n",
      "\n",
      "3. Retail Banking Segment:\n",
      "   - Not mentioned in the available search results\n",
      "\n",
      "4. Corporate Banking Segment:\n",
      "   - Not mentioned in the available search results\n",
      "\n",
      "5. Asset Management Segment:\n",
      "   - Not mentioned in the available search results\n",
      "\n",
      "6. Other Operating Segments:\n",
      "   - Property and equipment\n",
      "   - Depreciation\n",
      "\n",
      "Please note that the search results may not cover all the cost heads mentioned in the ADIB annual reports. It's recommended to refer to the complete annual reports for a comprehensive understanding of the cost heads associated with each operating segment.\u001b[0m\n",
      "\n",
      "\u001b[1m> Finished chain.\u001b[0m\n"
     ]
    },
    {
     "data": {
      "text/plain": [
       "\"Based on the available search results from the ADIB annual reports, the specific cost heads mentioned are as follows:\\n\\n1. Customer Financing Segment:\\n   - Provision for impairment\\n\\n2. Investments Segment:\\n   - Not mentioned in the available search results\\n\\n3. Retail Banking Segment:\\n   - Not mentioned in the available search results\\n\\n4. Corporate Banking Segment:\\n   - Not mentioned in the available search results\\n\\n5. Asset Management Segment:\\n   - Not mentioned in the available search results\\n\\n6. Other Operating Segments:\\n   - Property and equipment\\n   - Depreciation\\n\\nPlease note that the search results may not cover all the cost heads mentioned in the ADIB annual reports. It's recommended to refer to the complete annual reports for a comprehensive understanding of the cost heads associated with each operating segment.\""
      ]
     },
     "execution_count": 178,
     "metadata": {},
     "output_type": "execute_result"
    }
   ],
   "source": [
    "result = agent.run('what cost heads do I have?')\n",
    "result"
   ]
  },
  {
   "cell_type": "code",
   "execution_count": 16,
   "id": "e40554e0",
   "metadata": {
    "scrolled": false
   },
   "outputs": [
    {
     "name": "stdout",
     "output_type": "stream",
     "text": [
      "\n",
      "\n",
      "\u001b[1m> Entering new AgentExecutor chain...\u001b[0m\n",
      "\u001b[32;1m\u001b[1;3m\n",
      "Invoking: `search_adib_annual_report` with `{'text': 'commission income', 'section': 'Abridged Income Statement', 'subsection': 'ADIB securities'}`\n",
      "\n",
      "\n",
      "\u001b[0m"
     ]
    },
    {
     "ename": "ToolException",
     "evalue": "Too many arguments to single-input tool search_adib_annual_report. Args: ['commission income', 'Abridged Income Statement', 'ADIB securities']",
     "output_type": "error",
     "traceback": [
      "\u001b[0;31m---------------------------------------------------------------------------\u001b[0m",
      "\u001b[0;31mToolException\u001b[0m                             Traceback (most recent call last)",
      "Cell \u001b[0;32mIn[16], line 1\u001b[0m\n\u001b[0;32m----> 1\u001b[0m result \u001b[38;5;241m=\u001b[39m \u001b[43magent\u001b[49m\u001b[38;5;241;43m.\u001b[39;49m\u001b[43mrun\u001b[49m\u001b[43m(\u001b[49m\u001b[38;5;124;43m'\u001b[39;49m\u001b[38;5;124;43mwhat is the commission income in Abridged Income Statement under ADIB securities\u001b[39;49m\u001b[38;5;124;43m'\u001b[39;49m\u001b[43m)\u001b[49m\n\u001b[1;32m      2\u001b[0m result\n",
      "File \u001b[0;32m~/tradeadvisor/venv/lib/python3.10/site-packages/langchain/chains/base.py:475\u001b[0m, in \u001b[0;36mChain.run\u001b[0;34m(self, callbacks, tags, metadata, *args, **kwargs)\u001b[0m\n\u001b[1;32m    473\u001b[0m     \u001b[38;5;28;01mif\u001b[39;00m \u001b[38;5;28mlen\u001b[39m(args) \u001b[38;5;241m!=\u001b[39m \u001b[38;5;241m1\u001b[39m:\n\u001b[1;32m    474\u001b[0m         \u001b[38;5;28;01mraise\u001b[39;00m \u001b[38;5;167;01mValueError\u001b[39;00m(\u001b[38;5;124m\"\u001b[39m\u001b[38;5;124m`run` supports only one positional argument.\u001b[39m\u001b[38;5;124m\"\u001b[39m)\n\u001b[0;32m--> 475\u001b[0m     \u001b[38;5;28;01mreturn\u001b[39;00m \u001b[38;5;28;43mself\u001b[39;49m\u001b[43m(\u001b[49m\u001b[43margs\u001b[49m\u001b[43m[\u001b[49m\u001b[38;5;241;43m0\u001b[39;49m\u001b[43m]\u001b[49m\u001b[43m,\u001b[49m\u001b[43m \u001b[49m\u001b[43mcallbacks\u001b[49m\u001b[38;5;241;43m=\u001b[39;49m\u001b[43mcallbacks\u001b[49m\u001b[43m,\u001b[49m\u001b[43m \u001b[49m\u001b[43mtags\u001b[49m\u001b[38;5;241;43m=\u001b[39;49m\u001b[43mtags\u001b[49m\u001b[43m,\u001b[49m\u001b[43m \u001b[49m\u001b[43mmetadata\u001b[49m\u001b[38;5;241;43m=\u001b[39;49m\u001b[43mmetadata\u001b[49m\u001b[43m)\u001b[49m[\n\u001b[1;32m    476\u001b[0m         _output_key\n\u001b[1;32m    477\u001b[0m     ]\n\u001b[1;32m    479\u001b[0m \u001b[38;5;28;01mif\u001b[39;00m kwargs \u001b[38;5;129;01mand\u001b[39;00m \u001b[38;5;129;01mnot\u001b[39;00m args:\n\u001b[1;32m    480\u001b[0m     \u001b[38;5;28;01mreturn\u001b[39;00m \u001b[38;5;28mself\u001b[39m(kwargs, callbacks\u001b[38;5;241m=\u001b[39mcallbacks, tags\u001b[38;5;241m=\u001b[39mtags, metadata\u001b[38;5;241m=\u001b[39mmetadata)[\n\u001b[1;32m    481\u001b[0m         _output_key\n\u001b[1;32m    482\u001b[0m     ]\n",
      "File \u001b[0;32m~/tradeadvisor/venv/lib/python3.10/site-packages/langchain/chains/base.py:282\u001b[0m, in \u001b[0;36mChain.__call__\u001b[0;34m(self, inputs, return_only_outputs, callbacks, tags, metadata, include_run_info)\u001b[0m\n\u001b[1;32m    280\u001b[0m \u001b[38;5;28;01mexcept\u001b[39;00m (\u001b[38;5;167;01mKeyboardInterrupt\u001b[39;00m, \u001b[38;5;167;01mException\u001b[39;00m) \u001b[38;5;28;01mas\u001b[39;00m e:\n\u001b[1;32m    281\u001b[0m     run_manager\u001b[38;5;241m.\u001b[39mon_chain_error(e)\n\u001b[0;32m--> 282\u001b[0m     \u001b[38;5;28;01mraise\u001b[39;00m e\n\u001b[1;32m    283\u001b[0m run_manager\u001b[38;5;241m.\u001b[39mon_chain_end(outputs)\n\u001b[1;32m    284\u001b[0m final_outputs: Dict[\u001b[38;5;28mstr\u001b[39m, Any] \u001b[38;5;241m=\u001b[39m \u001b[38;5;28mself\u001b[39m\u001b[38;5;241m.\u001b[39mprep_outputs(\n\u001b[1;32m    285\u001b[0m     inputs, outputs, return_only_outputs\n\u001b[1;32m    286\u001b[0m )\n",
      "File \u001b[0;32m~/tradeadvisor/venv/lib/python3.10/site-packages/langchain/chains/base.py:276\u001b[0m, in \u001b[0;36mChain.__call__\u001b[0;34m(self, inputs, return_only_outputs, callbacks, tags, metadata, include_run_info)\u001b[0m\n\u001b[1;32m    270\u001b[0m run_manager \u001b[38;5;241m=\u001b[39m callback_manager\u001b[38;5;241m.\u001b[39mon_chain_start(\n\u001b[1;32m    271\u001b[0m     dumpd(\u001b[38;5;28mself\u001b[39m),\n\u001b[1;32m    272\u001b[0m     inputs,\n\u001b[1;32m    273\u001b[0m )\n\u001b[1;32m    274\u001b[0m \u001b[38;5;28;01mtry\u001b[39;00m:\n\u001b[1;32m    275\u001b[0m     outputs \u001b[38;5;241m=\u001b[39m (\n\u001b[0;32m--> 276\u001b[0m         \u001b[38;5;28;43mself\u001b[39;49m\u001b[38;5;241;43m.\u001b[39;49m\u001b[43m_call\u001b[49m\u001b[43m(\u001b[49m\u001b[43minputs\u001b[49m\u001b[43m,\u001b[49m\u001b[43m \u001b[49m\u001b[43mrun_manager\u001b[49m\u001b[38;5;241;43m=\u001b[39;49m\u001b[43mrun_manager\u001b[49m\u001b[43m)\u001b[49m\n\u001b[1;32m    277\u001b[0m         \u001b[38;5;28;01mif\u001b[39;00m new_arg_supported\n\u001b[1;32m    278\u001b[0m         \u001b[38;5;28;01melse\u001b[39;00m \u001b[38;5;28mself\u001b[39m\u001b[38;5;241m.\u001b[39m_call(inputs)\n\u001b[1;32m    279\u001b[0m     )\n\u001b[1;32m    280\u001b[0m \u001b[38;5;28;01mexcept\u001b[39;00m (\u001b[38;5;167;01mKeyboardInterrupt\u001b[39;00m, \u001b[38;5;167;01mException\u001b[39;00m) \u001b[38;5;28;01mas\u001b[39;00m e:\n\u001b[1;32m    281\u001b[0m     run_manager\u001b[38;5;241m.\u001b[39mon_chain_error(e)\n",
      "File \u001b[0;32m~/tradeadvisor/venv/lib/python3.10/site-packages/langchain/agents/agent.py:1036\u001b[0m, in \u001b[0;36mAgentExecutor._call\u001b[0;34m(self, inputs, run_manager)\u001b[0m\n\u001b[1;32m   1034\u001b[0m \u001b[38;5;66;03m# We now enter the agent loop (until it returns something).\u001b[39;00m\n\u001b[1;32m   1035\u001b[0m \u001b[38;5;28;01mwhile\u001b[39;00m \u001b[38;5;28mself\u001b[39m\u001b[38;5;241m.\u001b[39m_should_continue(iterations, time_elapsed):\n\u001b[0;32m-> 1036\u001b[0m     next_step_output \u001b[38;5;241m=\u001b[39m \u001b[38;5;28;43mself\u001b[39;49m\u001b[38;5;241;43m.\u001b[39;49m\u001b[43m_take_next_step\u001b[49m\u001b[43m(\u001b[49m\n\u001b[1;32m   1037\u001b[0m \u001b[43m        \u001b[49m\u001b[43mname_to_tool_map\u001b[49m\u001b[43m,\u001b[49m\n\u001b[1;32m   1038\u001b[0m \u001b[43m        \u001b[49m\u001b[43mcolor_mapping\u001b[49m\u001b[43m,\u001b[49m\n\u001b[1;32m   1039\u001b[0m \u001b[43m        \u001b[49m\u001b[43minputs\u001b[49m\u001b[43m,\u001b[49m\n\u001b[1;32m   1040\u001b[0m \u001b[43m        \u001b[49m\u001b[43mintermediate_steps\u001b[49m\u001b[43m,\u001b[49m\n\u001b[1;32m   1041\u001b[0m \u001b[43m        \u001b[49m\u001b[43mrun_manager\u001b[49m\u001b[38;5;241;43m=\u001b[39;49m\u001b[43mrun_manager\u001b[49m\u001b[43m,\u001b[49m\n\u001b[1;32m   1042\u001b[0m \u001b[43m    \u001b[49m\u001b[43m)\u001b[49m\n\u001b[1;32m   1043\u001b[0m     \u001b[38;5;28;01mif\u001b[39;00m \u001b[38;5;28misinstance\u001b[39m(next_step_output, AgentFinish):\n\u001b[1;32m   1044\u001b[0m         \u001b[38;5;28;01mreturn\u001b[39;00m \u001b[38;5;28mself\u001b[39m\u001b[38;5;241m.\u001b[39m_return(\n\u001b[1;32m   1045\u001b[0m             next_step_output, intermediate_steps, run_manager\u001b[38;5;241m=\u001b[39mrun_manager\n\u001b[1;32m   1046\u001b[0m         )\n",
      "File \u001b[0;32m~/tradeadvisor/venv/lib/python3.10/site-packages/langchain/agents/agent.py:891\u001b[0m, in \u001b[0;36mAgentExecutor._take_next_step\u001b[0;34m(self, name_to_tool_map, color_mapping, inputs, intermediate_steps, run_manager)\u001b[0m\n\u001b[1;32m    889\u001b[0m         tool_run_kwargs[\u001b[38;5;124m\"\u001b[39m\u001b[38;5;124mllm_prefix\u001b[39m\u001b[38;5;124m\"\u001b[39m] \u001b[38;5;241m=\u001b[39m \u001b[38;5;124m\"\u001b[39m\u001b[38;5;124m\"\u001b[39m\n\u001b[1;32m    890\u001b[0m     \u001b[38;5;66;03m# We then call the tool on the tool input to get an observation\u001b[39;00m\n\u001b[0;32m--> 891\u001b[0m     observation \u001b[38;5;241m=\u001b[39m \u001b[43mtool\u001b[49m\u001b[38;5;241;43m.\u001b[39;49m\u001b[43mrun\u001b[49m\u001b[43m(\u001b[49m\n\u001b[1;32m    892\u001b[0m \u001b[43m        \u001b[49m\u001b[43magent_action\u001b[49m\u001b[38;5;241;43m.\u001b[39;49m\u001b[43mtool_input\u001b[49m\u001b[43m,\u001b[49m\n\u001b[1;32m    893\u001b[0m \u001b[43m        \u001b[49m\u001b[43mverbose\u001b[49m\u001b[38;5;241;43m=\u001b[39;49m\u001b[38;5;28;43mself\u001b[39;49m\u001b[38;5;241;43m.\u001b[39;49m\u001b[43mverbose\u001b[49m\u001b[43m,\u001b[49m\n\u001b[1;32m    894\u001b[0m \u001b[43m        \u001b[49m\u001b[43mcolor\u001b[49m\u001b[38;5;241;43m=\u001b[39;49m\u001b[43mcolor\u001b[49m\u001b[43m,\u001b[49m\n\u001b[1;32m    895\u001b[0m \u001b[43m        \u001b[49m\u001b[43mcallbacks\u001b[49m\u001b[38;5;241;43m=\u001b[39;49m\u001b[43mrun_manager\u001b[49m\u001b[38;5;241;43m.\u001b[39;49m\u001b[43mget_child\u001b[49m\u001b[43m(\u001b[49m\u001b[43m)\u001b[49m\u001b[43m \u001b[49m\u001b[38;5;28;43;01mif\u001b[39;49;00m\u001b[43m \u001b[49m\u001b[43mrun_manager\u001b[49m\u001b[43m \u001b[49m\u001b[38;5;28;43;01melse\u001b[39;49;00m\u001b[43m \u001b[49m\u001b[38;5;28;43;01mNone\u001b[39;49;00m\u001b[43m,\u001b[49m\n\u001b[1;32m    896\u001b[0m \u001b[43m        \u001b[49m\u001b[38;5;241;43m*\u001b[39;49m\u001b[38;5;241;43m*\u001b[39;49m\u001b[43mtool_run_kwargs\u001b[49m\u001b[43m,\u001b[49m\n\u001b[1;32m    897\u001b[0m \u001b[43m    \u001b[49m\u001b[43m)\u001b[49m\n\u001b[1;32m    898\u001b[0m \u001b[38;5;28;01melse\u001b[39;00m:\n\u001b[1;32m    899\u001b[0m     tool_run_kwargs \u001b[38;5;241m=\u001b[39m \u001b[38;5;28mself\u001b[39m\u001b[38;5;241m.\u001b[39magent\u001b[38;5;241m.\u001b[39mtool_run_logging_kwargs()\n",
      "File \u001b[0;32m~/tradeadvisor/venv/lib/python3.10/site-packages/langchain/tools/base.py:348\u001b[0m, in \u001b[0;36mBaseTool.run\u001b[0;34m(self, tool_input, verbose, start_color, color, callbacks, tags, metadata, **kwargs)\u001b[0m\n\u001b[1;32m    346\u001b[0m \u001b[38;5;28;01mif\u001b[39;00m \u001b[38;5;129;01mnot\u001b[39;00m \u001b[38;5;28mself\u001b[39m\u001b[38;5;241m.\u001b[39mhandle_tool_error:\n\u001b[1;32m    347\u001b[0m     run_manager\u001b[38;5;241m.\u001b[39mon_tool_error(e)\n\u001b[0;32m--> 348\u001b[0m     \u001b[38;5;28;01mraise\u001b[39;00m e\n\u001b[1;32m    349\u001b[0m \u001b[38;5;28;01melif\u001b[39;00m \u001b[38;5;28misinstance\u001b[39m(\u001b[38;5;28mself\u001b[39m\u001b[38;5;241m.\u001b[39mhandle_tool_error, \u001b[38;5;28mbool\u001b[39m):\n\u001b[1;32m    350\u001b[0m     \u001b[38;5;28;01mif\u001b[39;00m e\u001b[38;5;241m.\u001b[39margs:\n",
      "File \u001b[0;32m~/tradeadvisor/venv/lib/python3.10/site-packages/langchain/tools/base.py:339\u001b[0m, in \u001b[0;36mBaseTool.run\u001b[0;34m(self, tool_input, verbose, start_color, color, callbacks, tags, metadata, **kwargs)\u001b[0m\n\u001b[1;32m    332\u001b[0m run_manager \u001b[38;5;241m=\u001b[39m callback_manager\u001b[38;5;241m.\u001b[39mon_tool_start(\n\u001b[1;32m    333\u001b[0m     {\u001b[38;5;124m\"\u001b[39m\u001b[38;5;124mname\u001b[39m\u001b[38;5;124m\"\u001b[39m: \u001b[38;5;28mself\u001b[39m\u001b[38;5;241m.\u001b[39mname, \u001b[38;5;124m\"\u001b[39m\u001b[38;5;124mdescription\u001b[39m\u001b[38;5;124m\"\u001b[39m: \u001b[38;5;28mself\u001b[39m\u001b[38;5;241m.\u001b[39mdescription},\n\u001b[1;32m    334\u001b[0m     tool_input \u001b[38;5;28;01mif\u001b[39;00m \u001b[38;5;28misinstance\u001b[39m(tool_input, \u001b[38;5;28mstr\u001b[39m) \u001b[38;5;28;01melse\u001b[39;00m \u001b[38;5;28mstr\u001b[39m(tool_input),\n\u001b[1;32m    335\u001b[0m     color\u001b[38;5;241m=\u001b[39mstart_color,\n\u001b[1;32m    336\u001b[0m     \u001b[38;5;241m*\u001b[39m\u001b[38;5;241m*\u001b[39mkwargs,\n\u001b[1;32m    337\u001b[0m )\n\u001b[1;32m    338\u001b[0m \u001b[38;5;28;01mtry\u001b[39;00m:\n\u001b[0;32m--> 339\u001b[0m     tool_args, tool_kwargs \u001b[38;5;241m=\u001b[39m \u001b[38;5;28;43mself\u001b[39;49m\u001b[38;5;241;43m.\u001b[39;49m\u001b[43m_to_args_and_kwargs\u001b[49m\u001b[43m(\u001b[49m\u001b[43mparsed_input\u001b[49m\u001b[43m)\u001b[49m\n\u001b[1;32m    340\u001b[0m     observation \u001b[38;5;241m=\u001b[39m (\n\u001b[1;32m    341\u001b[0m         \u001b[38;5;28mself\u001b[39m\u001b[38;5;241m.\u001b[39m_run(\u001b[38;5;241m*\u001b[39mtool_args, run_manager\u001b[38;5;241m=\u001b[39mrun_manager, \u001b[38;5;241m*\u001b[39m\u001b[38;5;241m*\u001b[39mtool_kwargs)\n\u001b[1;32m    342\u001b[0m         \u001b[38;5;28;01mif\u001b[39;00m new_arg_supported\n\u001b[1;32m    343\u001b[0m         \u001b[38;5;28;01melse\u001b[39;00m \u001b[38;5;28mself\u001b[39m\u001b[38;5;241m.\u001b[39m_run(\u001b[38;5;241m*\u001b[39mtool_args, \u001b[38;5;241m*\u001b[39m\u001b[38;5;241m*\u001b[39mtool_kwargs)\n\u001b[1;32m    344\u001b[0m     )\n\u001b[1;32m    345\u001b[0m \u001b[38;5;28;01mexcept\u001b[39;00m ToolException \u001b[38;5;28;01mas\u001b[39;00m e:\n",
      "File \u001b[0;32m~/tradeadvisor/venv/lib/python3.10/site-packages/langchain/tools/base.py:496\u001b[0m, in \u001b[0;36mTool._to_args_and_kwargs\u001b[0;34m(self, tool_input)\u001b[0m\n\u001b[1;32m    494\u001b[0m all_args \u001b[38;5;241m=\u001b[39m \u001b[38;5;28mlist\u001b[39m(args) \u001b[38;5;241m+\u001b[39m \u001b[38;5;28mlist\u001b[39m(kwargs\u001b[38;5;241m.\u001b[39mvalues())\n\u001b[1;32m    495\u001b[0m \u001b[38;5;28;01mif\u001b[39;00m \u001b[38;5;28mlen\u001b[39m(all_args) \u001b[38;5;241m!=\u001b[39m \u001b[38;5;241m1\u001b[39m:\n\u001b[0;32m--> 496\u001b[0m     \u001b[38;5;28;01mraise\u001b[39;00m ToolException(\n\u001b[1;32m    497\u001b[0m         \u001b[38;5;124mf\u001b[39m\u001b[38;5;124m\"\u001b[39m\u001b[38;5;124mToo many arguments to single-input tool \u001b[39m\u001b[38;5;132;01m{\u001b[39;00m\u001b[38;5;28mself\u001b[39m\u001b[38;5;241m.\u001b[39mname\u001b[38;5;132;01m}\u001b[39;00m\u001b[38;5;124m.\u001b[39m\u001b[38;5;124m\"\u001b[39m\n\u001b[1;32m    498\u001b[0m         \u001b[38;5;124mf\u001b[39m\u001b[38;5;124m\"\u001b[39m\u001b[38;5;124m Args: \u001b[39m\u001b[38;5;132;01m{\u001b[39;00mall_args\u001b[38;5;132;01m}\u001b[39;00m\u001b[38;5;124m\"\u001b[39m\n\u001b[1;32m    499\u001b[0m     )\n\u001b[1;32m    500\u001b[0m \u001b[38;5;28;01mreturn\u001b[39;00m \u001b[38;5;28mtuple\u001b[39m(all_args), {}\n",
      "\u001b[0;31mToolException\u001b[0m: Too many arguments to single-input tool search_adib_annual_report. Args: ['commission income', 'Abridged Income Statement', 'ADIB securities']"
     ]
    }
   ],
   "source": [
    "result = agent.run('what is the commission income in Abridged Income Statement under ADIB securities')\n",
    "result"
   ]
  },
  {
   "cell_type": "code",
   "execution_count": 17,
   "id": "fc9dc684",
   "metadata": {},
   "outputs": [
    {
     "name": "stdout",
     "output_type": "stream",
     "text": [
      "\n",
      "\n",
      "\u001b[1m> Entering new AgentExecutor chain...\u001b[0m\n",
      "\u001b[32;1m\u001b[1;3m\n",
      "Invoking: `search_adib_annual_report` with `{'query': 'Burooj Properties LLC'}`\n",
      "\n",
      "\n",
      "\u001b[0m\u001b[33;1m\u001b[1;3m[Document(page_content='Investment properties 22 - 625\\nDevelopment properties 23 - 31,148\\nOthers     15,753   100,758\\n954,399 1,314,112\\nThe above provision for impairment includes nil (2020: AED 31,773 thousand) pertaining to Burooj Properties LLC, a real estate subsidiary of \\nthe Bank.', metadata={'page': 105, 'source': '/home/fasih/ADIB/annual_report/ADIB Annual Report 2021.pdf'}), Document(page_content='Burooj Properties LLC ** UAE 100 Real Estate Investments Not consolidated Fully consolidated\\nMPM Properties LLC ** UAE 100 Real Estate Services Not consolidated Fully consolidated\\nKawader Services LLC ** UAE 100 Manpower Supply Not consolidated Fully consolidated\\nADIB (UK) Limited United Kingdom 100 Other Services Fully consolidated Fully consolidated\\nADIB Holdings (Jersey) Ltd* (under liquidation)British Channel \\nIslands  - Special Purpose Vehicle Fully consolidated Fully consolidated\\nADIB Sukuk Company Ltd.* Cayman Islands  - Special Purpose Vehicle Fully consolidated Fully consolidated\\nADIB Sukuk Company II Ltd.* Cayman Islands  - Special Purpose Vehicle Fully consolidated Fully consolidated\\nADIB Capital Invest 1 Ltd.* Cayman Islands  - Special Purpose Vehicle Fully consolidated Fully consolidated\\nADIB Capital Invest 2 Ltd.* Cayman Islands  - Special Purpose Vehicle Fully consolidated Fully consolidated\\nADIB Alternatives Ltd.* Cayman Islands  - Special Purpose Vehicle Fully consolidated Fully consolidated\\nSIGNIFICANT INVESTMENT\\nAbu Dhabi Islamic Bank - Egypt (S.A.E) Egypt 49Banking (under Conversion  \\nto Islamic Banking) Deduction treatment Equity Method\\nThe Residential REIT (IC) Limited UAE 30 Real Estate Fund Deduction treatment Equity Method\\nAbu Dhabi National Takaful PJSC UAE 42 Islamic insurance Deduction treatment Equity Method\\nBosnia Bank International D.D Bosnia 27 Islamic banking Deduction treatment Equity Method\\nSaudi Finance Company CSJCKingdom of Saudi', metadata={'page': 83, 'source': '/home/fasih/ADIB/annual_report/ADIB Annual Report 2020.pdf'}), Document(page_content='the Real Estate market in the UAE we deemed it prudent to increase \\nthe impairments relating to Burooj’s historical activities by a further AED 61.8 Mn in 2018.Non-Financial Services Business Review \\n ADIB Annual Report 2018 41', metadata={'page': 42, 'source': '/home/fasih/ADIB/annual_report/ADIB Annual Report 2018.pdf'}), Document(page_content='Abu Dhabi Islamic Merchant Acquiring Company LLC\\nćBosna Bank International D.D.\\n Burooj Properties ADIB UK\\nMPM Properties\\n ADIB Annual Report 2018 19', metadata={'page': 20, 'source': '/home/fasih/ADIB/annual_report/ADIB Annual Report 2018.pdf'})]\u001b[0m\u001b[32;1m\u001b[1;3mBurooj Properties LLC is a real estate subsidiary of Abu Dhabi Islamic Bank (ADIB). It is mentioned in the ADIB annual reports. Here is some information about Burooj Properties LLC:\n",
      "\n",
      "1. Provision for Impairment: The annual report states that the provision for impairment includes nil (2020: AED 31,773 thousand) pertaining to Burooj Properties LLC.\n",
      "\n",
      "2. Real Estate Investments: Burooj Properties LLC is involved in real estate investments. The report mentions investment properties and development properties associated with Burooj Properties LLC.\n",
      "\n",
      "3. Historical Activities: In the 2018 annual report, it is mentioned that due to the conditions in the real estate market in the UAE, ADIB deemed it prudent to increase impairments relating to Burooj's historical activities by a further AED 61.8 million in 2018.\n",
      "\n",
      "Please note that the information provided is based on the available annual reports and may not represent the complete scope of Burooj Properties LLC's activities. For more detailed information, it is recommended to refer to the specific annual reports of ADIB.\u001b[0m\n",
      "\n",
      "\u001b[1m> Finished chain.\u001b[0m\n"
     ]
    },
    {
     "data": {
      "text/plain": [
       "\"Burooj Properties LLC is a real estate subsidiary of Abu Dhabi Islamic Bank (ADIB). It is mentioned in the ADIB annual reports. Here is some information about Burooj Properties LLC:\\n\\n1. Provision for Impairment: The annual report states that the provision for impairment includes nil (2020: AED 31,773 thousand) pertaining to Burooj Properties LLC.\\n\\n2. Real Estate Investments: Burooj Properties LLC is involved in real estate investments. The report mentions investment properties and development properties associated with Burooj Properties LLC.\\n\\n3. Historical Activities: In the 2018 annual report, it is mentioned that due to the conditions in the real estate market in the UAE, ADIB deemed it prudent to increase impairments relating to Burooj's historical activities by a further AED 61.8 million in 2018.\\n\\nPlease note that the information provided is based on the available annual reports and may not represent the complete scope of Burooj Properties LLC's activities. For more detailed information, it is recommended to refer to the specific annual reports of ADIB.\""
      ]
     },
     "execution_count": 17,
     "metadata": {},
     "output_type": "execute_result"
    }
   ],
   "source": [
    "result = agent.run('Tell me about Burooj Properties LLC.')\n",
    "result"
   ]
  },
  {
   "cell_type": "code",
   "execution_count": 21,
   "id": "defcd96b",
   "metadata": {
    "scrolled": false
   },
   "outputs": [
    {
     "name": "stdout",
     "output_type": "stream",
     "text": [
      "\n",
      "\n",
      "\u001b[1m> Entering new AgentExecutor chain...\u001b[0m\n",
      "\u001b[32;1m\u001b[1;3m\n",
      "Invoking: `search_adib_annual_report` with `{'text': 'investments'}`\n",
      "\n",
      "\n",
      "\u001b[0m\u001b[33;1m\u001b[1;3m[Document(page_content='properties. Investment properties are measured at cost less any accumulated depreciation and any accumulated impairment losses. \\nDepreciation is charged on a straight-line basis over the assets’ estimated useful lives. The useful life of buildings is estimated to be 25 - 40 \\nyears.\\nInvestment properties are derecognized when either they have been disposed of or when the investment properties are permanently \\nwithdrawn from use and no future economic benefits are expected from their disposal. Any gains or losses on the retirement or disposal of an \\ninvestment property are recognized in the consolidated income statement.', metadata={'page': 99, 'source': '/home/fasih/ADIB/annual_report/ADIB Annual Report 2021.pdf'}), Document(page_content='The Group has entered into commercial property lease arrangements on its investment property portfolio. The Group has determined, based \\non an evaluation of the terms and conditions of the arrangements, that it retains all the significant risks and rewards of ownership of these \\nproperties therefore, accounts for the contracts as operating leases.', metadata={'page': 48, 'source': '/home/fasih/ADIB/annual_report/annual_report_2022_en.pdf'}), Document(page_content='The Group has entered into commercial property lease arrangements on its investment property portfolio. The Group has determined, based \\non an evaluation of the terms and conditions of the arrangements, that it retains all the significant risks and rewards of ownership of these \\nproperties therefore, accounts for the contracts as operating leases.', metadata={'page': 48, 'source': '/home/fasih/ADIB/annual_report/ADIB Annual Report 2022.pdf'}), Document(page_content='are made to bring the accounting policies in line with those of the Group.\\nAfter application of the equity method, the Group determines whether it is necessary to recognise an additional impairment loss on the \\nGroup’s investment in its joint venture. The Group determines at each reporting date whether there is any objective evidence that the \\ninvestment in the joint venture is impaired. If this is the case the Group calculates the amount of impairment as the difference between the \\nrecoverable amount of the joint venture and its carrying value and recognises the amount in the consolidated income statement.  \\nInvestment properties\\nProperties held for rental or capital appreciation purposes as well as those held for undetermined future use are classified as investment \\nproperties. Investment properties are measured at cost less any accumulated depreciation and any accumulated impairment losses. \\nDepreciation is charged on a straight-line basis over the assets’ estimated useful lives. The useful life of buildings is estimated to be 25 - 40 \\nyears.\\nInvestment properties are derecognized when either they have been disposed of or when the investment properties are permanently \\nwithdrawn from use and no future economic benefits are expected from their disposal. Any gains or losses on the retirement or disposal of an \\ninvestment property are recognized in the consolidated income statement.', metadata={'page': 52, 'source': '/home/fasih/ADIB/annual_report/annual_report_2022_en.pdf'})]\u001b[0m\u001b[32;1m\u001b[1;3m\n",
      "Invoking: `search_adib_annual_report` with `{'text': '2023'}`\n",
      "\n",
      "\n",
      "\u001b[0m\u001b[33;1m\u001b[1;3m[Document(page_content='ANNUAL REPORT 2022A RECORD \\nBREAKING YEAR', metadata={'page': 0, 'source': '/home/fasih/ADIB/annual_report/ADIB Annual Report 2022.pdf'}), Document(page_content='ANNUAL REPORT 2022A RECORD \\nBREAKING YEAR', metadata={'page': 0, 'source': '/home/fasih/ADIB/annual_report/annual_report_2022_en.pdf'}), Document(page_content='ADIB Annual Report 2018 33', metadata={'page': 34, 'source': '/home/fasih/ADIB/annual_report/ADIB Annual Report 2018.pdf'}), Document(page_content='ANNUAL REPORT 2018', metadata={'page': 0, 'source': '/home/fasih/ADIB/annual_report/ADIB Annual Report 2018.pdf'})]\u001b[0m\u001b[32;1m\u001b[1;3m\n",
      "Invoking: `search_adib_annual_report` with `{'text': 'investments'}`\n",
      "\n",
      "\n",
      "\u001b[0m\u001b[33;1m\u001b[1;3m[Document(page_content='properties. Investment properties are measured at cost less any accumulated depreciation and any accumulated impairment losses. \\nDepreciation is charged on a straight-line basis over the assets’ estimated useful lives. The useful life of buildings is estimated to be 25 - 40 \\nyears.\\nInvestment properties are derecognized when either they have been disposed of or when the investment properties are permanently \\nwithdrawn from use and no future economic benefits are expected from their disposal. Any gains or losses on the retirement or disposal of an \\ninvestment property are recognized in the consolidated income statement.', metadata={'page': 99, 'source': '/home/fasih/ADIB/annual_report/ADIB Annual Report 2021.pdf'}), Document(page_content='The Group has entered into commercial property lease arrangements on its investment property portfolio. The Group has determined, based \\non an evaluation of the terms and conditions of the arrangements, that it retains all the significant risks and rewards of ownership of these \\nproperties therefore, accounts for the contracts as operating leases.', metadata={'page': 48, 'source': '/home/fasih/ADIB/annual_report/annual_report_2022_en.pdf'}), Document(page_content='The Group has entered into commercial property lease arrangements on its investment property portfolio. The Group has determined, based \\non an evaluation of the terms and conditions of the arrangements, that it retains all the significant risks and rewards of ownership of these \\nproperties therefore, accounts for the contracts as operating leases.', metadata={'page': 48, 'source': '/home/fasih/ADIB/annual_report/ADIB Annual Report 2022.pdf'}), Document(page_content='are made to bring the accounting policies in line with those of the Group.\\nAfter application of the equity method, the Group determines whether it is necessary to recognise an additional impairment loss on the \\nGroup’s investment in its joint venture. The Group determines at each reporting date whether there is any objective evidence that the \\ninvestment in the joint venture is impaired. If this is the case the Group calculates the amount of impairment as the difference between the \\nrecoverable amount of the joint venture and its carrying value and recognises the amount in the consolidated income statement.  \\nInvestment properties\\nProperties held for rental or capital appreciation purposes as well as those held for undetermined future use are classified as investment \\nproperties. Investment properties are measured at cost less any accumulated depreciation and any accumulated impairment losses. \\nDepreciation is charged on a straight-line basis over the assets’ estimated useful lives. The useful life of buildings is estimated to be 25 - 40 \\nyears.\\nInvestment properties are derecognized when either they have been disposed of or when the investment properties are permanently \\nwithdrawn from use and no future economic benefits are expected from their disposal. Any gains or losses on the retirement or disposal of an \\ninvestment property are recognized in the consolidated income statement.', metadata={'page': 52, 'source': '/home/fasih/ADIB/annual_report/annual_report_2022_en.pdf'})]\u001b[0m\u001b[32;1m\u001b[1;3m\n",
      "Invoking: `search_adib_annual_report` with `{'text': '2023'}`\n",
      "\n",
      "\n",
      "\u001b[0m\u001b[33;1m\u001b[1;3m[Document(page_content='ANNUAL REPORT 2022A RECORD \\nBREAKING YEAR', metadata={'page': 0, 'source': '/home/fasih/ADIB/annual_report/ADIB Annual Report 2022.pdf'}), Document(page_content='ANNUAL REPORT 2022A RECORD \\nBREAKING YEAR', metadata={'page': 0, 'source': '/home/fasih/ADIB/annual_report/annual_report_2022_en.pdf'}), Document(page_content='ADIB Annual Report 2018 33', metadata={'page': 34, 'source': '/home/fasih/ADIB/annual_report/ADIB Annual Report 2018.pdf'}), Document(page_content='ANNUAL REPORT 2018', metadata={'page': 0, 'source': '/home/fasih/ADIB/annual_report/ADIB Annual Report 2018.pdf'})]\u001b[0m\u001b[32;1m\u001b[1;3m\n",
      "Invoking: `search_adib_annual_report` with `{'text': 'investment'}`\n",
      "\n",
      "\n"
     ]
    },
    {
     "name": "stdout",
     "output_type": "stream",
     "text": [
      "\u001b[0m\u001b[33;1m\u001b[1;3m[Document(page_content='properties. Investment properties are measured at cost less any accumulated depreciation and any accumulated impairment losses. \\nDepreciation is charged on a straight-line basis over the assets’ estimated useful lives. The useful life of buildings is estimated to be 25 - 40 \\nyears.\\nInvestment properties are derecognized when either they have been disposed of or when the investment properties are permanently \\nwithdrawn from use and no future economic benefits are expected from their disposal. Any gains or losses on the retirement or disposal of an \\ninvestment property are recognized in the consolidated income statement.', metadata={'page': 99, 'source': '/home/fasih/ADIB/annual_report/ADIB Annual Report 2021.pdf'}), Document(page_content='The Group has entered into commercial property lease arrangements on its investment property portfolio. The Group has determined, based \\non an evaluation of the terms and conditions of the arrangements, that it retains all the significant risks and rewards of ownership of these \\nproperties therefore, accounts for the contracts as operating leases.', metadata={'page': 48, 'source': '/home/fasih/ADIB/annual_report/annual_report_2022_en.pdf'}), Document(page_content='The Group has entered into commercial property lease arrangements on its investment property portfolio. The Group has determined, based \\non an evaluation of the terms and conditions of the arrangements, that it retains all the significant risks and rewards of ownership of these \\nproperties therefore, accounts for the contracts as operating leases.', metadata={'page': 48, 'source': '/home/fasih/ADIB/annual_report/ADIB Annual Report 2022.pdf'}), Document(page_content='Classification and measurement of financial assets\\nThe classification and measurement of the financial assets depend on the management’s business model for managing its financial assets and \\non the contractual cash flow characteristics of the financial asset assessed. The Group’s investments in securities are appropriately classified and measured.\\nInvestment and development properties\\nThe Group hired services of professional real estate valuer to provide reliable estimates of the market value of investment properties for determining the fair values as of the reporting date, for disclosure purposes and assessing the impairment, if any. The basis of estimate and method used by the valuer has been disclosed in the note 22.\\nFair value of financial instruments \\nWhere the fair values of financial assets and financial liabilities recorded in the consolidated statement of financial position that cannot be derived from active markets, they are determined using valuation techniques including the discounted cash flows model. The inputs to these models are taken from observable markets where possible, but where this is not feasible, a degree of judgment is required in establishing fair values. The judgments include considerations of inputs such as liquidity risk, credit risk and volatility. Changes in assumptions about these \\nfactors could affect the reported fair value of the financial instruments.\\nClassification of properties', metadata={'page': 84, 'source': '/home/fasih/ADIB/annual_report/ADIB Annual Report 2019.pdf'})]\u001b[0m"
     ]
    },
    {
     "ename": "InvalidRequestError",
     "evalue": "This model's maximum context length is 4097 tokens. However, your messages resulted in 4130 tokens (3991 in the messages, 139 in the functions). Please reduce the length of the messages or functions.",
     "output_type": "error",
     "traceback": [
      "\u001b[0;31m---------------------------------------------------------------------------\u001b[0m",
      "\u001b[0;31mInvalidRequestError\u001b[0m                       Traceback (most recent call last)",
      "Cell \u001b[0;32mIn[21], line 1\u001b[0m\n\u001b[0;32m----> 1\u001b[0m result \u001b[38;5;241m=\u001b[39m \u001b[43magent\u001b[49m\u001b[38;5;241;43m.\u001b[39;49m\u001b[43mrun\u001b[49m\u001b[43m(\u001b[49m\u001b[38;5;124;43m'\u001b[39;49m\u001b[38;5;124;43mwhat were the investments in 2023 in csv \u001b[39;49m\u001b[38;5;124;43m'\u001b[39;49m\u001b[43m)\u001b[49m\n\u001b[1;32m      2\u001b[0m result\n",
      "File \u001b[0;32m~/tradeadvisor/venv/lib/python3.10/site-packages/langchain/chains/base.py:475\u001b[0m, in \u001b[0;36mChain.run\u001b[0;34m(self, callbacks, tags, metadata, *args, **kwargs)\u001b[0m\n\u001b[1;32m    473\u001b[0m     \u001b[38;5;28;01mif\u001b[39;00m \u001b[38;5;28mlen\u001b[39m(args) \u001b[38;5;241m!=\u001b[39m \u001b[38;5;241m1\u001b[39m:\n\u001b[1;32m    474\u001b[0m         \u001b[38;5;28;01mraise\u001b[39;00m \u001b[38;5;167;01mValueError\u001b[39;00m(\u001b[38;5;124m\"\u001b[39m\u001b[38;5;124m`run` supports only one positional argument.\u001b[39m\u001b[38;5;124m\"\u001b[39m)\n\u001b[0;32m--> 475\u001b[0m     \u001b[38;5;28;01mreturn\u001b[39;00m \u001b[38;5;28;43mself\u001b[39;49m\u001b[43m(\u001b[49m\u001b[43margs\u001b[49m\u001b[43m[\u001b[49m\u001b[38;5;241;43m0\u001b[39;49m\u001b[43m]\u001b[49m\u001b[43m,\u001b[49m\u001b[43m \u001b[49m\u001b[43mcallbacks\u001b[49m\u001b[38;5;241;43m=\u001b[39;49m\u001b[43mcallbacks\u001b[49m\u001b[43m,\u001b[49m\u001b[43m \u001b[49m\u001b[43mtags\u001b[49m\u001b[38;5;241;43m=\u001b[39;49m\u001b[43mtags\u001b[49m\u001b[43m,\u001b[49m\u001b[43m \u001b[49m\u001b[43mmetadata\u001b[49m\u001b[38;5;241;43m=\u001b[39;49m\u001b[43mmetadata\u001b[49m\u001b[43m)\u001b[49m[\n\u001b[1;32m    476\u001b[0m         _output_key\n\u001b[1;32m    477\u001b[0m     ]\n\u001b[1;32m    479\u001b[0m \u001b[38;5;28;01mif\u001b[39;00m kwargs \u001b[38;5;129;01mand\u001b[39;00m \u001b[38;5;129;01mnot\u001b[39;00m args:\n\u001b[1;32m    480\u001b[0m     \u001b[38;5;28;01mreturn\u001b[39;00m \u001b[38;5;28mself\u001b[39m(kwargs, callbacks\u001b[38;5;241m=\u001b[39mcallbacks, tags\u001b[38;5;241m=\u001b[39mtags, metadata\u001b[38;5;241m=\u001b[39mmetadata)[\n\u001b[1;32m    481\u001b[0m         _output_key\n\u001b[1;32m    482\u001b[0m     ]\n",
      "File \u001b[0;32m~/tradeadvisor/venv/lib/python3.10/site-packages/langchain/chains/base.py:282\u001b[0m, in \u001b[0;36mChain.__call__\u001b[0;34m(self, inputs, return_only_outputs, callbacks, tags, metadata, include_run_info)\u001b[0m\n\u001b[1;32m    280\u001b[0m \u001b[38;5;28;01mexcept\u001b[39;00m (\u001b[38;5;167;01mKeyboardInterrupt\u001b[39;00m, \u001b[38;5;167;01mException\u001b[39;00m) \u001b[38;5;28;01mas\u001b[39;00m e:\n\u001b[1;32m    281\u001b[0m     run_manager\u001b[38;5;241m.\u001b[39mon_chain_error(e)\n\u001b[0;32m--> 282\u001b[0m     \u001b[38;5;28;01mraise\u001b[39;00m e\n\u001b[1;32m    283\u001b[0m run_manager\u001b[38;5;241m.\u001b[39mon_chain_end(outputs)\n\u001b[1;32m    284\u001b[0m final_outputs: Dict[\u001b[38;5;28mstr\u001b[39m, Any] \u001b[38;5;241m=\u001b[39m \u001b[38;5;28mself\u001b[39m\u001b[38;5;241m.\u001b[39mprep_outputs(\n\u001b[1;32m    285\u001b[0m     inputs, outputs, return_only_outputs\n\u001b[1;32m    286\u001b[0m )\n",
      "File \u001b[0;32m~/tradeadvisor/venv/lib/python3.10/site-packages/langchain/chains/base.py:276\u001b[0m, in \u001b[0;36mChain.__call__\u001b[0;34m(self, inputs, return_only_outputs, callbacks, tags, metadata, include_run_info)\u001b[0m\n\u001b[1;32m    270\u001b[0m run_manager \u001b[38;5;241m=\u001b[39m callback_manager\u001b[38;5;241m.\u001b[39mon_chain_start(\n\u001b[1;32m    271\u001b[0m     dumpd(\u001b[38;5;28mself\u001b[39m),\n\u001b[1;32m    272\u001b[0m     inputs,\n\u001b[1;32m    273\u001b[0m )\n\u001b[1;32m    274\u001b[0m \u001b[38;5;28;01mtry\u001b[39;00m:\n\u001b[1;32m    275\u001b[0m     outputs \u001b[38;5;241m=\u001b[39m (\n\u001b[0;32m--> 276\u001b[0m         \u001b[38;5;28;43mself\u001b[39;49m\u001b[38;5;241;43m.\u001b[39;49m\u001b[43m_call\u001b[49m\u001b[43m(\u001b[49m\u001b[43minputs\u001b[49m\u001b[43m,\u001b[49m\u001b[43m \u001b[49m\u001b[43mrun_manager\u001b[49m\u001b[38;5;241;43m=\u001b[39;49m\u001b[43mrun_manager\u001b[49m\u001b[43m)\u001b[49m\n\u001b[1;32m    277\u001b[0m         \u001b[38;5;28;01mif\u001b[39;00m new_arg_supported\n\u001b[1;32m    278\u001b[0m         \u001b[38;5;28;01melse\u001b[39;00m \u001b[38;5;28mself\u001b[39m\u001b[38;5;241m.\u001b[39m_call(inputs)\n\u001b[1;32m    279\u001b[0m     )\n\u001b[1;32m    280\u001b[0m \u001b[38;5;28;01mexcept\u001b[39;00m (\u001b[38;5;167;01mKeyboardInterrupt\u001b[39;00m, \u001b[38;5;167;01mException\u001b[39;00m) \u001b[38;5;28;01mas\u001b[39;00m e:\n\u001b[1;32m    281\u001b[0m     run_manager\u001b[38;5;241m.\u001b[39mon_chain_error(e)\n",
      "File \u001b[0;32m~/tradeadvisor/venv/lib/python3.10/site-packages/langchain/agents/agent.py:1036\u001b[0m, in \u001b[0;36mAgentExecutor._call\u001b[0;34m(self, inputs, run_manager)\u001b[0m\n\u001b[1;32m   1034\u001b[0m \u001b[38;5;66;03m# We now enter the agent loop (until it returns something).\u001b[39;00m\n\u001b[1;32m   1035\u001b[0m \u001b[38;5;28;01mwhile\u001b[39;00m \u001b[38;5;28mself\u001b[39m\u001b[38;5;241m.\u001b[39m_should_continue(iterations, time_elapsed):\n\u001b[0;32m-> 1036\u001b[0m     next_step_output \u001b[38;5;241m=\u001b[39m \u001b[38;5;28;43mself\u001b[39;49m\u001b[38;5;241;43m.\u001b[39;49m\u001b[43m_take_next_step\u001b[49m\u001b[43m(\u001b[49m\n\u001b[1;32m   1037\u001b[0m \u001b[43m        \u001b[49m\u001b[43mname_to_tool_map\u001b[49m\u001b[43m,\u001b[49m\n\u001b[1;32m   1038\u001b[0m \u001b[43m        \u001b[49m\u001b[43mcolor_mapping\u001b[49m\u001b[43m,\u001b[49m\n\u001b[1;32m   1039\u001b[0m \u001b[43m        \u001b[49m\u001b[43minputs\u001b[49m\u001b[43m,\u001b[49m\n\u001b[1;32m   1040\u001b[0m \u001b[43m        \u001b[49m\u001b[43mintermediate_steps\u001b[49m\u001b[43m,\u001b[49m\n\u001b[1;32m   1041\u001b[0m \u001b[43m        \u001b[49m\u001b[43mrun_manager\u001b[49m\u001b[38;5;241;43m=\u001b[39;49m\u001b[43mrun_manager\u001b[49m\u001b[43m,\u001b[49m\n\u001b[1;32m   1042\u001b[0m \u001b[43m    \u001b[49m\u001b[43m)\u001b[49m\n\u001b[1;32m   1043\u001b[0m     \u001b[38;5;28;01mif\u001b[39;00m \u001b[38;5;28misinstance\u001b[39m(next_step_output, AgentFinish):\n\u001b[1;32m   1044\u001b[0m         \u001b[38;5;28;01mreturn\u001b[39;00m \u001b[38;5;28mself\u001b[39m\u001b[38;5;241m.\u001b[39m_return(\n\u001b[1;32m   1045\u001b[0m             next_step_output, intermediate_steps, run_manager\u001b[38;5;241m=\u001b[39mrun_manager\n\u001b[1;32m   1046\u001b[0m         )\n",
      "File \u001b[0;32m~/tradeadvisor/venv/lib/python3.10/site-packages/langchain/agents/agent.py:833\u001b[0m, in \u001b[0;36mAgentExecutor._take_next_step\u001b[0;34m(self, name_to_tool_map, color_mapping, inputs, intermediate_steps, run_manager)\u001b[0m\n\u001b[1;32m    830\u001b[0m     intermediate_steps \u001b[38;5;241m=\u001b[39m \u001b[38;5;28mself\u001b[39m\u001b[38;5;241m.\u001b[39m_prepare_intermediate_steps(intermediate_steps)\n\u001b[1;32m    832\u001b[0m     \u001b[38;5;66;03m# Call the LLM to see what to do.\u001b[39;00m\n\u001b[0;32m--> 833\u001b[0m     output \u001b[38;5;241m=\u001b[39m \u001b[38;5;28;43mself\u001b[39;49m\u001b[38;5;241;43m.\u001b[39;49m\u001b[43magent\u001b[49m\u001b[38;5;241;43m.\u001b[39;49m\u001b[43mplan\u001b[49m\u001b[43m(\u001b[49m\n\u001b[1;32m    834\u001b[0m \u001b[43m        \u001b[49m\u001b[43mintermediate_steps\u001b[49m\u001b[43m,\u001b[49m\n\u001b[1;32m    835\u001b[0m \u001b[43m        \u001b[49m\u001b[43mcallbacks\u001b[49m\u001b[38;5;241;43m=\u001b[39;49m\u001b[43mrun_manager\u001b[49m\u001b[38;5;241;43m.\u001b[39;49m\u001b[43mget_child\u001b[49m\u001b[43m(\u001b[49m\u001b[43m)\u001b[49m\u001b[43m \u001b[49m\u001b[38;5;28;43;01mif\u001b[39;49;00m\u001b[43m \u001b[49m\u001b[43mrun_manager\u001b[49m\u001b[43m \u001b[49m\u001b[38;5;28;43;01melse\u001b[39;49;00m\u001b[43m \u001b[49m\u001b[38;5;28;43;01mNone\u001b[39;49;00m\u001b[43m,\u001b[49m\n\u001b[1;32m    836\u001b[0m \u001b[43m        \u001b[49m\u001b[38;5;241;43m*\u001b[39;49m\u001b[38;5;241;43m*\u001b[39;49m\u001b[43minputs\u001b[49m\u001b[43m,\u001b[49m\n\u001b[1;32m    837\u001b[0m \u001b[43m    \u001b[49m\u001b[43m)\u001b[49m\n\u001b[1;32m    838\u001b[0m \u001b[38;5;28;01mexcept\u001b[39;00m OutputParserException \u001b[38;5;28;01mas\u001b[39;00m e:\n\u001b[1;32m    839\u001b[0m     \u001b[38;5;28;01mif\u001b[39;00m \u001b[38;5;28misinstance\u001b[39m(\u001b[38;5;28mself\u001b[39m\u001b[38;5;241m.\u001b[39mhandle_parsing_errors, \u001b[38;5;28mbool\u001b[39m):\n",
      "File \u001b[0;32m~/tradeadvisor/venv/lib/python3.10/site-packages/langchain/agents/openai_functions_agent/base.py:212\u001b[0m, in \u001b[0;36mOpenAIFunctionsAgent.plan\u001b[0;34m(self, intermediate_steps, callbacks, with_functions, **kwargs)\u001b[0m\n\u001b[1;32m    210\u001b[0m messages \u001b[38;5;241m=\u001b[39m prompt\u001b[38;5;241m.\u001b[39mto_messages()\n\u001b[1;32m    211\u001b[0m \u001b[38;5;28;01mif\u001b[39;00m with_functions:\n\u001b[0;32m--> 212\u001b[0m     predicted_message \u001b[38;5;241m=\u001b[39m \u001b[38;5;28;43mself\u001b[39;49m\u001b[38;5;241;43m.\u001b[39;49m\u001b[43mllm\u001b[49m\u001b[38;5;241;43m.\u001b[39;49m\u001b[43mpredict_messages\u001b[49m\u001b[43m(\u001b[49m\n\u001b[1;32m    213\u001b[0m \u001b[43m        \u001b[49m\u001b[43mmessages\u001b[49m\u001b[43m,\u001b[49m\n\u001b[1;32m    214\u001b[0m \u001b[43m        \u001b[49m\u001b[43mfunctions\u001b[49m\u001b[38;5;241;43m=\u001b[39;49m\u001b[38;5;28;43mself\u001b[39;49m\u001b[38;5;241;43m.\u001b[39;49m\u001b[43mfunctions\u001b[49m\u001b[43m,\u001b[49m\n\u001b[1;32m    215\u001b[0m \u001b[43m        \u001b[49m\u001b[43mcallbacks\u001b[49m\u001b[38;5;241;43m=\u001b[39;49m\u001b[43mcallbacks\u001b[49m\u001b[43m,\u001b[49m\n\u001b[1;32m    216\u001b[0m \u001b[43m    \u001b[49m\u001b[43m)\u001b[49m\n\u001b[1;32m    217\u001b[0m \u001b[38;5;28;01melse\u001b[39;00m:\n\u001b[1;32m    218\u001b[0m     predicted_message \u001b[38;5;241m=\u001b[39m \u001b[38;5;28mself\u001b[39m\u001b[38;5;241m.\u001b[39mllm\u001b[38;5;241m.\u001b[39mpredict_messages(\n\u001b[1;32m    219\u001b[0m         messages,\n\u001b[1;32m    220\u001b[0m         callbacks\u001b[38;5;241m=\u001b[39mcallbacks,\n\u001b[1;32m    221\u001b[0m     )\n",
      "File \u001b[0;32m~/tradeadvisor/venv/lib/python3.10/site-packages/langchain/chat_models/base.py:602\u001b[0m, in \u001b[0;36mBaseChatModel.predict_messages\u001b[0;34m(self, messages, stop, **kwargs)\u001b[0m\n\u001b[1;32m    600\u001b[0m \u001b[38;5;28;01melse\u001b[39;00m:\n\u001b[1;32m    601\u001b[0m     _stop \u001b[38;5;241m=\u001b[39m \u001b[38;5;28mlist\u001b[39m(stop)\n\u001b[0;32m--> 602\u001b[0m \u001b[38;5;28;01mreturn\u001b[39;00m \u001b[38;5;28;43mself\u001b[39;49m\u001b[43m(\u001b[49m\u001b[43mmessages\u001b[49m\u001b[43m,\u001b[49m\u001b[43m \u001b[49m\u001b[43mstop\u001b[49m\u001b[38;5;241;43m=\u001b[39;49m\u001b[43m_stop\u001b[49m\u001b[43m,\u001b[49m\u001b[43m \u001b[49m\u001b[38;5;241;43m*\u001b[39;49m\u001b[38;5;241;43m*\u001b[39;49m\u001b[43mkwargs\u001b[49m\u001b[43m)\u001b[49m\n",
      "File \u001b[0;32m~/tradeadvisor/venv/lib/python3.10/site-packages/langchain/chat_models/base.py:552\u001b[0m, in \u001b[0;36mBaseChatModel.__call__\u001b[0;34m(self, messages, stop, callbacks, **kwargs)\u001b[0m\n\u001b[1;32m    545\u001b[0m \u001b[38;5;28;01mdef\u001b[39;00m \u001b[38;5;21m__call__\u001b[39m(\n\u001b[1;32m    546\u001b[0m     \u001b[38;5;28mself\u001b[39m,\n\u001b[1;32m    547\u001b[0m     messages: List[BaseMessage],\n\u001b[0;32m   (...)\u001b[0m\n\u001b[1;32m    550\u001b[0m     \u001b[38;5;241m*\u001b[39m\u001b[38;5;241m*\u001b[39mkwargs: Any,\n\u001b[1;32m    551\u001b[0m ) \u001b[38;5;241m-\u001b[39m\u001b[38;5;241m>\u001b[39m BaseMessage:\n\u001b[0;32m--> 552\u001b[0m     generation \u001b[38;5;241m=\u001b[39m \u001b[38;5;28;43mself\u001b[39;49m\u001b[38;5;241;43m.\u001b[39;49m\u001b[43mgenerate\u001b[49m\u001b[43m(\u001b[49m\n\u001b[1;32m    553\u001b[0m \u001b[43m        \u001b[49m\u001b[43m[\u001b[49m\u001b[43mmessages\u001b[49m\u001b[43m]\u001b[49m\u001b[43m,\u001b[49m\u001b[43m \u001b[49m\u001b[43mstop\u001b[49m\u001b[38;5;241;43m=\u001b[39;49m\u001b[43mstop\u001b[49m\u001b[43m,\u001b[49m\u001b[43m \u001b[49m\u001b[43mcallbacks\u001b[49m\u001b[38;5;241;43m=\u001b[39;49m\u001b[43mcallbacks\u001b[49m\u001b[43m,\u001b[49m\u001b[43m \u001b[49m\u001b[38;5;241;43m*\u001b[39;49m\u001b[38;5;241;43m*\u001b[39;49m\u001b[43mkwargs\u001b[49m\n\u001b[1;32m    554\u001b[0m \u001b[43m    \u001b[49m\u001b[43m)\u001b[49m\u001b[38;5;241m.\u001b[39mgenerations[\u001b[38;5;241m0\u001b[39m][\u001b[38;5;241m0\u001b[39m]\n\u001b[1;32m    555\u001b[0m     \u001b[38;5;28;01mif\u001b[39;00m \u001b[38;5;28misinstance\u001b[39m(generation, ChatGeneration):\n\u001b[1;32m    556\u001b[0m         \u001b[38;5;28;01mreturn\u001b[39;00m generation\u001b[38;5;241m.\u001b[39mmessage\n",
      "File \u001b[0;32m~/tradeadvisor/venv/lib/python3.10/site-packages/langchain/chat_models/base.py:310\u001b[0m, in \u001b[0;36mBaseChatModel.generate\u001b[0;34m(self, messages, stop, callbacks, tags, metadata, **kwargs)\u001b[0m\n\u001b[1;32m    308\u001b[0m         \u001b[38;5;28;01mif\u001b[39;00m run_managers:\n\u001b[1;32m    309\u001b[0m             run_managers[i]\u001b[38;5;241m.\u001b[39mon_llm_error(e)\n\u001b[0;32m--> 310\u001b[0m         \u001b[38;5;28;01mraise\u001b[39;00m e\n\u001b[1;32m    311\u001b[0m flattened_outputs \u001b[38;5;241m=\u001b[39m [\n\u001b[1;32m    312\u001b[0m     LLMResult(generations\u001b[38;5;241m=\u001b[39m[res\u001b[38;5;241m.\u001b[39mgenerations], llm_output\u001b[38;5;241m=\u001b[39mres\u001b[38;5;241m.\u001b[39mllm_output)\n\u001b[1;32m    313\u001b[0m     \u001b[38;5;28;01mfor\u001b[39;00m res \u001b[38;5;129;01min\u001b[39;00m results\n\u001b[1;32m    314\u001b[0m ]\n\u001b[1;32m    315\u001b[0m llm_output \u001b[38;5;241m=\u001b[39m \u001b[38;5;28mself\u001b[39m\u001b[38;5;241m.\u001b[39m_combine_llm_outputs([res\u001b[38;5;241m.\u001b[39mllm_output \u001b[38;5;28;01mfor\u001b[39;00m res \u001b[38;5;129;01min\u001b[39;00m results])\n",
      "File \u001b[0;32m~/tradeadvisor/venv/lib/python3.10/site-packages/langchain/chat_models/base.py:300\u001b[0m, in \u001b[0;36mBaseChatModel.generate\u001b[0;34m(self, messages, stop, callbacks, tags, metadata, **kwargs)\u001b[0m\n\u001b[1;32m    297\u001b[0m \u001b[38;5;28;01mfor\u001b[39;00m i, m \u001b[38;5;129;01min\u001b[39;00m \u001b[38;5;28menumerate\u001b[39m(messages):\n\u001b[1;32m    298\u001b[0m     \u001b[38;5;28;01mtry\u001b[39;00m:\n\u001b[1;32m    299\u001b[0m         results\u001b[38;5;241m.\u001b[39mappend(\n\u001b[0;32m--> 300\u001b[0m             \u001b[38;5;28;43mself\u001b[39;49m\u001b[38;5;241;43m.\u001b[39;49m\u001b[43m_generate_with_cache\u001b[49m\u001b[43m(\u001b[49m\n\u001b[1;32m    301\u001b[0m \u001b[43m                \u001b[49m\u001b[43mm\u001b[49m\u001b[43m,\u001b[49m\n\u001b[1;32m    302\u001b[0m \u001b[43m                \u001b[49m\u001b[43mstop\u001b[49m\u001b[38;5;241;43m=\u001b[39;49m\u001b[43mstop\u001b[49m\u001b[43m,\u001b[49m\n\u001b[1;32m    303\u001b[0m \u001b[43m                \u001b[49m\u001b[43mrun_manager\u001b[49m\u001b[38;5;241;43m=\u001b[39;49m\u001b[43mrun_managers\u001b[49m\u001b[43m[\u001b[49m\u001b[43mi\u001b[49m\u001b[43m]\u001b[49m\u001b[43m \u001b[49m\u001b[38;5;28;43;01mif\u001b[39;49;00m\u001b[43m \u001b[49m\u001b[43mrun_managers\u001b[49m\u001b[43m \u001b[49m\u001b[38;5;28;43;01melse\u001b[39;49;00m\u001b[43m \u001b[49m\u001b[38;5;28;43;01mNone\u001b[39;49;00m\u001b[43m,\u001b[49m\n\u001b[1;32m    304\u001b[0m \u001b[43m                \u001b[49m\u001b[38;5;241;43m*\u001b[39;49m\u001b[38;5;241;43m*\u001b[39;49m\u001b[43mkwargs\u001b[49m\u001b[43m,\u001b[49m\n\u001b[1;32m    305\u001b[0m \u001b[43m            \u001b[49m\u001b[43m)\u001b[49m\n\u001b[1;32m    306\u001b[0m         )\n\u001b[1;32m    307\u001b[0m     \u001b[38;5;28;01mexcept\u001b[39;00m (\u001b[38;5;167;01mKeyboardInterrupt\u001b[39;00m, \u001b[38;5;167;01mException\u001b[39;00m) \u001b[38;5;28;01mas\u001b[39;00m e:\n\u001b[1;32m    308\u001b[0m         \u001b[38;5;28;01mif\u001b[39;00m run_managers:\n",
      "File \u001b[0;32m~/tradeadvisor/venv/lib/python3.10/site-packages/langchain/chat_models/base.py:447\u001b[0m, in \u001b[0;36mBaseChatModel._generate_with_cache\u001b[0;34m(self, messages, stop, run_manager, **kwargs)\u001b[0m\n\u001b[1;32m    443\u001b[0m     \u001b[38;5;28;01mraise\u001b[39;00m \u001b[38;5;167;01mValueError\u001b[39;00m(\n\u001b[1;32m    444\u001b[0m         \u001b[38;5;124m\"\u001b[39m\u001b[38;5;124mAsked to cache, but no cache found at `langchain.cache`.\u001b[39m\u001b[38;5;124m\"\u001b[39m\n\u001b[1;32m    445\u001b[0m     )\n\u001b[1;32m    446\u001b[0m \u001b[38;5;28;01mif\u001b[39;00m new_arg_supported:\n\u001b[0;32m--> 447\u001b[0m     \u001b[38;5;28;01mreturn\u001b[39;00m \u001b[38;5;28;43mself\u001b[39;49m\u001b[38;5;241;43m.\u001b[39;49m\u001b[43m_generate\u001b[49m\u001b[43m(\u001b[49m\n\u001b[1;32m    448\u001b[0m \u001b[43m        \u001b[49m\u001b[43mmessages\u001b[49m\u001b[43m,\u001b[49m\u001b[43m \u001b[49m\u001b[43mstop\u001b[49m\u001b[38;5;241;43m=\u001b[39;49m\u001b[43mstop\u001b[49m\u001b[43m,\u001b[49m\u001b[43m \u001b[49m\u001b[43mrun_manager\u001b[49m\u001b[38;5;241;43m=\u001b[39;49m\u001b[43mrun_manager\u001b[49m\u001b[43m,\u001b[49m\u001b[43m \u001b[49m\u001b[38;5;241;43m*\u001b[39;49m\u001b[38;5;241;43m*\u001b[39;49m\u001b[43mkwargs\u001b[49m\n\u001b[1;32m    449\u001b[0m \u001b[43m    \u001b[49m\u001b[43m)\u001b[49m\n\u001b[1;32m    450\u001b[0m \u001b[38;5;28;01melse\u001b[39;00m:\n\u001b[1;32m    451\u001b[0m     \u001b[38;5;28;01mreturn\u001b[39;00m \u001b[38;5;28mself\u001b[39m\u001b[38;5;241m.\u001b[39m_generate(messages, stop\u001b[38;5;241m=\u001b[39mstop, \u001b[38;5;241m*\u001b[39m\u001b[38;5;241m*\u001b[39mkwargs)\n",
      "File \u001b[0;32m~/tradeadvisor/venv/lib/python3.10/site-packages/langchain/chat_models/openai.py:340\u001b[0m, in \u001b[0;36mChatOpenAI._generate\u001b[0;34m(self, messages, stop, run_manager, stream, **kwargs)\u001b[0m\n\u001b[1;32m    338\u001b[0m message_dicts, params \u001b[38;5;241m=\u001b[39m \u001b[38;5;28mself\u001b[39m\u001b[38;5;241m.\u001b[39m_create_message_dicts(messages, stop)\n\u001b[1;32m    339\u001b[0m params \u001b[38;5;241m=\u001b[39m {\u001b[38;5;241m*\u001b[39m\u001b[38;5;241m*\u001b[39mparams, \u001b[38;5;241m*\u001b[39m\u001b[38;5;241m*\u001b[39mkwargs}\n\u001b[0;32m--> 340\u001b[0m response \u001b[38;5;241m=\u001b[39m \u001b[38;5;28;43mself\u001b[39;49m\u001b[38;5;241;43m.\u001b[39;49m\u001b[43mcompletion_with_retry\u001b[49m\u001b[43m(\u001b[49m\n\u001b[1;32m    341\u001b[0m \u001b[43m    \u001b[49m\u001b[43mmessages\u001b[49m\u001b[38;5;241;43m=\u001b[39;49m\u001b[43mmessage_dicts\u001b[49m\u001b[43m,\u001b[49m\u001b[43m \u001b[49m\u001b[43mrun_manager\u001b[49m\u001b[38;5;241;43m=\u001b[39;49m\u001b[43mrun_manager\u001b[49m\u001b[43m,\u001b[49m\u001b[43m \u001b[49m\u001b[38;5;241;43m*\u001b[39;49m\u001b[38;5;241;43m*\u001b[39;49m\u001b[43mparams\u001b[49m\n\u001b[1;32m    342\u001b[0m \u001b[43m\u001b[49m\u001b[43m)\u001b[49m\n\u001b[1;32m    343\u001b[0m \u001b[38;5;28;01mreturn\u001b[39;00m \u001b[38;5;28mself\u001b[39m\u001b[38;5;241m.\u001b[39m_create_chat_result(response)\n",
      "File \u001b[0;32m~/tradeadvisor/venv/lib/python3.10/site-packages/langchain/chat_models/openai.py:279\u001b[0m, in \u001b[0;36mChatOpenAI.completion_with_retry\u001b[0;34m(self, run_manager, **kwargs)\u001b[0m\n\u001b[1;32m    275\u001b[0m \u001b[38;5;129m@retry_decorator\u001b[39m\n\u001b[1;32m    276\u001b[0m \u001b[38;5;28;01mdef\u001b[39;00m \u001b[38;5;21m_completion_with_retry\u001b[39m(\u001b[38;5;241m*\u001b[39m\u001b[38;5;241m*\u001b[39mkwargs: Any) \u001b[38;5;241m-\u001b[39m\u001b[38;5;241m>\u001b[39m Any:\n\u001b[1;32m    277\u001b[0m     \u001b[38;5;28;01mreturn\u001b[39;00m \u001b[38;5;28mself\u001b[39m\u001b[38;5;241m.\u001b[39mclient\u001b[38;5;241m.\u001b[39mcreate(\u001b[38;5;241m*\u001b[39m\u001b[38;5;241m*\u001b[39mkwargs)\n\u001b[0;32m--> 279\u001b[0m \u001b[38;5;28;01mreturn\u001b[39;00m \u001b[43m_completion_with_retry\u001b[49m\u001b[43m(\u001b[49m\u001b[38;5;241;43m*\u001b[39;49m\u001b[38;5;241;43m*\u001b[39;49m\u001b[43mkwargs\u001b[49m\u001b[43m)\u001b[49m\n",
      "File \u001b[0;32m~/tradeadvisor/venv/lib/python3.10/site-packages/tenacity/__init__.py:289\u001b[0m, in \u001b[0;36mBaseRetrying.wraps.<locals>.wrapped_f\u001b[0;34m(*args, **kw)\u001b[0m\n\u001b[1;32m    287\u001b[0m \u001b[38;5;129m@functools\u001b[39m\u001b[38;5;241m.\u001b[39mwraps(f)\n\u001b[1;32m    288\u001b[0m \u001b[38;5;28;01mdef\u001b[39;00m \u001b[38;5;21mwrapped_f\u001b[39m(\u001b[38;5;241m*\u001b[39margs: t\u001b[38;5;241m.\u001b[39mAny, \u001b[38;5;241m*\u001b[39m\u001b[38;5;241m*\u001b[39mkw: t\u001b[38;5;241m.\u001b[39mAny) \u001b[38;5;241m-\u001b[39m\u001b[38;5;241m>\u001b[39m t\u001b[38;5;241m.\u001b[39mAny:\n\u001b[0;32m--> 289\u001b[0m     \u001b[38;5;28;01mreturn\u001b[39;00m \u001b[38;5;28;43mself\u001b[39;49m\u001b[43m(\u001b[49m\u001b[43mf\u001b[49m\u001b[43m,\u001b[49m\u001b[43m \u001b[49m\u001b[38;5;241;43m*\u001b[39;49m\u001b[43margs\u001b[49m\u001b[43m,\u001b[49m\u001b[43m \u001b[49m\u001b[38;5;241;43m*\u001b[39;49m\u001b[38;5;241;43m*\u001b[39;49m\u001b[43mkw\u001b[49m\u001b[43m)\u001b[49m\n",
      "File \u001b[0;32m~/tradeadvisor/venv/lib/python3.10/site-packages/tenacity/__init__.py:379\u001b[0m, in \u001b[0;36mRetrying.__call__\u001b[0;34m(self, fn, *args, **kwargs)\u001b[0m\n\u001b[1;32m    377\u001b[0m retry_state \u001b[38;5;241m=\u001b[39m RetryCallState(retry_object\u001b[38;5;241m=\u001b[39m\u001b[38;5;28mself\u001b[39m, fn\u001b[38;5;241m=\u001b[39mfn, args\u001b[38;5;241m=\u001b[39margs, kwargs\u001b[38;5;241m=\u001b[39mkwargs)\n\u001b[1;32m    378\u001b[0m \u001b[38;5;28;01mwhile\u001b[39;00m \u001b[38;5;28;01mTrue\u001b[39;00m:\n\u001b[0;32m--> 379\u001b[0m     do \u001b[38;5;241m=\u001b[39m \u001b[38;5;28;43mself\u001b[39;49m\u001b[38;5;241;43m.\u001b[39;49m\u001b[43miter\u001b[49m\u001b[43m(\u001b[49m\u001b[43mretry_state\u001b[49m\u001b[38;5;241;43m=\u001b[39;49m\u001b[43mretry_state\u001b[49m\u001b[43m)\u001b[49m\n\u001b[1;32m    380\u001b[0m     \u001b[38;5;28;01mif\u001b[39;00m \u001b[38;5;28misinstance\u001b[39m(do, DoAttempt):\n\u001b[1;32m    381\u001b[0m         \u001b[38;5;28;01mtry\u001b[39;00m:\n",
      "File \u001b[0;32m~/tradeadvisor/venv/lib/python3.10/site-packages/tenacity/__init__.py:314\u001b[0m, in \u001b[0;36mBaseRetrying.iter\u001b[0;34m(self, retry_state)\u001b[0m\n\u001b[1;32m    312\u001b[0m is_explicit_retry \u001b[38;5;241m=\u001b[39m fut\u001b[38;5;241m.\u001b[39mfailed \u001b[38;5;129;01mand\u001b[39;00m \u001b[38;5;28misinstance\u001b[39m(fut\u001b[38;5;241m.\u001b[39mexception(), TryAgain)\n\u001b[1;32m    313\u001b[0m \u001b[38;5;28;01mif\u001b[39;00m \u001b[38;5;129;01mnot\u001b[39;00m (is_explicit_retry \u001b[38;5;129;01mor\u001b[39;00m \u001b[38;5;28mself\u001b[39m\u001b[38;5;241m.\u001b[39mretry(retry_state)):\n\u001b[0;32m--> 314\u001b[0m     \u001b[38;5;28;01mreturn\u001b[39;00m \u001b[43mfut\u001b[49m\u001b[38;5;241;43m.\u001b[39;49m\u001b[43mresult\u001b[49m\u001b[43m(\u001b[49m\u001b[43m)\u001b[49m\n\u001b[1;32m    316\u001b[0m \u001b[38;5;28;01mif\u001b[39;00m \u001b[38;5;28mself\u001b[39m\u001b[38;5;241m.\u001b[39mafter \u001b[38;5;129;01mis\u001b[39;00m \u001b[38;5;129;01mnot\u001b[39;00m \u001b[38;5;28;01mNone\u001b[39;00m:\n\u001b[1;32m    317\u001b[0m     \u001b[38;5;28mself\u001b[39m\u001b[38;5;241m.\u001b[39mafter(retry_state)\n",
      "File \u001b[0;32m/usr/lib/python3.10/concurrent/futures/_base.py:451\u001b[0m, in \u001b[0;36mFuture.result\u001b[0;34m(self, timeout)\u001b[0m\n\u001b[1;32m    449\u001b[0m     \u001b[38;5;28;01mraise\u001b[39;00m CancelledError()\n\u001b[1;32m    450\u001b[0m \u001b[38;5;28;01melif\u001b[39;00m \u001b[38;5;28mself\u001b[39m\u001b[38;5;241m.\u001b[39m_state \u001b[38;5;241m==\u001b[39m FINISHED:\n\u001b[0;32m--> 451\u001b[0m     \u001b[38;5;28;01mreturn\u001b[39;00m \u001b[38;5;28;43mself\u001b[39;49m\u001b[38;5;241;43m.\u001b[39;49m\u001b[43m__get_result\u001b[49m\u001b[43m(\u001b[49m\u001b[43m)\u001b[49m\n\u001b[1;32m    453\u001b[0m \u001b[38;5;28mself\u001b[39m\u001b[38;5;241m.\u001b[39m_condition\u001b[38;5;241m.\u001b[39mwait(timeout)\n\u001b[1;32m    455\u001b[0m \u001b[38;5;28;01mif\u001b[39;00m \u001b[38;5;28mself\u001b[39m\u001b[38;5;241m.\u001b[39m_state \u001b[38;5;129;01min\u001b[39;00m [CANCELLED, CANCELLED_AND_NOTIFIED]:\n",
      "File \u001b[0;32m/usr/lib/python3.10/concurrent/futures/_base.py:403\u001b[0m, in \u001b[0;36mFuture.__get_result\u001b[0;34m(self)\u001b[0m\n\u001b[1;32m    401\u001b[0m \u001b[38;5;28;01mif\u001b[39;00m \u001b[38;5;28mself\u001b[39m\u001b[38;5;241m.\u001b[39m_exception:\n\u001b[1;32m    402\u001b[0m     \u001b[38;5;28;01mtry\u001b[39;00m:\n\u001b[0;32m--> 403\u001b[0m         \u001b[38;5;28;01mraise\u001b[39;00m \u001b[38;5;28mself\u001b[39m\u001b[38;5;241m.\u001b[39m_exception\n\u001b[1;32m    404\u001b[0m     \u001b[38;5;28;01mfinally\u001b[39;00m:\n\u001b[1;32m    405\u001b[0m         \u001b[38;5;66;03m# Break a reference cycle with the exception in self._exception\u001b[39;00m\n\u001b[1;32m    406\u001b[0m         \u001b[38;5;28mself\u001b[39m \u001b[38;5;241m=\u001b[39m \u001b[38;5;28;01mNone\u001b[39;00m\n",
      "File \u001b[0;32m~/tradeadvisor/venv/lib/python3.10/site-packages/tenacity/__init__.py:382\u001b[0m, in \u001b[0;36mRetrying.__call__\u001b[0;34m(self, fn, *args, **kwargs)\u001b[0m\n\u001b[1;32m    380\u001b[0m \u001b[38;5;28;01mif\u001b[39;00m \u001b[38;5;28misinstance\u001b[39m(do, DoAttempt):\n\u001b[1;32m    381\u001b[0m     \u001b[38;5;28;01mtry\u001b[39;00m:\n\u001b[0;32m--> 382\u001b[0m         result \u001b[38;5;241m=\u001b[39m \u001b[43mfn\u001b[49m\u001b[43m(\u001b[49m\u001b[38;5;241;43m*\u001b[39;49m\u001b[43margs\u001b[49m\u001b[43m,\u001b[49m\u001b[43m \u001b[49m\u001b[38;5;241;43m*\u001b[39;49m\u001b[38;5;241;43m*\u001b[39;49m\u001b[43mkwargs\u001b[49m\u001b[43m)\u001b[49m\n\u001b[1;32m    383\u001b[0m     \u001b[38;5;28;01mexcept\u001b[39;00m \u001b[38;5;167;01mBaseException\u001b[39;00m:  \u001b[38;5;66;03m# noqa: B902\u001b[39;00m\n\u001b[1;32m    384\u001b[0m         retry_state\u001b[38;5;241m.\u001b[39mset_exception(sys\u001b[38;5;241m.\u001b[39mexc_info())  \u001b[38;5;66;03m# type: ignore[arg-type]\u001b[39;00m\n",
      "File \u001b[0;32m~/tradeadvisor/venv/lib/python3.10/site-packages/langchain/chat_models/openai.py:277\u001b[0m, in \u001b[0;36mChatOpenAI.completion_with_retry.<locals>._completion_with_retry\u001b[0;34m(**kwargs)\u001b[0m\n\u001b[1;32m    275\u001b[0m \u001b[38;5;129m@retry_decorator\u001b[39m\n\u001b[1;32m    276\u001b[0m \u001b[38;5;28;01mdef\u001b[39;00m \u001b[38;5;21m_completion_with_retry\u001b[39m(\u001b[38;5;241m*\u001b[39m\u001b[38;5;241m*\u001b[39mkwargs: Any) \u001b[38;5;241m-\u001b[39m\u001b[38;5;241m>\u001b[39m Any:\n\u001b[0;32m--> 277\u001b[0m     \u001b[38;5;28;01mreturn\u001b[39;00m \u001b[38;5;28;43mself\u001b[39;49m\u001b[38;5;241;43m.\u001b[39;49m\u001b[43mclient\u001b[49m\u001b[38;5;241;43m.\u001b[39;49m\u001b[43mcreate\u001b[49m\u001b[43m(\u001b[49m\u001b[38;5;241;43m*\u001b[39;49m\u001b[38;5;241;43m*\u001b[39;49m\u001b[43mkwargs\u001b[49m\u001b[43m)\u001b[49m\n",
      "File \u001b[0;32m~/tradeadvisor/venv/lib/python3.10/site-packages/openai/api_resources/chat_completion.py:25\u001b[0m, in \u001b[0;36mChatCompletion.create\u001b[0;34m(cls, *args, **kwargs)\u001b[0m\n\u001b[1;32m     23\u001b[0m \u001b[38;5;28;01mwhile\u001b[39;00m \u001b[38;5;28;01mTrue\u001b[39;00m:\n\u001b[1;32m     24\u001b[0m     \u001b[38;5;28;01mtry\u001b[39;00m:\n\u001b[0;32m---> 25\u001b[0m         \u001b[38;5;28;01mreturn\u001b[39;00m \u001b[38;5;28;43msuper\u001b[39;49m\u001b[43m(\u001b[49m\u001b[43m)\u001b[49m\u001b[38;5;241;43m.\u001b[39;49m\u001b[43mcreate\u001b[49m\u001b[43m(\u001b[49m\u001b[38;5;241;43m*\u001b[39;49m\u001b[43margs\u001b[49m\u001b[43m,\u001b[49m\u001b[43m \u001b[49m\u001b[38;5;241;43m*\u001b[39;49m\u001b[38;5;241;43m*\u001b[39;49m\u001b[43mkwargs\u001b[49m\u001b[43m)\u001b[49m\n\u001b[1;32m     26\u001b[0m     \u001b[38;5;28;01mexcept\u001b[39;00m TryAgain \u001b[38;5;28;01mas\u001b[39;00m e:\n\u001b[1;32m     27\u001b[0m         \u001b[38;5;28;01mif\u001b[39;00m timeout \u001b[38;5;129;01mis\u001b[39;00m \u001b[38;5;129;01mnot\u001b[39;00m \u001b[38;5;28;01mNone\u001b[39;00m \u001b[38;5;129;01mand\u001b[39;00m time\u001b[38;5;241m.\u001b[39mtime() \u001b[38;5;241m>\u001b[39m start \u001b[38;5;241m+\u001b[39m timeout:\n",
      "File \u001b[0;32m~/tradeadvisor/venv/lib/python3.10/site-packages/openai/api_resources/abstract/engine_api_resource.py:153\u001b[0m, in \u001b[0;36mEngineAPIResource.create\u001b[0;34m(cls, api_key, api_base, api_type, request_id, api_version, organization, **params)\u001b[0m\n\u001b[1;32m    127\u001b[0m \u001b[38;5;129m@classmethod\u001b[39m\n\u001b[1;32m    128\u001b[0m \u001b[38;5;28;01mdef\u001b[39;00m \u001b[38;5;21mcreate\u001b[39m(\n\u001b[1;32m    129\u001b[0m     \u001b[38;5;28mcls\u001b[39m,\n\u001b[0;32m   (...)\u001b[0m\n\u001b[1;32m    136\u001b[0m     \u001b[38;5;241m*\u001b[39m\u001b[38;5;241m*\u001b[39mparams,\n\u001b[1;32m    137\u001b[0m ):\n\u001b[1;32m    138\u001b[0m     (\n\u001b[1;32m    139\u001b[0m         deployment_id,\n\u001b[1;32m    140\u001b[0m         engine,\n\u001b[0;32m   (...)\u001b[0m\n\u001b[1;32m    150\u001b[0m         api_key, api_base, api_type, api_version, organization, \u001b[38;5;241m*\u001b[39m\u001b[38;5;241m*\u001b[39mparams\n\u001b[1;32m    151\u001b[0m     )\n\u001b[0;32m--> 153\u001b[0m     response, _, api_key \u001b[38;5;241m=\u001b[39m \u001b[43mrequestor\u001b[49m\u001b[38;5;241;43m.\u001b[39;49m\u001b[43mrequest\u001b[49m\u001b[43m(\u001b[49m\n\u001b[1;32m    154\u001b[0m \u001b[43m        \u001b[49m\u001b[38;5;124;43m\"\u001b[39;49m\u001b[38;5;124;43mpost\u001b[39;49m\u001b[38;5;124;43m\"\u001b[39;49m\u001b[43m,\u001b[49m\n\u001b[1;32m    155\u001b[0m \u001b[43m        \u001b[49m\u001b[43murl\u001b[49m\u001b[43m,\u001b[49m\n\u001b[1;32m    156\u001b[0m \u001b[43m        \u001b[49m\u001b[43mparams\u001b[49m\u001b[38;5;241;43m=\u001b[39;49m\u001b[43mparams\u001b[49m\u001b[43m,\u001b[49m\n\u001b[1;32m    157\u001b[0m \u001b[43m        \u001b[49m\u001b[43mheaders\u001b[49m\u001b[38;5;241;43m=\u001b[39;49m\u001b[43mheaders\u001b[49m\u001b[43m,\u001b[49m\n\u001b[1;32m    158\u001b[0m \u001b[43m        \u001b[49m\u001b[43mstream\u001b[49m\u001b[38;5;241;43m=\u001b[39;49m\u001b[43mstream\u001b[49m\u001b[43m,\u001b[49m\n\u001b[1;32m    159\u001b[0m \u001b[43m        \u001b[49m\u001b[43mrequest_id\u001b[49m\u001b[38;5;241;43m=\u001b[39;49m\u001b[43mrequest_id\u001b[49m\u001b[43m,\u001b[49m\n\u001b[1;32m    160\u001b[0m \u001b[43m        \u001b[49m\u001b[43mrequest_timeout\u001b[49m\u001b[38;5;241;43m=\u001b[39;49m\u001b[43mrequest_timeout\u001b[49m\u001b[43m,\u001b[49m\n\u001b[1;32m    161\u001b[0m \u001b[43m    \u001b[49m\u001b[43m)\u001b[49m\n\u001b[1;32m    163\u001b[0m     \u001b[38;5;28;01mif\u001b[39;00m stream:\n\u001b[1;32m    164\u001b[0m         \u001b[38;5;66;03m# must be an iterator\u001b[39;00m\n\u001b[1;32m    165\u001b[0m         \u001b[38;5;28;01massert\u001b[39;00m \u001b[38;5;129;01mnot\u001b[39;00m \u001b[38;5;28misinstance\u001b[39m(response, OpenAIResponse)\n",
      "File \u001b[0;32m~/tradeadvisor/venv/lib/python3.10/site-packages/openai/api_requestor.py:298\u001b[0m, in \u001b[0;36mAPIRequestor.request\u001b[0;34m(self, method, url, params, headers, files, stream, request_id, request_timeout)\u001b[0m\n\u001b[1;32m    277\u001b[0m \u001b[38;5;28;01mdef\u001b[39;00m \u001b[38;5;21mrequest\u001b[39m(\n\u001b[1;32m    278\u001b[0m     \u001b[38;5;28mself\u001b[39m,\n\u001b[1;32m    279\u001b[0m     method,\n\u001b[0;32m   (...)\u001b[0m\n\u001b[1;32m    286\u001b[0m     request_timeout: Optional[Union[\u001b[38;5;28mfloat\u001b[39m, Tuple[\u001b[38;5;28mfloat\u001b[39m, \u001b[38;5;28mfloat\u001b[39m]]] \u001b[38;5;241m=\u001b[39m \u001b[38;5;28;01mNone\u001b[39;00m,\n\u001b[1;32m    287\u001b[0m ) \u001b[38;5;241m-\u001b[39m\u001b[38;5;241m>\u001b[39m Tuple[Union[OpenAIResponse, Iterator[OpenAIResponse]], \u001b[38;5;28mbool\u001b[39m, \u001b[38;5;28mstr\u001b[39m]:\n\u001b[1;32m    288\u001b[0m     result \u001b[38;5;241m=\u001b[39m \u001b[38;5;28mself\u001b[39m\u001b[38;5;241m.\u001b[39mrequest_raw(\n\u001b[1;32m    289\u001b[0m         method\u001b[38;5;241m.\u001b[39mlower(),\n\u001b[1;32m    290\u001b[0m         url,\n\u001b[0;32m   (...)\u001b[0m\n\u001b[1;32m    296\u001b[0m         request_timeout\u001b[38;5;241m=\u001b[39mrequest_timeout,\n\u001b[1;32m    297\u001b[0m     )\n\u001b[0;32m--> 298\u001b[0m     resp, got_stream \u001b[38;5;241m=\u001b[39m \u001b[38;5;28;43mself\u001b[39;49m\u001b[38;5;241;43m.\u001b[39;49m\u001b[43m_interpret_response\u001b[49m\u001b[43m(\u001b[49m\u001b[43mresult\u001b[49m\u001b[43m,\u001b[49m\u001b[43m \u001b[49m\u001b[43mstream\u001b[49m\u001b[43m)\u001b[49m\n\u001b[1;32m    299\u001b[0m     \u001b[38;5;28;01mreturn\u001b[39;00m resp, got_stream, \u001b[38;5;28mself\u001b[39m\u001b[38;5;241m.\u001b[39mapi_key\n",
      "File \u001b[0;32m~/tradeadvisor/venv/lib/python3.10/site-packages/openai/api_requestor.py:700\u001b[0m, in \u001b[0;36mAPIRequestor._interpret_response\u001b[0;34m(self, result, stream)\u001b[0m\n\u001b[1;32m    692\u001b[0m     \u001b[38;5;28;01mreturn\u001b[39;00m (\n\u001b[1;32m    693\u001b[0m         \u001b[38;5;28mself\u001b[39m\u001b[38;5;241m.\u001b[39m_interpret_response_line(\n\u001b[1;32m    694\u001b[0m             line, result\u001b[38;5;241m.\u001b[39mstatus_code, result\u001b[38;5;241m.\u001b[39mheaders, stream\u001b[38;5;241m=\u001b[39m\u001b[38;5;28;01mTrue\u001b[39;00m\n\u001b[1;32m    695\u001b[0m         )\n\u001b[1;32m    696\u001b[0m         \u001b[38;5;28;01mfor\u001b[39;00m line \u001b[38;5;129;01min\u001b[39;00m parse_stream(result\u001b[38;5;241m.\u001b[39miter_lines())\n\u001b[1;32m    697\u001b[0m     ), \u001b[38;5;28;01mTrue\u001b[39;00m\n\u001b[1;32m    698\u001b[0m \u001b[38;5;28;01melse\u001b[39;00m:\n\u001b[1;32m    699\u001b[0m     \u001b[38;5;28;01mreturn\u001b[39;00m (\n\u001b[0;32m--> 700\u001b[0m         \u001b[38;5;28;43mself\u001b[39;49m\u001b[38;5;241;43m.\u001b[39;49m\u001b[43m_interpret_response_line\u001b[49m\u001b[43m(\u001b[49m\n\u001b[1;32m    701\u001b[0m \u001b[43m            \u001b[49m\u001b[43mresult\u001b[49m\u001b[38;5;241;43m.\u001b[39;49m\u001b[43mcontent\u001b[49m\u001b[38;5;241;43m.\u001b[39;49m\u001b[43mdecode\u001b[49m\u001b[43m(\u001b[49m\u001b[38;5;124;43m\"\u001b[39;49m\u001b[38;5;124;43mutf-8\u001b[39;49m\u001b[38;5;124;43m\"\u001b[39;49m\u001b[43m)\u001b[49m\u001b[43m,\u001b[49m\n\u001b[1;32m    702\u001b[0m \u001b[43m            \u001b[49m\u001b[43mresult\u001b[49m\u001b[38;5;241;43m.\u001b[39;49m\u001b[43mstatus_code\u001b[49m\u001b[43m,\u001b[49m\n\u001b[1;32m    703\u001b[0m \u001b[43m            \u001b[49m\u001b[43mresult\u001b[49m\u001b[38;5;241;43m.\u001b[39;49m\u001b[43mheaders\u001b[49m\u001b[43m,\u001b[49m\n\u001b[1;32m    704\u001b[0m \u001b[43m            \u001b[49m\u001b[43mstream\u001b[49m\u001b[38;5;241;43m=\u001b[39;49m\u001b[38;5;28;43;01mFalse\u001b[39;49;00m\u001b[43m,\u001b[49m\n\u001b[1;32m    705\u001b[0m \u001b[43m        \u001b[49m\u001b[43m)\u001b[49m,\n\u001b[1;32m    706\u001b[0m         \u001b[38;5;28;01mFalse\u001b[39;00m,\n\u001b[1;32m    707\u001b[0m     )\n",
      "File \u001b[0;32m~/tradeadvisor/venv/lib/python3.10/site-packages/openai/api_requestor.py:763\u001b[0m, in \u001b[0;36mAPIRequestor._interpret_response_line\u001b[0;34m(self, rbody, rcode, rheaders, stream)\u001b[0m\n\u001b[1;32m    761\u001b[0m stream_error \u001b[38;5;241m=\u001b[39m stream \u001b[38;5;129;01mand\u001b[39;00m \u001b[38;5;124m\"\u001b[39m\u001b[38;5;124merror\u001b[39m\u001b[38;5;124m\"\u001b[39m \u001b[38;5;129;01min\u001b[39;00m resp\u001b[38;5;241m.\u001b[39mdata\n\u001b[1;32m    762\u001b[0m \u001b[38;5;28;01mif\u001b[39;00m stream_error \u001b[38;5;129;01mor\u001b[39;00m \u001b[38;5;129;01mnot\u001b[39;00m \u001b[38;5;241m200\u001b[39m \u001b[38;5;241m<\u001b[39m\u001b[38;5;241m=\u001b[39m rcode \u001b[38;5;241m<\u001b[39m \u001b[38;5;241m300\u001b[39m:\n\u001b[0;32m--> 763\u001b[0m     \u001b[38;5;28;01mraise\u001b[39;00m \u001b[38;5;28mself\u001b[39m\u001b[38;5;241m.\u001b[39mhandle_error_response(\n\u001b[1;32m    764\u001b[0m         rbody, rcode, resp\u001b[38;5;241m.\u001b[39mdata, rheaders, stream_error\u001b[38;5;241m=\u001b[39mstream_error\n\u001b[1;32m    765\u001b[0m     )\n\u001b[1;32m    766\u001b[0m \u001b[38;5;28;01mreturn\u001b[39;00m resp\n",
      "\u001b[0;31mInvalidRequestError\u001b[0m: This model's maximum context length is 4097 tokens. However, your messages resulted in 4130 tokens (3991 in the messages, 139 in the functions). Please reduce the length of the messages or functions."
     ]
    }
   ],
   "source": [
    "result = agent.run('what were the investments in 2023 in csv ')\n",
    "result"
   ]
  },
  {
   "cell_type": "code",
   "execution_count": null,
   "id": "5349103e",
   "metadata": {},
   "outputs": [],
   "source": []
  }
 ],
 "metadata": {
  "kernelspec": {
   "display_name": "Python 3 (ipykernel)",
   "language": "python",
   "name": "python3"
  },
  "language_info": {
   "codemirror_mode": {
    "name": "ipython",
    "version": 3
   },
   "file_extension": ".py",
   "mimetype": "text/x-python",
   "name": "python",
   "nbconvert_exporter": "python",
   "pygments_lexer": "ipython3",
   "version": "3.10.12"
  }
 },
 "nbformat": 4,
 "nbformat_minor": 5
}
